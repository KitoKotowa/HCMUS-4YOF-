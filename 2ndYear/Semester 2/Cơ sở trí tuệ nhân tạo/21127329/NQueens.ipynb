{
  "nbformat": 4,
  "nbformat_minor": 0,
  "metadata": {
    "colab": {
      "provenance": []
    },
    "kernelspec": {
      "name": "python3",
      "display_name": "Python 3"
    },
    "language_info": {
      "name": "python"
    }
  },
  "cells": [
    {
      "cell_type": "markdown",
      "source": [
        "Prob.py"
      ],
      "metadata": {
        "id": "nnk8-Wsxj7J0"
      }
    },
    {
      "cell_type": "code",
      "source": [
        "from abc import ABC, abstractmethod\n",
        "\n",
        "class Problem(ABC):\n",
        "  def __init__(self) -> None:\n",
        "    self.init_state = []\n",
        "    self.n = 0\n",
        "  \n",
        "  @abstractmethod\n",
        "  def goal_test(self, state) -> bool: pass # Check if state is final\n",
        "\n",
        "  @abstractmethod\n",
        "  def actions(self, state): pass # Show available actions \n",
        "\n",
        "  @abstractmethod\n",
        "  def g(self, from_state, action): pass\n",
        "\n",
        "  @abstractmethod\n",
        "  def h(self, state): pass #Heuristic value  \n",
        "\n",
        "  @abstractmethod\n",
        "  def random_state(self): pass # Return random state of the problem"
      ],
      "metadata": {
        "id": "OD8-LIjKj8UE"
      },
      "execution_count": null,
      "outputs": []
    },
    {
      "cell_type": "markdown",
      "source": [
        "nQueens.py"
      ],
      "metadata": {
        "id": "8-0wmv2lkSVP"
      }
    },
    {
      "cell_type": "code",
      "source": [
        "from Prob import* \n",
        "import random\n",
        "\n",
        "class nQueens(Problem):\n",
        "    def __init__(self, n) -> None: \n",
        "        self.init_state = tuple(random.randrange(0, n) for _ in range (n))\n",
        "        self.n = n\n",
        "    \n",
        "    def actions(self, state) -> bool:\n",
        "        action = []\n",
        "        for row in range(self.n):\n",
        "            for col in range(self.n):\n",
        "                if col != state[row]:\n",
        "                    new_action = list(state[:])\n",
        "                    new_action[row] = col\n",
        "                    action.append(tuple(new_action))\n",
        "        return action\n",
        "    \n",
        "    def result(self, state, action): \n",
        "        newState = list(state[:])\n",
        "        newState[action[0]] = action[1] # Location of a queen on a column \n",
        "        return tuple(newState)\n",
        "    \n",
        "    def conflict_check(self, r1, c1, r2, c2): #Check vertically, horizontally and diagonally\n",
        "        return r1 == r2 or c1 == c2 or abs(r1 - r2) == abs(c1 - c2)\n",
        "\n",
        "    def goal_test(self, state: 'tuple[int]') -> bool:\n",
        "        if self.h(state):\n",
        "            return False\n",
        "        return True\n",
        "        \n",
        "    def g(self, from_state, to_state): \n",
        "        return self.h(to_state)    \n",
        "        \n",
        "    def h(self, state: 'tuple[int]'):\n",
        "        conflict_count = 0\n",
        "        for i in range(len(state) - 1):\n",
        "            for j in range(i + 1, len(state)):\n",
        "                if self.conflict_check(i, state[i], j, state[j]): # If conflict occurs, add 1 to the current conflict value\n",
        "                    conflict_count += 1\n",
        "        return conflict_count\n",
        "\n",
        "    def random_state(self) -> 'tuple[int]':\n",
        "        return tuple([random.randrange(0, self.n) for _ in range(self.n)])\n",
        "\n"
      ],
      "metadata": {
        "id": "ikDymn-hkc8L"
      },
      "execution_count": null,
      "outputs": []
    },
    {
      "cell_type": "markdown",
      "source": [
        "A*"
      ],
      "metadata": {
        "id": "K76xu8NblAkN"
      }
    },
    {
      "cell_type": "code",
      "source": [
        "from nQueens import *\n",
        "import heapq\n",
        "\n",
        "class A_Star:\n",
        "    class Node: \n",
        "        def __init__(self, problem: Problem, state,  parent: 'A_Star.Node' = None, path_cost = 0 ) -> None:\n",
        "            self.state = state\n",
        "            self.problem = problem\n",
        "            self.h = problem.h(state)\n",
        "            self.g = path_cost + self.h\n",
        "            self.parent = parent\n",
        "            \n",
        "\n",
        "        def child_node(self, action): # Return child node of given action \n",
        "            return A_Star.Node(self.problem, action, self, self.h)\n",
        "\n",
        "        def __repr__(self): \n",
        "            return \"<Node {}( g = {}, h = {})>\".format(self.state, self.g, self.h)\n",
        "\n",
        "        def __lt__(self, other: 'A_Star.Node'):\n",
        "            return (self.g + self.h) < (other.g + other.h)\n",
        "\n",
        "        def path(self) -> list:  # Returns list of nodes from the current node to root node\n",
        "            node, path_back = self, [] \n",
        "            while node:\n",
        "                path_back.append(node)\n",
        "                node = node.parent\n",
        "            path_back.reverse()\n",
        "            return path_back\n",
        "\n",
        "        def print_board(self):\n",
        "            k = len(self.state)\n",
        "            for i in range(k):\n",
        "                for j in range(k):\n",
        "                    print(\"Q \" if i == self.state[j] else \"* \" , end='')\n",
        "                print()\n",
        "                   \n",
        "\n",
        "    def __init__(self, problem: Problem) -> None:\n",
        "        self.problem = problem\n",
        "        self.root = A_Star.Node(problem, problem.init_state) \n",
        "    \n",
        "    def solution(self): # Returns actions of nodes from the current node to root node\n",
        "            frontier = [self.root]\n",
        "            heapq.heapify(frontier)\n",
        "            explored = set()\n",
        "            explored.add(self.root.state)\n",
        "            while frontier:\n",
        "                cur = heapq.heappop(frontier)\n",
        "                if not cur.h:\n",
        "                    return cur\n",
        "                \n",
        "                for action in self.problem.actions(cur.state):\n",
        "                    new_node = cur.child_node(action)\n",
        "                    if new_node.state not in explored:\n",
        "                        heapq.heappush(frontier, new_node)\n",
        "                        explored.add(new_node.state)\n",
        "            return None\n",
        "    \n"
      ],
      "metadata": {
        "id": "Z3XwsCOHjxjL"
      },
      "execution_count": null,
      "outputs": []
    },
    {
      "cell_type": "markdown",
      "source": [
        "UCS"
      ],
      "metadata": {
        "id": "dGN5cSNOlB3C"
      }
    },
    {
      "cell_type": "code",
      "source": [
        "from nQueens import *\n",
        "import heapq\n",
        "\n",
        "class UCS:\n",
        "    class Node: \n",
        "        def __init__(self, problem: Problem, state, parent: 'UCS.Node' = None, path_cost=0) -> None:\n",
        "            self.state = state\n",
        "            self.problem = problem\n",
        "            self.g = path_cost\n",
        "            self.h = 0\n",
        "            self.parent = parent\n",
        "            \n",
        "        def child_node(self, action): # Return child node of given action \n",
        "            return UCS.Node(self.problem,action, self, self.g + self.problem.g(self.state, action))\n",
        "\n",
        "        def __repr__(self): \n",
        "            return \"<Node {}( g = {})>\".format(self.state, self.g)\n",
        "\n",
        "        def __lt__(self, other: 'UCS.Node'):\n",
        "            return self.g < other.g\n",
        "        \n",
        "        def path(self) -> list:  # Returns list of nodes from the current node to root node\n",
        "            node, path_back = self, [] \n",
        "            while node:\n",
        "                path_back.append(node)\n",
        "                node = node.parent\n",
        "            path_back.reverse()\n",
        "            return path_back\n",
        "\n",
        "        def print_board(self):\n",
        "            k = len(self.state)\n",
        "            for i in range(k):\n",
        "                for j in range(k):\n",
        "                    print(\"Q \" if i == self.state[j] else \"* \" , end='')\n",
        "                print()\n",
        "                   \n",
        "\n",
        "    def __init__(self, problem: Problem) -> None:\n",
        "        self.problem = problem\n",
        "        self.root = UCS.Node(problem, problem.init_state) \n",
        "    \n",
        "    def solution(self): # Returns actions of nodes from the current node to root node\n",
        "        frontier = [self.root]\n",
        "        heapq.heapify(frontier)\n",
        "        explored = set()\n",
        "        while frontier:\n",
        "            cur = heapq.heappop(frontier)\n",
        "            if self.problem.goal_test(cur.state):\n",
        "                return cur\n",
        "            if cur.state in explored: continue\n",
        "\n",
        "            explored.add(cur.state)\n",
        "            for action in self.problem.actions(cur.state):\n",
        "                newNode = cur.child_node(action)\n",
        "                if newNode.state not in explored:\n",
        "                    heapq.heappush(frontier, newNode)\n",
        "        return None"
      ],
      "metadata": {
        "id": "VMzL1MVzk57H"
      },
      "execution_count": null,
      "outputs": []
    },
    {
      "cell_type": "markdown",
      "source": [
        "Genetic Algorithm"
      ],
      "metadata": {
        "id": "5Rn0VTDulF0l"
      }
    },
    {
      "cell_type": "code",
      "source": [
        "from nQueens import* \n",
        "import random\n",
        "\n",
        "class Genetic:\n",
        "  POPULATION_SIZE = 250\n",
        "  MAX_GEN = 100\n",
        "  MUTATION_PROB = 0.1\n",
        "\n",
        "  def __init__(self, problem: Problem) -> None:\n",
        "    self.problem = problem\n",
        "    self.n = problem.n\n",
        "    self.max_fitness = (self.n * (self.n - 1)) // 2\n",
        "    self.population = [problem.random_state() for _ in range(Genetic.POPULATION_SIZE)]\n",
        "    self.gen = 0\n",
        "    self.solution = None\n",
        "  \n",
        "  def fitness(self, chromosome):\n",
        "    return self.max_fitness - self.problem.h(chromosome)\n",
        "\n",
        "  def calc_prob(self, fitness): #Calculate probabilty with current fitness\n",
        "    return fitness / self.max_fitness\n",
        "\n",
        "  def cross_over(self, chrom_1, chrom_2):\n",
        "    n = len(chrom_1)\n",
        "    split = random.randrange(0, n)\n",
        "    child = chrom_1[:split] + chrom_2[split:]\n",
        "    return child\n",
        "\n",
        "  def mutate(self, chrom):\n",
        "    pos = random.randrange(0, len(chrom))\n",
        "    new_chrom = list(chrom)\n",
        "    new_chrom[pos] = random.randrange(0, self.n)\n",
        "    return tuple(new_chrom)\n",
        "\n",
        "  def print_board(self):\n",
        "        print(\"Population size: {}\".format(Genetic.POPULATION_SIZE))\n",
        "        print(\"Mutation probability: {}.\".format(Genetic.MUTATION_PROB))\n",
        "        print(\"Solved in generation: {}\".format(self.gen))\n",
        "        k = len(self.solution)\n",
        "        for i in range(k):\n",
        "            for j in range(k):\n",
        "                print(\"Q \" if i == self.state[j] else \"* \" , end='')\n",
        "            print()  \n",
        "\n",
        "  def solution(self, no_limit=False):\n",
        "    while no_limit or self.gen != Genetic.MAX_GEN:\n",
        "      all_fitness = [self.fitness(chrom) for chrom in self.population]\n",
        "      if self.max_fitness in all_fitness:\n",
        "        self.solution = self.population[all_fitness.index(self.max_fitness)]\n",
        "        return\n",
        "\n",
        "      # Calculate probabilitiy for each chromosome to be choosen for next generation\n",
        "      self.probs = [self.calc_prob(f) for f in all_fitness]\n",
        "      new_population = []\n",
        "      for _ in range(len(self.population)):\n",
        "        # Selection\n",
        "        first, second = random.choices(self.population, weights=self.probs, k=2)\n",
        "        # Cross-over\n",
        "        child = self.cross_over(first, second)\n",
        "\n",
        "        # Mutation\n",
        "        if random.random() < Genetic.MUTATION_PROB:\n",
        "          child = self.mutate(child)\n",
        "\n",
        "        new_population.append(child)\n",
        "\n",
        "      del self.population\n",
        "      self.population = new_population\n",
        "      self.gen += 1\n"
      ],
      "metadata": {
        "id": "mwxi7AdFlE7a"
      },
      "execution_count": null,
      "outputs": []
    },
    {
      "cell_type": "markdown",
      "source": [
        "main func"
      ],
      "metadata": {
        "id": "EseOn1b3k76O"
      }
    },
    {
      "cell_type": "code",
      "source": [
        "from time import perf_counter_ns\n",
        "import tracemalloc\n",
        "from Prob import *\n",
        "from nQueens import *\n",
        "from A_Star import *\n",
        "from UCS import *\n",
        "from Genetic import* \n",
        "\n",
        "N = 8\n",
        "problem = nQueens(N)\n",
        "testcase = 3\n",
        "def queen_test(func):\n",
        "    def calculate():\n",
        "        t = []\n",
        "        m = []\n",
        "        for i in range(testcase):\n",
        "            tracemalloc.start()\n",
        "            t1 = perf_counter_ns()\n",
        "            print(\"Testcase no.{} :\".format(i+1))\n",
        "            func()\n",
        "            t2 = perf_counter_ns()\n",
        "            peak = tracemalloc.get_traced_memory()[1]\n",
        "            tracemalloc.stop()\n",
        "            t.append((t2 - t1) / 10**6)\n",
        "            m.append(peak / 1024**2)\n",
        "            print(\"Runtime of testcase no.{} : {runtime:.2f} ms\".format(i+1, runtime = t[i]))\n",
        "            print(\"Memory of testcase no.{} : {mem:.4f} MB\".format(i+1, mem = m[i]))\n",
        "\n",
        "        print()\n",
        "        print(\"Average time: {avg_runtime:.2f} ms\".format(avg_runtime = sum(t) / testcase))\n",
        "        print(\"Average memory usage: {avg_mem:.4f} MB.\".format(avg_mem = sum(m) / testcase))\n",
        "    return calculate\n",
        "\n",
        "@queen_test\n",
        "def run_astar_search():\n",
        "    astar = A_Star(nQueens(N))\n",
        "    astar.solution().print_board()\n",
        "\n",
        "@queen_test\n",
        "def run_ucs_search():\n",
        "    ucs = UCS(nQueens(N))\n",
        "    ucs.solution().print_board()\n",
        "\n",
        "@queen_test\n",
        "def run_genetic():\n",
        "    gene = Genetic(nQueens(N))\n",
        "    gene.solution(1)\n",
        "    gene.print_board()\n",
        "\n",
        "def main():\n",
        "    print(\"1. A* Search\")\n",
        "    print(\"2. UCS Search\")\n",
        "    print(\"3. Genetic Algorithm\")\n",
        "    enter = int(input(\"Choose an algorithm to solve N-queens: \"))\n",
        "    if enter == 1: \n",
        "        run_astar_search()\n",
        "    elif enter == 2:\n",
        "        run_ucs_search()\n",
        "    elif enter == 3:\n",
        "        run_genetic()\n",
        "\n",
        "main()"
      ],
      "metadata": {
        "colab": {
          "base_uri": "https://localhost:8080/",
          "height": 373
        },
        "id": "Hza1K3Y7kSe7",
        "outputId": "71ac8ec7-a252-48c0-ae4f-bab248a013f4"
      },
      "execution_count": null,
      "outputs": [
        {
          "output_type": "error",
          "ename": "ModuleNotFoundError",
          "evalue": "ignored",
          "traceback": [
            "\u001b[0;31m---------------------------------------------------------------------------\u001b[0m",
            "\u001b[0;31mModuleNotFoundError\u001b[0m                       Traceback (most recent call last)",
            "\u001b[0;32m<ipython-input-1-b77f0b599cb3>\u001b[0m in \u001b[0;36m<module>\u001b[0;34m\u001b[0m\n\u001b[1;32m      1\u001b[0m \u001b[0;32mfrom\u001b[0m \u001b[0mtime\u001b[0m \u001b[0;32mimport\u001b[0m \u001b[0mperf_counter_ns\u001b[0m\u001b[0;34m\u001b[0m\u001b[0;34m\u001b[0m\u001b[0m\n\u001b[1;32m      2\u001b[0m \u001b[0;32mimport\u001b[0m \u001b[0mtracemalloc\u001b[0m\u001b[0;34m\u001b[0m\u001b[0;34m\u001b[0m\u001b[0m\n\u001b[0;32m----> 3\u001b[0;31m \u001b[0;32mfrom\u001b[0m \u001b[0mProb\u001b[0m \u001b[0;32mimport\u001b[0m \u001b[0;34m*\u001b[0m\u001b[0;34m\u001b[0m\u001b[0;34m\u001b[0m\u001b[0m\n\u001b[0m\u001b[1;32m      4\u001b[0m \u001b[0;32mfrom\u001b[0m \u001b[0mnQueens\u001b[0m \u001b[0;32mimport\u001b[0m \u001b[0;34m*\u001b[0m\u001b[0;34m\u001b[0m\u001b[0;34m\u001b[0m\u001b[0m\n\u001b[1;32m      5\u001b[0m \u001b[0;32mfrom\u001b[0m \u001b[0mA_Star\u001b[0m \u001b[0;32mimport\u001b[0m \u001b[0;34m*\u001b[0m\u001b[0;34m\u001b[0m\u001b[0;34m\u001b[0m\u001b[0m\n",
            "\u001b[0;31mModuleNotFoundError\u001b[0m: No module named 'Prob'",
            "",
            "\u001b[0;31m---------------------------------------------------------------------------\u001b[0;32m\nNOTE: If your import is failing due to a missing package, you can\nmanually install dependencies using either !pip or !apt.\n\nTo view examples of installing some common dependencies, click the\n\"Open Examples\" button below.\n\u001b[0;31m---------------------------------------------------------------------------\u001b[0m\n"
          ],
          "errorDetails": {
            "actions": [
              {
                "action": "open_url",
                "actionText": "Open Examples",
                "url": "/notebooks/snippets/importing_libraries.ipynb"
              }
            ]
          }
        }
      ]
    }
  ]
}