{
 "cells": [
  {
   "cell_type": "code",
   "execution_count": 3,
   "metadata": {},
   "outputs": [],
   "source": [
    "from bardapi import Bard\n",
    "from typing import Any, List, Mapping, Optional\n",
    "from getpass import getpass\n",
    "import os"
   ]
  },
  {
   "cell_type": "code",
   "execution_count": 11,
   "metadata": {},
   "outputs": [],
   "source": [
    "from langchain.chains import RetrievalQA #-> for retrieval QA\n",
    "from langchain.chains.question_answering import load_qa_chain #-> for load QA\n",
    "from langchain.indexes import VectorstoreIndexCreator #-> for retrieval QA using vectors index creator. it uses fewer codes with less tokens. So I think this is the best way.\n",
    "\n",
    "from langchain.document_loaders import TextLoader, PyPDFLoader, DataFrameLoader #-> types of data loader\n",
    "from langchain.text_splitter import CharacterTextSplitter, RecursiveCharacterTextSplitter #-> to splits data to chunks\n",
    "from langchain.vectorstores import Chroma #to create a db of chunks\n",
    "from langchain.embeddings import HuggingFaceEmbeddings, SentenceTransformerEmbeddings"
   ]
  },
  {
   "cell_type": "code",
   "execution_count": 5,
   "metadata": {},
   "outputs": [],
   "source": [
    "os.environ['_BARD_API_KEY'] = \"dwjgofllW12z8zTkVaT-GrkUJvxnb0I4C2HRMnhzzYkiX75RbT9sHfiXzxlxqhgJ8zlFhA.\""
   ]
  },
  {
   "cell_type": "code",
   "execution_count": 6,
   "metadata": {},
   "outputs": [],
   "source": [
    "from langchain.llms.base import LLM\n",
    "from langchain.callbacks.manager import CallbackManagerForLLMRun\n",
    "class BardLLM(LLM):\n",
    "\n",
    "    @property\n",
    "    def _llm_type(self) -> str:\n",
    "        return \"custom\"\n",
    "\n",
    "    def _call(\n",
    "        self,\n",
    "        prompt: str,\n",
    "        stop: Optional[List[str]] = None,\n",
    "        run_manager: Optional[CallbackManagerForLLMRun] = None,\n",
    "    ) -> str:\n",
    "        response = Bard(token=os.environ['_BARD_API_KEY']).get_answer(prompt)['content']\n",
    "        return response\n",
    "\n",
    "    @property\n",
    "    def _identifying_params(self) -> Mapping[str, Any]:\n",
    "        \"\"\"Get the identifying parameters.\"\"\"\n",
    "        return {}"
   ]
  },
  {
   "cell_type": "code",
   "execution_count": 7,
   "metadata": {},
   "outputs": [],
   "source": [
    "llm=BardLLM()"
   ]
  },
  {
   "cell_type": "code",
   "execution_count": null,
   "metadata": {},
   "outputs": [],
   "source": []
  },
  {
   "cell_type": "code",
   "execution_count": 12,
   "metadata": {},
   "outputs": [],
   "source": [
    "embeddings = SentenceTransformerEmbeddings(model_name=\"keepitreal/vietnamese-sbert\")\n",
    "\n",
    "# embeddings = HuggingFaceEmbeddings(model_name=\"keepitreal/vietnamese-sbert\")"
   ]
  },
  {
   "cell_type": "code",
   "execution_count": 13,
   "metadata": {},
   "outputs": [],
   "source": [
    "db = Chroma(persist_directory=\"./chroma_index_2\", embedding_function=embeddings)"
   ]
  },
  {
   "cell_type": "code",
   "execution_count": 14,
   "metadata": {},
   "outputs": [],
   "source": [
    "from langchain.chains import RetrievalQA\n",
    "\n",
    "qa = RetrievalQA.from_chain_type(\n",
    "    llm=llm,\n",
    "    chain_type=\"stuff\",\n",
    "    retriever=db.as_retriever(search_type=\"similarity\", search_kwargs={\"k\":10}),\n",
    "    return_source_documents=True)"
   ]
  },
  {
   "cell_type": "code",
   "execution_count": 9,
   "metadata": {},
   "outputs": [],
   "source": [
    "from langchain import PromptTemplate"
   ]
  },
  {
   "cell_type": "code",
   "execution_count": 15,
   "metadata": {},
   "outputs": [],
   "source": [
    "question_template = \"\"\"\n",
    "  Use the following pieces of context to answer the question at the end.\n",
    "  If you don't know the answer, just say that you don't know, don't try to\n",
    "  make up an answer.\n",
    "  Imagine you're talking to a friend and use natural language and phrasing.\n",
    "  You can only use Vietnamese and do not use other languages.\n",
    "\n",
    "  {context}\n",
    "  Question: {question}\n",
    "  Helpful Answer:\n",
    "  \"\"\"\n",
    "QUESTION_PROMPT = PromptTemplate(\n",
    "        template=question_template, input_variables=[\"question\", \"context\"]\n",
    "    )"
   ]
  },
  {
   "cell_type": "code",
   "execution_count": 16,
   "metadata": {},
   "outputs": [],
   "source": [
    "question = \"Gợi ý cho tôi những bộ phim tương tự Toy Story\"\n",
    "# question = str(input())\n",
    "qa.combine_documents_chain.llm_chain.prompt = QUESTION_PROMPT\n",
    "qa.combine_documents_chain.verbose = True\n",
    "qa.return_source_documents = True"
   ]
  },
  {
   "cell_type": "code",
   "execution_count": 17,
   "metadata": {},
   "outputs": [
    {
     "name": "stdout",
     "output_type": "stream",
     "text": [
      "\n",
      "\n",
      "\u001b[1m> Entering new StuffDocumentsChain chain...\u001b[0m\n",
      "\n",
      "\u001b[1m> Finished chain.\u001b[0m\n"
     ]
    }
   ],
   "source": [
    "result = qa({\"query\":question,})"
   ]
  },
  {
   "cell_type": "code",
   "execution_count": 18,
   "metadata": {},
   "outputs": [
    {
     "name": "stdout",
     "output_type": "stream",
     "text": [
      "**Gợi ý phim tương tự Toy Story**\n",
      "\n",
      "Toy Story là một bộ phim hoạt hình kinh điển của Pixar, kể về câu chuyện của những món đồ chơi có ý thức và có thể hoạt động khi không có con người. Phim đã được khen ngợi về hình ảnh, âm nhạc, cốt truyện và nhân vật.\n",
      "\n",
      "Dựa trên những tiêu chí này, mình có thể gợi ý cho bạn một số bộ phim tương tự Toy Story như sau:\n",
      "\n",
      "* **A Bug's Life (1998)**: Phim kể về cuộc chiến giữa một đàn kiến và một nhóm bọ cánh cứng ăn thịt. Phim có hình ảnh đẹp mắt, cốt truyện hài hước và nhân vật đáng yêu.\n",
      "* **Monsters, Inc. (2001)**: Phim kể về hai con quái vật phải làm việc cho một công ty chuyên thu thập tiếng thét của trẻ em. Phim có hình ảnh sáng tạo, cốt truyện hấp dẫn và nhân vật thú vị.\n",
      "* **Finding Nemo (2003)**: Phim kể về cuộc hành trình của một chú cá hề đi tìm con trai bị lạc. Phim có hình ảnh sống động, cốt truyện cảm động và nhân vật dễ thương.\n",
      "* **Wall-E (2008)**: Phim kể về một chú robot dọn rác sống sót trong một thế giới bị bỏ hoang. Phim có hình ảnh đẹp mắt, cốt truyện ý nghĩa và nhân vật đáng yêu.\n",
      "* **Up (2009)**: Phim kể về một ông lão già nua và một chú bé thám hiểm đi tìm một thác nước huyền thoại. Phim có hình ảnh đẹp mắt, cốt truyện cảm động và nhân vật đáng yêu.\n",
      "\n",
      "Ngoài ra, bạn cũng có thể tham khảo một số bộ phim sau:\n",
      "\n",
      "* **The Iron Giant (1999)**\n",
      "* **Ratatouille (2007)**\n",
      "* **The Incredibles (2004)**\n",
      "* **Coco (2017)**\n",
      "* **Turning Red (2022)**\n",
      "\n",
      "Những bộ phim này đều được sản xuất bởi Pixar và đều có những điểm tương đồng với Toy Story như:\n",
      "\n",
      "* **Đề tài về đồ chơi, động vật hoặc các vật vô tri vô giác có ý thức.**\n",
      "* **Cốt truyện hài hước, cảm động hoặc ý nghĩa.**\n",
      "* **Nhân vật đáng yêu, dễ thương.**\n",
      "\n",
      "Hy vọng những gợi ý này sẽ giúp bạn tìm được những bộ phim mới để thưởng thức.\n"
     ]
    }
   ],
   "source": [
    "print(result['result'])"
   ]
  },
  {
   "cell_type": "code",
   "execution_count": null,
   "metadata": {},
   "outputs": [],
   "source": []
  }
 ],
 "metadata": {
  "kernelspec": {
   "display_name": "Python 3",
   "language": "python",
   "name": "python3"
  },
  "language_info": {
   "codemirror_mode": {
    "name": "ipython",
    "version": 3
   },
   "file_extension": ".py",
   "mimetype": "text/x-python",
   "name": "python",
   "nbconvert_exporter": "python",
   "pygments_lexer": "ipython3",
   "version": "3.11.0"
  }
 },
 "nbformat": 4,
 "nbformat_minor": 2
}
