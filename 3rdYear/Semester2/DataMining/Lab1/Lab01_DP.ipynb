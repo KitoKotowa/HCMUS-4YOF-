{
 "cells": [
  {
   "cell_type": "markdown",
   "metadata": {},
   "source": [
    "# Lab 01: Data pre-processing"
   ]
  },
  {
   "cell_type": "markdown",
   "metadata": {},
   "source": [
    "- Student ID: 21127329  \n",
    "- Student name: Châu Tấn Kiệt"
   ]
  },
  {
   "cell_type": "markdown",
   "metadata": {},
   "source": [
    "## Instructions"
   ]
  },
  {
   "cell_type": "markdown",
   "metadata": {},
   "source": [
    "### How to do your homework\n",
    "\n",
    "To finish the project, fill in:\n",
    "- ```YOUR CODE HERE``` in code cells\n",
    "\n",
    "- ```YOUR ANSWER HERE``` in text cells."
   ]
  },
  {
   "cell_type": "markdown",
   "metadata": {},
   "source": [
    "**NOTE:**\n",
    "\n",
    "- Your project must be finished by your own self. You may discuss with the others, but must not copy (partially or entirely) their codes or solutions. You will receive a <font color='red'>0 point</font> for this project if you violate this plagiarism rule. \n",
    "- Because our plagiarism checker is very sensitive, if the plagiarism check result is <font color='red'>greater than 60%</font>, your work will receive <font color='red'>0 point</font>. Therefore we will not deal with plagiarism cases.\n",
    "\n",
    "- You can create new cells to clarify your code / answer, however, please <font color='red'>do not delete any pre-defined code cells or test case cells</font> as it may affect the grading results."
   ]
  },
  {
   "cell_type": "markdown",
   "metadata": {},
   "source": [
    "### How to submit\n",
    "\n",
    "In the grading stage, I will first select `Kernel` - `Restart Kernel & Run All Cells` to restart and run all cells in your notebook. As a result, before submitting your project, you should run `Kernel` - `Restart Kernel & Run All Cells` to ensure your code will run as you expect.\n",
    "\n",
    "After that, rename your notebook as `ID1.ipynb` (e.g. `19123.ipynb`) and submit on Moodle.\n",
    "\n",
    "<font color=yellow>Please follow the above submission guidelines. Any violation of these instructions may cost you some penalty points (0-50%)!!!</font>\n"
   ]
  },
  {
   "cell_type": "markdown",
   "metadata": {},
   "source": [
    "### Contents\n",
    "\n",
    "- Data pre-processing techniques.\n",
    "    - Exploring your data (2 pts)\n",
    "    - Encoding categorical (2 pts)\n",
    "    - Discretization techniques (2 pts)\n",
    "    - Outlier handling techniques (1 pts)\n",
    "    - Feature scaling techniques (2 pts)\n",
    "    - Clean submission (1 pts)"
   ]
  },
  {
   "cell_type": "markdown",
   "metadata": {},
   "source": [
    "## Import libs\n",
    "**Note:** <span style=\"color:yellow\">All packages you can use in this lab are imported in the cell below. Please don't modify this, just run that.</span>"
   ]
  },
  {
   "cell_type": "code",
   "execution_count": 1,
   "metadata": {},
   "outputs": [],
   "source": [
    "import warnings\n",
    "warnings.filterwarnings('ignore')"
   ]
  },
  {
   "cell_type": "code",
   "execution_count": 2,
   "metadata": {},
   "outputs": [],
   "source": [
    "import sys\n",
    "import json\n",
    "from zlib import adler32\n",
    "\n",
    "from typing import List, Dict\n",
    "\n",
    "import numpy as np\n",
    "import pandas as pd\n",
    "import matplotlib.pyplot as plt\n",
    "import seaborn as sns\n",
    "\n",
    "from sklearn.tree import DecisionTreeClassifier\n",
    "from sklearn.preprocessing import KBinsDiscretizer, LabelEncoder, StandardScaler, MinMaxScaler, MaxAbsScaler, Normalizer"
   ]
  },
  {
   "cell_type": "code",
   "execution_count": 3,
   "metadata": {},
   "outputs": [],
   "source": [
    "# Config matplotlib and pandas display\n",
    "%matplotlib inline\n",
    "pd.set_option('display.max_colwidth', 100) # For clearly\n",
    "pd.set_option('display.max_columns', None) # For clearly"
   ]
  },
  {
   "cell_type": "code",
   "execution_count": 4,
   "metadata": {},
   "outputs": [],
   "source": [
    "# Config seaborn\n",
    "plt.rcParams[\"figure.figsize\"] = [12, 8]\n",
    "\n",
    "custom = {\"axes.edgecolor\": \"blue\", \"grid.linestyle\": \"dashed\", \"grid.color\": \"black\"}\n",
    "sns.set_style(\"whitegrid\", rc = custom)"
   ]
  },
  {
   "cell_type": "code",
   "execution_count": 5,
   "metadata": {},
   "outputs": [
    {
     "data": {
      "text/plain": [
       "'c:\\\\Users\\\\ACER\\\\AppData\\\\Local\\\\Programs\\\\Python\\\\Python311\\\\python.exe'"
      ]
     },
     "execution_count": 5,
     "metadata": {},
     "output_type": "execute_result"
    }
   ],
   "source": [
    "# Checking Python virtual env\n",
    "sys.executable"
   ]
  },
  {
   "cell_type": "markdown",
   "metadata": {},
   "source": [
    "## Exploring your data (2 pts)"
   ]
  },
  {
   "cell_type": "markdown",
   "metadata": {},
   "source": [
    "### Read rawdata from file"
   ]
  },
  {
   "cell_type": "code",
   "execution_count": 6,
   "metadata": {},
   "outputs": [],
   "source": [
    "# YOUR CODE HERE\n",
    "raw_df = pd.read_csv('./data/spaceX_laucnh.csv')\n",
    "# raise NotImplementedError()"
   ]
  },
  {
   "cell_type": "code",
   "execution_count": 7,
   "metadata": {},
   "outputs": [
    {
     "data": {
      "text/html": [
       "<div>\n",
       "<style scoped>\n",
       "    .dataframe tbody tr th:only-of-type {\n",
       "        vertical-align: middle;\n",
       "    }\n",
       "\n",
       "    .dataframe tbody tr th {\n",
       "        vertical-align: top;\n",
       "    }\n",
       "\n",
       "    .dataframe thead th {\n",
       "        text-align: right;\n",
       "    }\n",
       "</style>\n",
       "<table border=\"1\" class=\"dataframe\">\n",
       "  <thead>\n",
       "    <tr style=\"text-align: right;\">\n",
       "      <th></th>\n",
       "      <th>uct_time</th>\n",
       "      <th>launch_name</th>\n",
       "      <th>payloads</th>\n",
       "      <th>rocket_name</th>\n",
       "      <th>rocket_boosters</th>\n",
       "      <th>rocket_height</th>\n",
       "      <th>rocket_diameter</th>\n",
       "      <th>rocket_mass</th>\n",
       "      <th>launchpad_name</th>\n",
       "      <th>launchpad_region</th>\n",
       "      <th>launchpad_geo</th>\n",
       "      <th>landpad</th>\n",
       "      <th>landpad_name</th>\n",
       "      <th>landpad_type</th>\n",
       "      <th>landpad_region</th>\n",
       "      <th>landpad_geo</th>\n",
       "      <th>outcome</th>\n",
       "    </tr>\n",
       "  </thead>\n",
       "  <tbody>\n",
       "    <tr>\n",
       "      <th>0</th>\n",
       "      <td>2006-03-24T22:30:00.000Z</td>\n",
       "      <td>FalconSat</td>\n",
       "      <td>[{'type': 'Satellite', 'mass': 20, 'orbit': 'LEO'}]</td>\n",
       "      <td>Falcon 1</td>\n",
       "      <td>0</td>\n",
       "      <td>22.25</td>\n",
       "      <td>1.68</td>\n",
       "      <td>30146.0</td>\n",
       "      <td>Kwajalein Atoll</td>\n",
       "      <td>Marshall Islands</td>\n",
       "      <td>(9.0477206, 167.7431292)</td>\n",
       "      <td>NaN</td>\n",
       "      <td>NaN</td>\n",
       "      <td>NaN</td>\n",
       "      <td>NaN</td>\n",
       "      <td>(nan, nan)</td>\n",
       "      <td>Failure</td>\n",
       "    </tr>\n",
       "    <tr>\n",
       "      <th>1</th>\n",
       "      <td>2007-03-21T01:10:00.000Z</td>\n",
       "      <td>DemoSat</td>\n",
       "      <td>[{'type': 'Satellite', 'mass': None, 'orbit': 'LEO'}]</td>\n",
       "      <td>Falcon 1</td>\n",
       "      <td>0</td>\n",
       "      <td>22.25</td>\n",
       "      <td>1.68</td>\n",
       "      <td>30146.0</td>\n",
       "      <td>Kwajalein Atoll</td>\n",
       "      <td>Marshall Islands</td>\n",
       "      <td>(9.0477206, 167.7431292)</td>\n",
       "      <td>NaN</td>\n",
       "      <td>NaN</td>\n",
       "      <td>NaN</td>\n",
       "      <td>NaN</td>\n",
       "      <td>(nan, nan)</td>\n",
       "      <td>Failure</td>\n",
       "    </tr>\n",
       "    <tr>\n",
       "      <th>2</th>\n",
       "      <td>2008-08-03T03:34:00.000Z</td>\n",
       "      <td>Trailblazer</td>\n",
       "      <td>[{'type': 'Satellite', 'mass': None, 'orbit': 'LEO'}, {'type': 'Satellite', 'mass': None, 'orbit...</td>\n",
       "      <td>Falcon 1</td>\n",
       "      <td>0</td>\n",
       "      <td>22.25</td>\n",
       "      <td>1.68</td>\n",
       "      <td>NaN</td>\n",
       "      <td>Kwajalein Atoll</td>\n",
       "      <td>Marshall Islands</td>\n",
       "      <td>(9.0477206, 167.7431292)</td>\n",
       "      <td>NaN</td>\n",
       "      <td>NaN</td>\n",
       "      <td>NaN</td>\n",
       "      <td>NaN</td>\n",
       "      <td>(nan, nan)</td>\n",
       "      <td>Failure</td>\n",
       "    </tr>\n",
       "    <tr>\n",
       "      <th>3</th>\n",
       "      <td>2008-09-28T23:15:00.000Z</td>\n",
       "      <td>RatSat</td>\n",
       "      <td>[{'type': 'Satellite', 'mass': 165, 'orbit': 'LEO'}]</td>\n",
       "      <td>Falcon 1</td>\n",
       "      <td>0</td>\n",
       "      <td>22.25</td>\n",
       "      <td>1.68</td>\n",
       "      <td>NaN</td>\n",
       "      <td>Kwajalein Atoll</td>\n",
       "      <td>Marshall Islands</td>\n",
       "      <td>(9.0477206, 167.7431292)</td>\n",
       "      <td>NaN</td>\n",
       "      <td>NaN</td>\n",
       "      <td>NaN</td>\n",
       "      <td>NaN</td>\n",
       "      <td>(nan, nan)</td>\n",
       "      <td>Success</td>\n",
       "    </tr>\n",
       "    <tr>\n",
       "      <th>4</th>\n",
       "      <td>2009-07-13T03:35:00.000Z</td>\n",
       "      <td>RazakSat</td>\n",
       "      <td>[{'type': 'Satellite', 'mass': 200, 'orbit': 'LEO'}]</td>\n",
       "      <td>Falcon 1</td>\n",
       "      <td>0</td>\n",
       "      <td>22.25</td>\n",
       "      <td>1.68</td>\n",
       "      <td>30146.0</td>\n",
       "      <td>Kwajalein Atoll</td>\n",
       "      <td>Marshall Islands</td>\n",
       "      <td>(9.0477206, 167.7431292)</td>\n",
       "      <td>NaN</td>\n",
       "      <td>NaN</td>\n",
       "      <td>NaN</td>\n",
       "      <td>NaN</td>\n",
       "      <td>(nan, nan)</td>\n",
       "      <td>Success</td>\n",
       "    </tr>\n",
       "  </tbody>\n",
       "</table>\n",
       "</div>"
      ],
      "text/plain": [
       "                   uct_time  launch_name  \\\n",
       "0  2006-03-24T22:30:00.000Z    FalconSat   \n",
       "1  2007-03-21T01:10:00.000Z      DemoSat   \n",
       "2  2008-08-03T03:34:00.000Z  Trailblazer   \n",
       "3  2008-09-28T23:15:00.000Z       RatSat   \n",
       "4  2009-07-13T03:35:00.000Z     RazakSat   \n",
       "\n",
       "                                                                                              payloads  \\\n",
       "0                                                  [{'type': 'Satellite', 'mass': 20, 'orbit': 'LEO'}]   \n",
       "1                                                [{'type': 'Satellite', 'mass': None, 'orbit': 'LEO'}]   \n",
       "2  [{'type': 'Satellite', 'mass': None, 'orbit': 'LEO'}, {'type': 'Satellite', 'mass': None, 'orbit...   \n",
       "3                                                 [{'type': 'Satellite', 'mass': 165, 'orbit': 'LEO'}]   \n",
       "4                                                 [{'type': 'Satellite', 'mass': 200, 'orbit': 'LEO'}]   \n",
       "\n",
       "  rocket_name  rocket_boosters  rocket_height  rocket_diameter  rocket_mass  \\\n",
       "0    Falcon 1                0          22.25             1.68      30146.0   \n",
       "1    Falcon 1                0          22.25             1.68      30146.0   \n",
       "2    Falcon 1                0          22.25             1.68          NaN   \n",
       "3    Falcon 1                0          22.25             1.68          NaN   \n",
       "4    Falcon 1                0          22.25             1.68      30146.0   \n",
       "\n",
       "    launchpad_name  launchpad_region             launchpad_geo  landpad  \\\n",
       "0  Kwajalein Atoll  Marshall Islands  (9.0477206, 167.7431292)      NaN   \n",
       "1  Kwajalein Atoll  Marshall Islands  (9.0477206, 167.7431292)      NaN   \n",
       "2  Kwajalein Atoll  Marshall Islands  (9.0477206, 167.7431292)      NaN   \n",
       "3  Kwajalein Atoll  Marshall Islands  (9.0477206, 167.7431292)      NaN   \n",
       "4  Kwajalein Atoll  Marshall Islands  (9.0477206, 167.7431292)      NaN   \n",
       "\n",
       "  landpad_name landpad_type landpad_region landpad_geo  outcome  \n",
       "0          NaN          NaN            NaN  (nan, nan)  Failure  \n",
       "1          NaN          NaN            NaN  (nan, nan)  Failure  \n",
       "2          NaN          NaN            NaN  (nan, nan)  Failure  \n",
       "3          NaN          NaN            NaN  (nan, nan)  Success  \n",
       "4          NaN          NaN            NaN  (nan, nan)  Success  "
      ]
     },
     "execution_count": 7,
     "metadata": {},
     "output_type": "execute_result"
    }
   ],
   "source": [
    "# TEST\n",
    "raw_df.head()"
   ]
  },
  {
   "cell_type": "markdown",
   "metadata": {},
   "source": [
    "### How many rows and how many columns does the raw data have?"
   ]
  },
  {
   "cell_type": "markdown",
   "metadata": {},
   "source": [
    "Next, you calculate the number of rows and columns of the DataFrame `raw_df` and store it in the variable `shape` (tuple)."
   ]
  },
  {
   "cell_type": "code",
   "execution_count": 8,
   "metadata": {},
   "outputs": [
    {
     "data": {
      "text/plain": [
       "(205, 17)"
      ]
     },
     "execution_count": 8,
     "metadata": {},
     "output_type": "execute_result"
    }
   ],
   "source": [
    "# YOUR CODE HERE\n",
    "shape = raw_df.shape\n",
    "shape\n",
    "# raise NotImplementedError()"
   ]
  },
  {
   "cell_type": "code",
   "execution_count": 9,
   "metadata": {},
   "outputs": [],
   "source": [
    "# TEST\n",
    "assert adler32(str(np.sqrt(shape[0] * shape[1])).encode()) == 590480314"
   ]
  },
  {
   "cell_type": "markdown",
   "metadata": {},
   "source": [
    "### What does each line mean? Does it matter if the lines have different meanings?"
   ]
  },
  {
   "cell_type": "markdown",
   "metadata": {},
   "source": [
    "**TODO**: \n",
    "\n",
    "Each line represents a launch or landing of SpaceX rockets from 2006 to 2022, it contains information about launch dates, launchers, payloads, rockets, launchers, and landing pad wings, and landing results\n"
   ]
  },
  {
   "cell_type": "markdown",
   "metadata": {},
   "source": [
    "### Does the raw data have duplicate rows?"
   ]
  },
  {
   "cell_type": "markdown",
   "metadata": {},
   "source": [
    "Next, you calculate the number of rows with duplicate indexes and store it in the variable `num_duplicated_rows`. In a group of lines with the same index, the first line is not counted as repeated."
   ]
  },
  {
   "cell_type": "code",
   "execution_count": 10,
   "metadata": {},
   "outputs": [
    {
     "data": {
      "text/plain": [
       "0"
      ]
     },
     "execution_count": 10,
     "metadata": {},
     "output_type": "execute_result"
    }
   ],
   "source": [
    "# YOUR CODE HERE\n",
    "num_duplicated_rows =  len(raw_df)-len(raw_df.drop_duplicates())\n",
    "# raise NotImplementedError()\n",
    "num_duplicated_rows"
   ]
  },
  {
   "cell_type": "code",
   "execution_count": 11,
   "metadata": {},
   "outputs": [],
   "source": [
    "# TEST\n",
    "assert adler32(str(num_duplicated_rows).encode()) == 3211313"
   ]
  },
  {
   "cell_type": "markdown",
   "metadata": {},
   "source": [
    "### What does each column mean?"
   ]
  },
  {
   "cell_type": "markdown",
   "metadata": {},
   "source": [
    "To see the meaning of each column:\n",
    "- First, you need to read the file \"metadata.json\" in the `data` folder into DataFrame `metadata`;\n",
    "- Then, you describe what suitable datatype for each column? "
   ]
  },
  {
   "cell_type": "code",
   "execution_count": 12,
   "metadata": {},
   "outputs": [],
   "source": [
    "metadata = pd.read_json('./data/metadata.json')\n",
    "#raise NotImplementedError()"
   ]
  },
  {
   "cell_type": "code",
   "execution_count": 13,
   "metadata": {},
   "outputs": [
    {
     "data": {
      "text/html": [
       "<div>\n",
       "<style scoped>\n",
       "    .dataframe tbody tr th:only-of-type {\n",
       "        vertical-align: middle;\n",
       "    }\n",
       "\n",
       "    .dataframe tbody tr th {\n",
       "        vertical-align: top;\n",
       "    }\n",
       "\n",
       "    .dataframe thead th {\n",
       "        text-align: right;\n",
       "    }\n",
       "</style>\n",
       "<table border=\"1\" class=\"dataframe\">\n",
       "  <thead>\n",
       "    <tr style=\"text-align: right;\">\n",
       "      <th></th>\n",
       "      <th>title</th>\n",
       "      <th>description</th>\n",
       "      <th>source</th>\n",
       "      <th>certificate_link</th>\n",
       "      <th>certificate</th>\n",
       "      <th>attributions</th>\n",
       "    </tr>\n",
       "  </thead>\n",
       "  <tbody>\n",
       "    <tr>\n",
       "      <th>landpad</th>\n",
       "      <td>SpaceX Launches 2006-2022</td>\n",
       "      <td>The SpaceX Launches dataset contains information about launches and landings of SpaceX rockets f...</td>\n",
       "      <td>https://api.spacexdata.com/v5/launches/latest</td>\n",
       "      <td>https://github.com/r-spacex/SpaceX-API/tree/master?tab=Apache-2.0-1-ov-file#readme</td>\n",
       "      <td>Apache-2.0</td>\n",
       "      <td>The landpad information.</td>\n",
       "    </tr>\n",
       "    <tr>\n",
       "      <th>landpad_geo</th>\n",
       "      <td>SpaceX Launches 2006-2022</td>\n",
       "      <td>The SpaceX Launches dataset contains information about launches and landings of SpaceX rockets f...</td>\n",
       "      <td>https://api.spacexdata.com/v5/launches/latest</td>\n",
       "      <td>https://github.com/r-spacex/SpaceX-API/tree/master?tab=Apache-2.0-1-ov-file#readme</td>\n",
       "      <td>Apache-2.0</td>\n",
       "      <td>The geo location of the landing pad.</td>\n",
       "    </tr>\n",
       "    <tr>\n",
       "      <th>landpad_name</th>\n",
       "      <td>SpaceX Launches 2006-2022</td>\n",
       "      <td>The SpaceX Launches dataset contains information about launches and landings of SpaceX rockets f...</td>\n",
       "      <td>https://api.spacexdata.com/v5/launches/latest</td>\n",
       "      <td>https://github.com/r-spacex/SpaceX-API/tree/master?tab=Apache-2.0-1-ov-file#readme</td>\n",
       "      <td>Apache-2.0</td>\n",
       "      <td>The name of the landing pad.</td>\n",
       "    </tr>\n",
       "    <tr>\n",
       "      <th>landpad_region</th>\n",
       "      <td>SpaceX Launches 2006-2022</td>\n",
       "      <td>The SpaceX Launches dataset contains information about launches and landings of SpaceX rockets f...</td>\n",
       "      <td>https://api.spacexdata.com/v5/launches/latest</td>\n",
       "      <td>https://github.com/r-spacex/SpaceX-API/tree/master?tab=Apache-2.0-1-ov-file#readme</td>\n",
       "      <td>Apache-2.0</td>\n",
       "      <td>The region of the landing pad.</td>\n",
       "    </tr>\n",
       "    <tr>\n",
       "      <th>landpad_type</th>\n",
       "      <td>SpaceX Launches 2006-2022</td>\n",
       "      <td>The SpaceX Launches dataset contains information about launches and landings of SpaceX rockets f...</td>\n",
       "      <td>https://api.spacexdata.com/v5/launches/latest</td>\n",
       "      <td>https://github.com/r-spacex/SpaceX-API/tree/master?tab=Apache-2.0-1-ov-file#readme</td>\n",
       "      <td>Apache-2.0</td>\n",
       "      <td>The type of the landing pad.</td>\n",
       "    </tr>\n",
       "    <tr>\n",
       "      <th>launch_name</th>\n",
       "      <td>SpaceX Launches 2006-2022</td>\n",
       "      <td>The SpaceX Launches dataset contains information about launches and landings of SpaceX rockets f...</td>\n",
       "      <td>https://api.spacexdata.com/v5/launches/latest</td>\n",
       "      <td>https://github.com/r-spacex/SpaceX-API/tree/master?tab=Apache-2.0-1-ov-file#readme</td>\n",
       "      <td>Apache-2.0</td>\n",
       "      <td>Launch name. Typically the name of the space mission.</td>\n",
       "    </tr>\n",
       "    <tr>\n",
       "      <th>launchpad_geo</th>\n",
       "      <td>SpaceX Launches 2006-2022</td>\n",
       "      <td>The SpaceX Launches dataset contains information about launches and landings of SpaceX rockets f...</td>\n",
       "      <td>https://api.spacexdata.com/v5/launches/latest</td>\n",
       "      <td>https://github.com/r-spacex/SpaceX-API/tree/master?tab=Apache-2.0-1-ov-file#readme</td>\n",
       "      <td>Apache-2.0</td>\n",
       "      <td>The geo location of the launchpad.</td>\n",
       "    </tr>\n",
       "    <tr>\n",
       "      <th>launchpad_name</th>\n",
       "      <td>SpaceX Launches 2006-2022</td>\n",
       "      <td>The SpaceX Launches dataset contains information about launches and landings of SpaceX rockets f...</td>\n",
       "      <td>https://api.spacexdata.com/v5/launches/latest</td>\n",
       "      <td>https://github.com/r-spacex/SpaceX-API/tree/master?tab=Apache-2.0-1-ov-file#readme</td>\n",
       "      <td>Apache-2.0</td>\n",
       "      <td>The name of the launchpad.</td>\n",
       "    </tr>\n",
       "    <tr>\n",
       "      <th>launchpad_region</th>\n",
       "      <td>SpaceX Launches 2006-2022</td>\n",
       "      <td>The SpaceX Launches dataset contains information about launches and landings of SpaceX rockets f...</td>\n",
       "      <td>https://api.spacexdata.com/v5/launches/latest</td>\n",
       "      <td>https://github.com/r-spacex/SpaceX-API/tree/master?tab=Apache-2.0-1-ov-file#readme</td>\n",
       "      <td>Apache-2.0</td>\n",
       "      <td>The region of the launchpad.</td>\n",
       "    </tr>\n",
       "    <tr>\n",
       "      <th>outcome</th>\n",
       "      <td>SpaceX Launches 2006-2022</td>\n",
       "      <td>The SpaceX Launches dataset contains information about launches and landings of SpaceX rockets f...</td>\n",
       "      <td>https://api.spacexdata.com/v5/launches/latest</td>\n",
       "      <td>https://github.com/r-spacex/SpaceX-API/tree/master?tab=Apache-2.0-1-ov-file#readme</td>\n",
       "      <td>Apache-2.0</td>\n",
       "      <td>Boolean indicating launch success or failure.</td>\n",
       "    </tr>\n",
       "    <tr>\n",
       "      <th>payloads</th>\n",
       "      <td>SpaceX Launches 2006-2022</td>\n",
       "      <td>The SpaceX Launches dataset contains information about launches and landings of SpaceX rockets f...</td>\n",
       "      <td>https://api.spacexdata.com/v5/launches/latest</td>\n",
       "      <td>https://github.com/r-spacex/SpaceX-API/tree/master?tab=Apache-2.0-1-ov-file#readme</td>\n",
       "      <td>Apache-2.0</td>\n",
       "      <td>The list information about the payloads on the launch.</td>\n",
       "    </tr>\n",
       "    <tr>\n",
       "      <th>rocket_boosters</th>\n",
       "      <td>SpaceX Launches 2006-2022</td>\n",
       "      <td>The SpaceX Launches dataset contains information about launches and landings of SpaceX rockets f...</td>\n",
       "      <td>https://api.spacexdata.com/v5/launches/latest</td>\n",
       "      <td>https://github.com/r-spacex/SpaceX-API/tree/master?tab=Apache-2.0-1-ov-file#readme</td>\n",
       "      <td>Apache-2.0</td>\n",
       "      <td>The number of boosters on the rocket.</td>\n",
       "    </tr>\n",
       "    <tr>\n",
       "      <th>rocket_diameter</th>\n",
       "      <td>SpaceX Launches 2006-2022</td>\n",
       "      <td>The SpaceX Launches dataset contains information about launches and landings of SpaceX rockets f...</td>\n",
       "      <td>https://api.spacexdata.com/v5/launches/latest</td>\n",
       "      <td>https://github.com/r-spacex/SpaceX-API/tree/master?tab=Apache-2.0-1-ov-file#readme</td>\n",
       "      <td>Apache-2.0</td>\n",
       "      <td>The diameter information about the rocket (m).</td>\n",
       "    </tr>\n",
       "    <tr>\n",
       "      <th>rocket_height</th>\n",
       "      <td>SpaceX Launches 2006-2022</td>\n",
       "      <td>The SpaceX Launches dataset contains information about launches and landings of SpaceX rockets f...</td>\n",
       "      <td>https://api.spacexdata.com/v5/launches/latest</td>\n",
       "      <td>https://github.com/r-spacex/SpaceX-API/tree/master?tab=Apache-2.0-1-ov-file#readme</td>\n",
       "      <td>Apache-2.0</td>\n",
       "      <td>The height information about the rocket (m).</td>\n",
       "    </tr>\n",
       "    <tr>\n",
       "      <th>rocket_mass</th>\n",
       "      <td>SpaceX Launches 2006-2022</td>\n",
       "      <td>The SpaceX Launches dataset contains information about launches and landings of SpaceX rockets f...</td>\n",
       "      <td>https://api.spacexdata.com/v5/launches/latest</td>\n",
       "      <td>https://github.com/r-spacex/SpaceX-API/tree/master?tab=Apache-2.0-1-ov-file#readme</td>\n",
       "      <td>Apache-2.0</td>\n",
       "      <td>The mass information about the rocket (kg).</td>\n",
       "    </tr>\n",
       "    <tr>\n",
       "      <th>rocket_name</th>\n",
       "      <td>SpaceX Launches 2006-2022</td>\n",
       "      <td>The SpaceX Launches dataset contains information about launches and landings of SpaceX rockets f...</td>\n",
       "      <td>https://api.spacexdata.com/v5/launches/latest</td>\n",
       "      <td>https://github.com/r-spacex/SpaceX-API/tree/master?tab=Apache-2.0-1-ov-file#readme</td>\n",
       "      <td>Apache-2.0</td>\n",
       "      <td>The name of the rocket.</td>\n",
       "    </tr>\n",
       "    <tr>\n",
       "      <th>uct_time</th>\n",
       "      <td>SpaceX Launches 2006-2022</td>\n",
       "      <td>The SpaceX Launches dataset contains information about launches and landings of SpaceX rockets f...</td>\n",
       "      <td>https://api.spacexdata.com/v5/launches/latest</td>\n",
       "      <td>https://github.com/r-spacex/SpaceX-API/tree/master?tab=Apache-2.0-1-ov-file#readme</td>\n",
       "      <td>Apache-2.0</td>\n",
       "      <td>Launch date in UTC format.</td>\n",
       "    </tr>\n",
       "  </tbody>\n",
       "</table>\n",
       "</div>"
      ],
      "text/plain": [
       "                                      title  \\\n",
       "landpad           SpaceX Launches 2006-2022   \n",
       "landpad_geo       SpaceX Launches 2006-2022   \n",
       "landpad_name      SpaceX Launches 2006-2022   \n",
       "landpad_region    SpaceX Launches 2006-2022   \n",
       "landpad_type      SpaceX Launches 2006-2022   \n",
       "launch_name       SpaceX Launches 2006-2022   \n",
       "launchpad_geo     SpaceX Launches 2006-2022   \n",
       "launchpad_name    SpaceX Launches 2006-2022   \n",
       "launchpad_region  SpaceX Launches 2006-2022   \n",
       "outcome           SpaceX Launches 2006-2022   \n",
       "payloads          SpaceX Launches 2006-2022   \n",
       "rocket_boosters   SpaceX Launches 2006-2022   \n",
       "rocket_diameter   SpaceX Launches 2006-2022   \n",
       "rocket_height     SpaceX Launches 2006-2022   \n",
       "rocket_mass       SpaceX Launches 2006-2022   \n",
       "rocket_name       SpaceX Launches 2006-2022   \n",
       "uct_time          SpaceX Launches 2006-2022   \n",
       "\n",
       "                                                                                                          description  \\\n",
       "landpad           The SpaceX Launches dataset contains information about launches and landings of SpaceX rockets f...   \n",
       "landpad_geo       The SpaceX Launches dataset contains information about launches and landings of SpaceX rockets f...   \n",
       "landpad_name      The SpaceX Launches dataset contains information about launches and landings of SpaceX rockets f...   \n",
       "landpad_region    The SpaceX Launches dataset contains information about launches and landings of SpaceX rockets f...   \n",
       "landpad_type      The SpaceX Launches dataset contains information about launches and landings of SpaceX rockets f...   \n",
       "launch_name       The SpaceX Launches dataset contains information about launches and landings of SpaceX rockets f...   \n",
       "launchpad_geo     The SpaceX Launches dataset contains information about launches and landings of SpaceX rockets f...   \n",
       "launchpad_name    The SpaceX Launches dataset contains information about launches and landings of SpaceX rockets f...   \n",
       "launchpad_region  The SpaceX Launches dataset contains information about launches and landings of SpaceX rockets f...   \n",
       "outcome           The SpaceX Launches dataset contains information about launches and landings of SpaceX rockets f...   \n",
       "payloads          The SpaceX Launches dataset contains information about launches and landings of SpaceX rockets f...   \n",
       "rocket_boosters   The SpaceX Launches dataset contains information about launches and landings of SpaceX rockets f...   \n",
       "rocket_diameter   The SpaceX Launches dataset contains information about launches and landings of SpaceX rockets f...   \n",
       "rocket_height     The SpaceX Launches dataset contains information about launches and landings of SpaceX rockets f...   \n",
       "rocket_mass       The SpaceX Launches dataset contains information about launches and landings of SpaceX rockets f...   \n",
       "rocket_name       The SpaceX Launches dataset contains information about launches and landings of SpaceX rockets f...   \n",
       "uct_time          The SpaceX Launches dataset contains information about launches and landings of SpaceX rockets f...   \n",
       "\n",
       "                                                         source  \\\n",
       "landpad           https://api.spacexdata.com/v5/launches/latest   \n",
       "landpad_geo       https://api.spacexdata.com/v5/launches/latest   \n",
       "landpad_name      https://api.spacexdata.com/v5/launches/latest   \n",
       "landpad_region    https://api.spacexdata.com/v5/launches/latest   \n",
       "landpad_type      https://api.spacexdata.com/v5/launches/latest   \n",
       "launch_name       https://api.spacexdata.com/v5/launches/latest   \n",
       "launchpad_geo     https://api.spacexdata.com/v5/launches/latest   \n",
       "launchpad_name    https://api.spacexdata.com/v5/launches/latest   \n",
       "launchpad_region  https://api.spacexdata.com/v5/launches/latest   \n",
       "outcome           https://api.spacexdata.com/v5/launches/latest   \n",
       "payloads          https://api.spacexdata.com/v5/launches/latest   \n",
       "rocket_boosters   https://api.spacexdata.com/v5/launches/latest   \n",
       "rocket_diameter   https://api.spacexdata.com/v5/launches/latest   \n",
       "rocket_height     https://api.spacexdata.com/v5/launches/latest   \n",
       "rocket_mass       https://api.spacexdata.com/v5/launches/latest   \n",
       "rocket_name       https://api.spacexdata.com/v5/launches/latest   \n",
       "uct_time          https://api.spacexdata.com/v5/launches/latest   \n",
       "\n",
       "                                                                                    certificate_link  \\\n",
       "landpad           https://github.com/r-spacex/SpaceX-API/tree/master?tab=Apache-2.0-1-ov-file#readme   \n",
       "landpad_geo       https://github.com/r-spacex/SpaceX-API/tree/master?tab=Apache-2.0-1-ov-file#readme   \n",
       "landpad_name      https://github.com/r-spacex/SpaceX-API/tree/master?tab=Apache-2.0-1-ov-file#readme   \n",
       "landpad_region    https://github.com/r-spacex/SpaceX-API/tree/master?tab=Apache-2.0-1-ov-file#readme   \n",
       "landpad_type      https://github.com/r-spacex/SpaceX-API/tree/master?tab=Apache-2.0-1-ov-file#readme   \n",
       "launch_name       https://github.com/r-spacex/SpaceX-API/tree/master?tab=Apache-2.0-1-ov-file#readme   \n",
       "launchpad_geo     https://github.com/r-spacex/SpaceX-API/tree/master?tab=Apache-2.0-1-ov-file#readme   \n",
       "launchpad_name    https://github.com/r-spacex/SpaceX-API/tree/master?tab=Apache-2.0-1-ov-file#readme   \n",
       "launchpad_region  https://github.com/r-spacex/SpaceX-API/tree/master?tab=Apache-2.0-1-ov-file#readme   \n",
       "outcome           https://github.com/r-spacex/SpaceX-API/tree/master?tab=Apache-2.0-1-ov-file#readme   \n",
       "payloads          https://github.com/r-spacex/SpaceX-API/tree/master?tab=Apache-2.0-1-ov-file#readme   \n",
       "rocket_boosters   https://github.com/r-spacex/SpaceX-API/tree/master?tab=Apache-2.0-1-ov-file#readme   \n",
       "rocket_diameter   https://github.com/r-spacex/SpaceX-API/tree/master?tab=Apache-2.0-1-ov-file#readme   \n",
       "rocket_height     https://github.com/r-spacex/SpaceX-API/tree/master?tab=Apache-2.0-1-ov-file#readme   \n",
       "rocket_mass       https://github.com/r-spacex/SpaceX-API/tree/master?tab=Apache-2.0-1-ov-file#readme   \n",
       "rocket_name       https://github.com/r-spacex/SpaceX-API/tree/master?tab=Apache-2.0-1-ov-file#readme   \n",
       "uct_time          https://github.com/r-spacex/SpaceX-API/tree/master?tab=Apache-2.0-1-ov-file#readme   \n",
       "\n",
       "                 certificate  \\\n",
       "landpad           Apache-2.0   \n",
       "landpad_geo       Apache-2.0   \n",
       "landpad_name      Apache-2.0   \n",
       "landpad_region    Apache-2.0   \n",
       "landpad_type      Apache-2.0   \n",
       "launch_name       Apache-2.0   \n",
       "launchpad_geo     Apache-2.0   \n",
       "launchpad_name    Apache-2.0   \n",
       "launchpad_region  Apache-2.0   \n",
       "outcome           Apache-2.0   \n",
       "payloads          Apache-2.0   \n",
       "rocket_boosters   Apache-2.0   \n",
       "rocket_diameter   Apache-2.0   \n",
       "rocket_height     Apache-2.0   \n",
       "rocket_mass       Apache-2.0   \n",
       "rocket_name       Apache-2.0   \n",
       "uct_time          Apache-2.0   \n",
       "\n",
       "                                                            attributions  \n",
       "landpad                                         The landpad information.  \n",
       "landpad_geo                         The geo location of the landing pad.  \n",
       "landpad_name                                The name of the landing pad.  \n",
       "landpad_region                            The region of the landing pad.  \n",
       "landpad_type                                The type of the landing pad.  \n",
       "launch_name        Launch name. Typically the name of the space mission.  \n",
       "launchpad_geo                         The geo location of the launchpad.  \n",
       "launchpad_name                                The name of the launchpad.  \n",
       "launchpad_region                            The region of the launchpad.  \n",
       "outcome                    Boolean indicating launch success or failure.  \n",
       "payloads          The list information about the payloads on the launch.  \n",
       "rocket_boosters                    The number of boosters on the rocket.  \n",
       "rocket_diameter           The diameter information about the rocket (m).  \n",
       "rocket_height               The height information about the rocket (m).  \n",
       "rocket_mass                  The mass information about the rocket (kg).  \n",
       "rocket_name                                      The name of the rocket.  \n",
       "uct_time                                      Launch date in UTC format.  "
      ]
     },
     "execution_count": 13,
     "metadata": {},
     "output_type": "execute_result"
    }
   ],
   "source": [
    "# TEST\n",
    "metadata"
   ]
  },
  {
   "cell_type": "markdown",
   "metadata": {},
   "source": [
    "**TODO: Describe datatype**"
   ]
  },
  {
   "cell_type": "markdown",
   "metadata": {},
   "source": [
    "|Attributes|Description|\n",
    "| --- | --- |\n",
    "|uct_time|Launch date in UTC format.|\n",
    "|launch_name|Launch name. Typically the name of the space mission.|\n",
    "|payloads|The list information about the payloads on the launch.|\n",
    "|rocket_name|The name of the rocket.|\n",
    "|rocket_boosters|The number of boosters on the rocket.|\n",
    "|rocket_height|The height information about the rocket (m).|\n",
    "|rocket_diameter|The diameter information about the rocket (m).|\n",
    "|rocket_mass|The mass information about the rocket (kg).|\n",
    "|launchpad_name|The name of the launchpad.|\n",
    "|launchpad_region|The region of the launchpad.|\n",
    "|launchpad_geo|The geo location of the launchpad.|\n",
    "|landpad|The landpad information.|\n",
    "|landpad_name|The name of the landing pad.|\n",
    "|landpad_type|The type of the landing pad.|\n",
    "|landpad_region|The region of the landing pad.|\n",
    "|landpad_geo|The geo location of the landing pad.|\n",
    "|outcome|Indicating launch success or failure.|"
   ]
  },
  {
   "cell_type": "markdown",
   "metadata": {},
   "source": [
    "Before moving forward, you should read the results displayed above and make sure you understand the meaning of the columns. To understand the meaning of the column, you may need to look at the values of the DataFrame side column `raw_df`."
   ]
  },
  {
   "cell_type": "markdown",
   "metadata": {},
   "source": [
    "### What data type does each column currently have? Are there any columns whose data types are not suitable for further processing?"
   ]
  },
  {
   "cell_type": "markdown",
   "metadata": {},
   "source": [
    "Next, you calculate the data type (dtype) of each column in DataFrame `raw_df` and save the result into Series `dtypes` (This Series has the index as the column name)."
   ]
  },
  {
   "cell_type": "code",
   "execution_count": 15,
   "metadata": {},
   "outputs": [
    {
     "data": {
      "text/plain": [
       "uct_time             object\n",
       "launch_name          object\n",
       "payloads             object\n",
       "rocket_name          object\n",
       "rocket_boosters       int64\n",
       "rocket_height       float64\n",
       "rocket_diameter     float64\n",
       "rocket_mass         float64\n",
       "launchpad_name       object\n",
       "launchpad_region     object\n",
       "launchpad_geo        object\n",
       "landpad             float64\n",
       "landpad_name         object\n",
       "landpad_type         object\n",
       "landpad_region       object\n",
       "landpad_geo          object\n",
       "outcome              object\n",
       "dtype: object"
      ]
     },
     "execution_count": 15,
     "metadata": {},
     "output_type": "execute_result"
    }
   ],
   "source": [
    "# YOUR CODE HERE\n",
    "dtypes = raw_df.dtypes\n",
    "dtypes\n",
    "# raise NotImplementedError()"
   ]
  },
  {
   "cell_type": "code",
   "execution_count": 16,
   "metadata": {},
   "outputs": [],
   "source": [
    "# TEST\n",
    "dtypes = raw_df.dtypes\n",
    "\n",
    "int_cols = set(dtypes[(dtypes==np.int32) | (dtypes==np.int64)].index)\n",
    "assert adler32(str(len(int_cols)).encode()) == 3276850\n",
    "\n",
    "float_cols = set(dtypes[(dtypes==np.float32) | (dtypes==np.float64)].index)\n",
    "assert adler32(str(len(float_cols)).encode()) == 3473461\n",
    "\n",
    "object_cols = set(dtypes[dtypes == object].index)\n",
    "assert adler32(str(len(object_cols)).encode()) == 9830500"
   ]
  },
  {
   "cell_type": "markdown",
   "metadata": {},
   "source": [
    "#### Convert datatype for UCT times attribute"
   ]
  },
  {
   "cell_type": "markdown",
   "metadata": {},
   "source": [
    "The datatype of the column `uct_time` should be datetime. You have to convert it to the right datatype. "
   ]
  },
  {
   "cell_type": "code",
   "execution_count": 17,
   "metadata": {},
   "outputs": [
    {
     "data": {
      "text/plain": [
       "0     2006-03-24 22:30:00+00:00\n",
       "1     2007-03-21 01:10:00+00:00\n",
       "2     2008-08-03 03:34:00+00:00\n",
       "3     2008-09-28 23:15:00+00:00\n",
       "4     2009-07-13 03:35:00+00:00\n",
       "                 ...           \n",
       "200   2022-12-01 00:00:00+00:00\n",
       "201   2022-12-01 00:00:00+00:00\n",
       "202   2022-12-01 00:00:00+00:00\n",
       "203   2022-12-01 00:00:00+00:00\n",
       "204   2022-12-01 00:00:00+00:00\n",
       "Name: uct_time, Length: 205, dtype: datetime64[ns, UTC]"
      ]
     },
     "execution_count": 17,
     "metadata": {},
     "output_type": "execute_result"
    }
   ],
   "source": [
    "# YOUR CODE HERE\n",
    "raw_df[\"uct_time\"] = pd.to_datetime(raw_df[\"uct_time\"])\n",
    "raw_df[\"uct_time\"]\n",
    "# raise NotImplementedError()"
   ]
  },
  {
   "cell_type": "code",
   "execution_count": 18,
   "metadata": {},
   "outputs": [
    {
     "data": {
      "text/plain": [
       "datetime64[ns, UTC]"
      ]
     },
     "execution_count": 18,
     "metadata": {},
     "output_type": "execute_result"
    }
   ],
   "source": [
    "# TEST\n",
    "raw_df[\"uct_time\"].dtype"
   ]
  },
  {
   "cell_type": "markdown",
   "metadata": {},
   "source": [
    "For the remain columns, we will process later. :)"
   ]
  },
  {
   "cell_type": "markdown",
   "metadata": {},
   "source": [
    "### Exploring datetime attributes"
   ]
  },
  {
   "cell_type": "code",
   "execution_count": 19,
   "metadata": {},
   "outputs": [
    {
     "data": {
      "text/html": [
       "<div>\n",
       "<style scoped>\n",
       "    .dataframe tbody tr th:only-of-type {\n",
       "        vertical-align: middle;\n",
       "    }\n",
       "\n",
       "    .dataframe tbody tr th {\n",
       "        vertical-align: top;\n",
       "    }\n",
       "\n",
       "    .dataframe thead th {\n",
       "        text-align: right;\n",
       "    }\n",
       "</style>\n",
       "<table border=\"1\" class=\"dataframe\">\n",
       "  <thead>\n",
       "    <tr style=\"text-align: right;\">\n",
       "      <th></th>\n",
       "      <th>uct_time</th>\n",
       "    </tr>\n",
       "  </thead>\n",
       "  <tbody>\n",
       "    <tr>\n",
       "      <th>0</th>\n",
       "      <td>2006-03-24 22:30:00+00:00</td>\n",
       "    </tr>\n",
       "    <tr>\n",
       "      <th>1</th>\n",
       "      <td>2007-03-21 01:10:00+00:00</td>\n",
       "    </tr>\n",
       "    <tr>\n",
       "      <th>2</th>\n",
       "      <td>2008-08-03 03:34:00+00:00</td>\n",
       "    </tr>\n",
       "    <tr>\n",
       "      <th>3</th>\n",
       "      <td>2008-09-28 23:15:00+00:00</td>\n",
       "    </tr>\n",
       "    <tr>\n",
       "      <th>4</th>\n",
       "      <td>2009-07-13 03:35:00+00:00</td>\n",
       "    </tr>\n",
       "  </tbody>\n",
       "</table>\n",
       "</div>"
      ],
      "text/plain": [
       "                   uct_time\n",
       "0 2006-03-24 22:30:00+00:00\n",
       "1 2007-03-21 01:10:00+00:00\n",
       "2 2008-08-03 03:34:00+00:00\n",
       "3 2008-09-28 23:15:00+00:00\n",
       "4 2009-07-13 03:35:00+00:00"
      ]
     },
     "execution_count": 19,
     "metadata": {},
     "output_type": "execute_result"
    }
   ],
   "source": [
    "datetime_col_df = raw_df.select_dtypes(include=['datetime64','datetime64[ns, UTC]'])\n",
    "datetime_col_df.head()"
   ]
  },
  {
   "cell_type": "code",
   "execution_count": 20,
   "metadata": {},
   "outputs": [
    {
     "data": {
      "image/png": "[encoded data removed]",
      "text/plain": [
       "<Figure size 1200x800 with 1 Axes>"
      ]
     },
     "metadata": {},
     "output_type": "display_data"
    }
   ],
   "source": [
    "# Visualization\n",
    "df_plot = raw_df.copy()\n",
    "df_plot[\"year\"] = raw_df['uct_time'].dt.year\n",
    "df_plot = df_plot.groupby(['outcome', 'year']).size().reset_index().pivot(columns='outcome', index='year', values=0)\n",
    "df_plot.plot(kind='bar', stacked=True)\n",
    "plt.title(\"Outcome over years (2006 - 2022) of spaceX rocket launch.\")\n",
    "plt.show()"
   ]
  },
  {
   "cell_type": "markdown",
   "metadata": {},
   "source": [
    "**TODO: Describe your observation from chart**"
   ]
  },
  {
   "cell_type": "markdown",
   "metadata": {},
   "source": [
    "\n",
    "It is clear that after 2008, the number of fail launches dropped significantly, with the exception of 2015 and 2016. We can also see a steady increase throughout the years, except for the sudden drop at 2019 and the number of successful launches doubled up in 2022"
   ]
  },
  {
   "cell_type": "markdown",
   "metadata": {},
   "source": [
    "### Exploring numerical attributes"
   ]
  },
  {
   "cell_type": "code",
   "execution_count": 21,
   "metadata": {},
   "outputs": [
    {
     "data": {
      "text/html": [
       "<div>\n",
       "<style scoped>\n",
       "    .dataframe tbody tr th:only-of-type {\n",
       "        vertical-align: middle;\n",
       "    }\n",
       "\n",
       "    .dataframe tbody tr th {\n",
       "        vertical-align: top;\n",
       "    }\n",
       "\n",
       "    .dataframe thead th {\n",
       "        text-align: right;\n",
       "    }\n",
       "</style>\n",
       "<table border=\"1\" class=\"dataframe\">\n",
       "  <thead>\n",
       "    <tr style=\"text-align: right;\">\n",
       "      <th></th>\n",
       "      <th>rocket_boosters</th>\n",
       "      <th>rocket_height</th>\n",
       "      <th>rocket_diameter</th>\n",
       "      <th>rocket_mass</th>\n",
       "      <th>landpad</th>\n",
       "    </tr>\n",
       "  </thead>\n",
       "  <tbody>\n",
       "    <tr>\n",
       "      <th>0</th>\n",
       "      <td>0</td>\n",
       "      <td>22.25</td>\n",
       "      <td>1.68</td>\n",
       "      <td>30146.0</td>\n",
       "      <td>NaN</td>\n",
       "    </tr>\n",
       "    <tr>\n",
       "      <th>1</th>\n",
       "      <td>0</td>\n",
       "      <td>22.25</td>\n",
       "      <td>1.68</td>\n",
       "      <td>30146.0</td>\n",
       "      <td>NaN</td>\n",
       "    </tr>\n",
       "    <tr>\n",
       "      <th>2</th>\n",
       "      <td>0</td>\n",
       "      <td>22.25</td>\n",
       "      <td>1.68</td>\n",
       "      <td>NaN</td>\n",
       "      <td>NaN</td>\n",
       "    </tr>\n",
       "    <tr>\n",
       "      <th>3</th>\n",
       "      <td>0</td>\n",
       "      <td>22.25</td>\n",
       "      <td>1.68</td>\n",
       "      <td>NaN</td>\n",
       "      <td>NaN</td>\n",
       "    </tr>\n",
       "    <tr>\n",
       "      <th>4</th>\n",
       "      <td>0</td>\n",
       "      <td>22.25</td>\n",
       "      <td>1.68</td>\n",
       "      <td>30146.0</td>\n",
       "      <td>NaN</td>\n",
       "    </tr>\n",
       "  </tbody>\n",
       "</table>\n",
       "</div>"
      ],
      "text/plain": [
       "   rocket_boosters  rocket_height  rocket_diameter  rocket_mass  landpad\n",
       "0                0          22.25             1.68      30146.0      NaN\n",
       "1                0          22.25             1.68      30146.0      NaN\n",
       "2                0          22.25             1.68          NaN      NaN\n",
       "3                0          22.25             1.68          NaN      NaN\n",
       "4                0          22.25             1.68      30146.0      NaN"
      ]
     },
     "execution_count": 21,
     "metadata": {},
     "output_type": "execute_result"
    }
   ],
   "source": [
    "num_col_df = raw_df.select_dtypes(exclude=['object', 'datetime64','datetime64[ns, UTC]'])\n",
    "num_col_df.head()"
   ]
  },
  {
   "cell_type": "markdown",
   "metadata": {},
   "source": [
    "For columns with numeric data types, you will calculate:\n",
    "- Percentage (from 0 to 100) of missing values\n",
    "- Min value\n",
    "- Lower quantile\n",
    "- Median value\n",
    "- Upper quantile\n",
    "- Max value\n",
    "\n",
    "You will save the results to a DataFrame `num_col_info_df`, where:\n",
    "- The names of the columns are the names of the numeric columns in `raw_df`\n",
    "- Names of rows: \"missing_ratio\", \"min\", \"lower_quartile\", \"median\", \"upper_quartile\", \"max\"  \n",
    "\n",
    "For ease of viewing, you round all values to 1 decimal place using the `.round(1)` method."
   ]
  },
  {
   "cell_type": "code",
   "execution_count": 22,
   "metadata": {},
   "outputs": [],
   "source": [
    "def missing_ratio(s):\n",
    "    # TODO:\n",
    "    # YOUR CODE\n",
    "    # print(len(s))\n",
    "    return (s.isnull().sum() / len(s)).round(1)\n",
    "    raise NotImplementedError()\n",
    "\n",
    "def median(df):\n",
    "    # TODO:\n",
    "    # YOUR CODE\n",
    "    med = df.median().round(1)\n",
    "    return med\n",
    "    raise NotImplementedError()\n",
    "\n",
    "def lower_quartile(df):\n",
    "    # TODO:\n",
    "    # YOUR CODE HERE\n",
    "    lower_Quartile = df.quantile(0.25).round(1)\n",
    "    return lower_Quartile\n",
    "    raise NotImplementedError()\n",
    "\n",
    "def upper_quartile(df):\n",
    "    # TODO:\n",
    "    # YOUR CODE HERE\n",
    "    upper_Quartile = df.quantile(0.75).round(1)\n",
    "    return upper_Quartile\n",
    "    raise NotImplementedError()"
   ]
  },
  {
   "cell_type": "code",
   "execution_count": 23,
   "metadata": {},
   "outputs": [
    {
     "data": {
      "text/plain": [
       "rocket_boosters         0.0\n",
       "rocket_height          70.0\n",
       "rocket_diameter         3.7\n",
       "rocket_mass        549054.0\n",
       "landpad                 NaN\n",
       "Name: 0.25, dtype: float64"
      ]
     },
     "execution_count": 23,
     "metadata": {},
     "output_type": "execute_result"
    }
   ],
   "source": [
    "lower_quartile(num_col_df)"
   ]
  },
  {
   "cell_type": "code",
   "execution_count": 24,
   "metadata": {},
   "outputs": [
    {
     "data": {
      "text/plain": [
       "rocket_boosters         0.0\n",
       "rocket_height          70.0\n",
       "rocket_diameter         3.7\n",
       "rocket_mass        549054.0\n",
       "landpad                 NaN\n",
       "Name: 0.75, dtype: float64"
      ]
     },
     "execution_count": 24,
     "metadata": {},
     "output_type": "execute_result"
    }
   ],
   "source": [
    "upper_quartile(num_col_df)"
   ]
  },
  {
   "cell_type": "code",
   "execution_count": 25,
   "metadata": {},
   "outputs": [
    {
     "data": {
      "text/html": [
       "<div>\n",
       "<style scoped>\n",
       "    .dataframe tbody tr th:only-of-type {\n",
       "        vertical-align: middle;\n",
       "    }\n",
       "\n",
       "    .dataframe tbody tr th {\n",
       "        vertical-align: top;\n",
       "    }\n",
       "\n",
       "    .dataframe thead th {\n",
       "        text-align: right;\n",
       "    }\n",
       "</style>\n",
       "<table border=\"1\" class=\"dataframe\">\n",
       "  <thead>\n",
       "    <tr style=\"text-align: right;\">\n",
       "      <th></th>\n",
       "      <th>rocket_boosters</th>\n",
       "      <th>rocket_height</th>\n",
       "      <th>rocket_diameter</th>\n",
       "      <th>rocket_mass</th>\n",
       "      <th>landpad</th>\n",
       "    </tr>\n",
       "  </thead>\n",
       "  <tbody>\n",
       "    <tr>\n",
       "      <th>missing_ratio</th>\n",
       "      <td>0.0</td>\n",
       "      <td>0.30</td>\n",
       "      <td>0.30</td>\n",
       "      <td>0.3</td>\n",
       "      <td>1.0</td>\n",
       "    </tr>\n",
       "    <tr>\n",
       "      <th>min</th>\n",
       "      <td>0.0</td>\n",
       "      <td>22.25</td>\n",
       "      <td>1.68</td>\n",
       "      <td>30146.0</td>\n",
       "      <td>NaN</td>\n",
       "    </tr>\n",
       "    <tr>\n",
       "      <th>lower_quartile</th>\n",
       "      <td>0.0</td>\n",
       "      <td>70.00</td>\n",
       "      <td>3.70</td>\n",
       "      <td>549054.0</td>\n",
       "      <td>NaN</td>\n",
       "    </tr>\n",
       "    <tr>\n",
       "      <th>median</th>\n",
       "      <td>0.0</td>\n",
       "      <td>70.00</td>\n",
       "      <td>3.70</td>\n",
       "      <td>549054.0</td>\n",
       "      <td>NaN</td>\n",
       "    </tr>\n",
       "    <tr>\n",
       "      <th>upper_quartile</th>\n",
       "      <td>0.0</td>\n",
       "      <td>70.00</td>\n",
       "      <td>3.70</td>\n",
       "      <td>549054.0</td>\n",
       "      <td>NaN</td>\n",
       "    </tr>\n",
       "    <tr>\n",
       "      <th>max</th>\n",
       "      <td>2.0</td>\n",
       "      <td>70.00</td>\n",
       "      <td>12.20</td>\n",
       "      <td>1420788.0</td>\n",
       "      <td>NaN</td>\n",
       "    </tr>\n",
       "  </tbody>\n",
       "</table>\n",
       "</div>"
      ],
      "text/plain": [
       "                rocket_boosters  rocket_height  rocket_diameter  rocket_mass  \\\n",
       "missing_ratio               0.0           0.30             0.30          0.3   \n",
       "min                         0.0          22.25             1.68      30146.0   \n",
       "lower_quartile              0.0          70.00             3.70     549054.0   \n",
       "median                      0.0          70.00             3.70     549054.0   \n",
       "upper_quartile              0.0          70.00             3.70     549054.0   \n",
       "max                         2.0          70.00            12.20    1420788.0   \n",
       "\n",
       "                landpad  \n",
       "missing_ratio       1.0  \n",
       "min                 NaN  \n",
       "lower_quartile      NaN  \n",
       "median              NaN  \n",
       "upper_quartile      NaN  \n",
       "max                 NaN  "
      ]
     },
     "execution_count": 25,
     "metadata": {},
     "output_type": "execute_result"
    }
   ],
   "source": [
    "# TEST\n",
    "num_col_info_df = num_col_df.agg([missing_ratio, \"min\", lower_quartile, median, upper_quartile, \"max\"])\n",
    "num_col_info_df"
   ]
  },
  {
   "cell_type": "markdown",
   "metadata": {},
   "source": [
    "If an attribute has missing ratio greater than 70%, you can consider to drop it from dataframe."
   ]
  },
  {
   "cell_type": "code",
   "execution_count": 26,
   "metadata": {},
   "outputs": [],
   "source": [
    "# YOUR CODE HERE\n",
    "raw_df = raw_df.drop(columns=\"landpad\")\n",
    "num_col_info_df = num_col_df.drop(columns=\"landpad\")\n",
    "num_col_df = num_col_df.drop(columns=\"landpad\")\n",
    "# raise NotImplementedError()"
   ]
  },
  {
   "cell_type": "code",
   "execution_count": 27,
   "metadata": {},
   "outputs": [
    {
     "data": {
      "text/html": [
       "<div>\n",
       "<style scoped>\n",
       "    .dataframe tbody tr th:only-of-type {\n",
       "        vertical-align: middle;\n",
       "    }\n",
       "\n",
       "    .dataframe tbody tr th {\n",
       "        vertical-align: top;\n",
       "    }\n",
       "\n",
       "    .dataframe thead th {\n",
       "        text-align: right;\n",
       "    }\n",
       "</style>\n",
       "<table border=\"1\" class=\"dataframe\">\n",
       "  <thead>\n",
       "    <tr style=\"text-align: right;\">\n",
       "      <th></th>\n",
       "      <th>rocket_boosters</th>\n",
       "      <th>rocket_height</th>\n",
       "      <th>rocket_diameter</th>\n",
       "      <th>rocket_mass</th>\n",
       "    </tr>\n",
       "  </thead>\n",
       "  <tbody>\n",
       "    <tr>\n",
       "      <th>0</th>\n",
       "      <td>0</td>\n",
       "      <td>22.25</td>\n",
       "      <td>1.68</td>\n",
       "      <td>30146.0</td>\n",
       "    </tr>\n",
       "    <tr>\n",
       "      <th>1</th>\n",
       "      <td>0</td>\n",
       "      <td>22.25</td>\n",
       "      <td>1.68</td>\n",
       "      <td>30146.0</td>\n",
       "    </tr>\n",
       "    <tr>\n",
       "      <th>2</th>\n",
       "      <td>0</td>\n",
       "      <td>22.25</td>\n",
       "      <td>1.68</td>\n",
       "      <td>NaN</td>\n",
       "    </tr>\n",
       "    <tr>\n",
       "      <th>3</th>\n",
       "      <td>0</td>\n",
       "      <td>22.25</td>\n",
       "      <td>1.68</td>\n",
       "      <td>NaN</td>\n",
       "    </tr>\n",
       "    <tr>\n",
       "      <th>4</th>\n",
       "      <td>0</td>\n",
       "      <td>22.25</td>\n",
       "      <td>1.68</td>\n",
       "      <td>30146.0</td>\n",
       "    </tr>\n",
       "  </tbody>\n",
       "</table>\n",
       "</div>"
      ],
      "text/plain": [
       "   rocket_boosters  rocket_height  rocket_diameter  rocket_mass\n",
       "0                0          22.25             1.68      30146.0\n",
       "1                0          22.25             1.68      30146.0\n",
       "2                0          22.25             1.68          NaN\n",
       "3                0          22.25             1.68          NaN\n",
       "4                0          22.25             1.68      30146.0"
      ]
     },
     "execution_count": 27,
     "metadata": {},
     "output_type": "execute_result"
    }
   ],
   "source": [
    "# TEST\n",
    "num_col_info_df.head()"
   ]
  },
  {
   "cell_type": "markdown",
   "metadata": {},
   "source": [
    "In the otherwise case, you have to fill missing values. To deal with missing values, you have to perform mean fill, median fill, and mode fill. Then, you study how different they are by using the visualization of probability density function (p.d.f)."
   ]
  },
  {
   "cell_type": "code",
   "execution_count": 28,
   "metadata": {},
   "outputs": [],
   "source": [
    "# YOUR CODE HERE\n",
    "## Mean fill\n",
    "mean_fill = num_col_df.fillna(value=num_col_df.mean())\n",
    "# raise NotImplementedError()\n",
    "num_col_df[\"mean_fill_rocket_height\"] = mean_fill['rocket_height']"
   ]
  },
  {
   "cell_type": "code",
   "execution_count": 29,
   "metadata": {},
   "outputs": [],
   "source": [
    "# YOUR CODE HERE\n",
    "## Median fill\n",
    "med_fill = num_col_df.fillna(value=median(num_col_df))\n",
    "# raise NotImplementedError()\n",
    "num_col_df[\"median_fill_rocket_height\"] = med_fill['rocket_height']"
   ]
  },
  {
   "cell_type": "code",
   "execution_count": 30,
   "metadata": {},
   "outputs": [],
   "source": [
    "# YOUR CODE HERE\n",
    "## Mode fill\n",
    "mode_fill = num_col_df.copy()\n",
    "mode = mode_fill.filter([\"rocket_boosters\",\"rocket_height\",  \"rocket_diameter\",  \"rocket_mass\"]).mode()\n",
    "cols = [\"rocket_boosters\",\"rocket_height\",  \"rocket_diameter\",  \"rocket_mass\"]\n",
    "mode_fill[cols]=num_col_df[cols].fillna(mode_fill.mode().iloc[0])\n",
    "mode_fill.head()\n",
    "num_col_df[\"mode_fill_rocket_height\"]  = mode_fill['rocket_height']\n",
    "# raise NotImplementedError()"
   ]
  },
  {
   "cell_type": "code",
   "execution_count": 31,
   "metadata": {},
   "outputs": [
    {
     "data": {
      "image/png": "[encoded data removed]",
      "text/plain": [
       "<Figure size 1200x800 with 1 Axes>"
      ]
     },
     "metadata": {},
     "output_type": "display_data"
    }
   ],
   "source": [
    "# Visualization for rocket_height\n",
    "fig = plt.figure()\n",
    "ax = fig.add_subplot(111)\n",
    "\n",
    "num_col_df[\"rocket_height\"] .plot(kind=\"kde\", ax=ax, color=\"blue\")\n",
    "num_col_df[\"mean_fill_rocket_height\"] .plot(kind=\"kde\", ax=ax, color=\"red\")\n",
    "num_col_df[\"median_fill_rocket_height\"] .plot(kind=\"kde\", ax=ax, color=\"green\")\n",
    "num_col_df[\"mode_fill_rocket_height\"] .plot(kind=\"kde\", ax=ax, color=\"yellow\")\n",
    "\n",
    "lines, labels = ax.get_legend_handles_labels()\n",
    "ax.legend(lines, labels, loc='best')\n",
    "plt.title(\"Comparing mean, median, and mode missing values filling for rocket height.\")\n",
    "plt.show()"
   ]
  },
  {
   "cell_type": "markdown",
   "metadata": {},
   "source": [
    "**TODO: Describe your observation from chart**"
   ]
  },
  {
   "cell_type": "markdown",
   "metadata": {},
   "source": [
    "The median and mode fill are nearly the same as each other, while mean fill is a little bit lower in density"
   ]
  },
  {
   "cell_type": "markdown",
   "metadata": {},
   "source": [
    "**Before choosing one of them to fill in your `raw_df`**, do you realize an abnomal in `rocket_height` attribute?\n",
    "\n",
    "**TODO:** Read metadata again, check `rocket_name`, find the way to fill missing value for `rocket_height`."
   ]
  },
  {
   "cell_type": "code",
   "execution_count": 32,
   "metadata": {},
   "outputs": [
    {
     "data": {
      "text/plain": [
       "array(['Falcon 1', 'Falcon 9', 'Falcon Heavy'], dtype=object)"
      ]
     },
     "execution_count": 32,
     "metadata": {},
     "output_type": "execute_result"
    }
   ],
   "source": [
    "raw_df[\"rocket_name\"].unique()"
   ]
  },
  {
   "cell_type": "code",
   "execution_count": 33,
   "metadata": {},
   "outputs": [],
   "source": [
    "# YOUR CODE HERE\n",
    "## Recheck: find unique elements in `rocket_name`\n",
    "raw_df[\"rocket_name\"].unique()\n",
    "\n",
    "## Check the maximum and minimum height values for each rocket\n",
    "def checking_range(rocket_name: str) -> tuple[float, float]:\n",
    "    \"\"\"Checking range of height for a given rocket name\n",
    "\n",
    "    Args:\n",
    "        rocket_name (str): the name of rocket\n",
    "\n",
    "    Returns:\n",
    "        tuple[float, float]: the range, min-max.\n",
    "    \"\"\"\n",
    "    rocket_df = raw_df[raw_df[\"rocket_name\"] == rocket_name]\n",
    "    min_height = min(rocket_df[\"rocket_height\"])\n",
    "    max_height = max(rocket_df[\"rocket_height\"])\n",
    "    return (min_height,max_height)\n",
    "    raise NotImplementedError()"
   ]
  },
  {
   "cell_type": "code",
   "execution_count": 34,
   "metadata": {},
   "outputs": [],
   "source": [
    "# Perform checking for Falcon 1\n",
    "assert adler32(str(checking_range(rocket_name=\"Falcon 1\")[0] + checking_range(rocket_name=\"Falcon 1\")[1]).encode()) == 33620172"
   ]
  },
  {
   "cell_type": "code",
   "execution_count": 35,
   "metadata": {},
   "outputs": [],
   "source": [
    "# Perform checking for Falcon 9\n",
    "assert adler32(str(checking_range(rocket_name=\"Falcon 9\")[0] + checking_range(rocket_name=\"Falcon 9\")[1]).encode()) == 48627956"
   ]
  },
  {
   "cell_type": "code",
   "execution_count": 36,
   "metadata": {},
   "outputs": [],
   "source": [
    "# Perform checking for Falcon Heavy\n",
    "assert adler32(str(checking_range(rocket_name=\"Falcon Heavy\")[0] * checking_range(rocket_name=\"Falcon Heavy\")[1]).encode()) == 70713644"
   ]
  },
  {
   "cell_type": "markdown",
   "metadata": {},
   "source": [
    "And now, you should fill missing values with a specific value. "
   ]
  },
  {
   "cell_type": "code",
   "execution_count": 37,
   "metadata": {},
   "outputs": [],
   "source": [
    "# TODO:\n",
    "# YOUR CODE HERE\n",
    "def fill_rocketheight(df: pd.DataFrame) -> pd.DataFrame:\n",
    "    cp_df = df.copy()\n",
    "    cp_df[\"rocket_height\"] = cp_df[\"rocket_height\"].fillna(value=df[\"rocket_height\"].mean())\n",
    "    # raise NotImplementedError()\n",
    "    return cp_df\n",
    "\n",
    "raw_df = fill_rocketheight(raw_df)"
   ]
  },
  {
   "cell_type": "markdown",
   "metadata": {},
   "source": [
    "Choose one of ways (mean fill, median fill) to fill missing values for the remain columns (`rocket_diameter`, and `rocket_mass`)"
   ]
  },
  {
   "cell_type": "code",
   "execution_count": 38,
   "metadata": {},
   "outputs": [],
   "source": [
    "# YOUR CODE HERE\n",
    "def fill_rocketdiameter(df: pd.DataFrame) -> pd.DataFrame:\n",
    "    cp_df = df.copy()\n",
    "    cp_df = cp_df.fillna(value=cp_df.mean())\n",
    "    # raise NotImplementedError()\n",
    "    return cp_df\n",
    "\n",
    "def fill_rocketmass(df: pd.DataFrame) -> pd.DataFrame:\n",
    "    cp_df = df.copy()\n",
    "    cp_df = cp_df.fillna(value=cp_df.mean())\n",
    "    # raise NotImplementedError()\n",
    "    return cp_df\n",
    "\n",
    "raw_df[\"rocket_diameter\"] = fill_rocketdiameter(raw_df[\"rocket_diameter\"])\n",
    "raw_df[\"rocket_mass\"] = fill_rocketmass(raw_df[\"rocket_mass\"])\n",
    "# raw_df[\"rocket_diameter\"] = raw_df[\"rocket_diameter\"].fillna(value=raw_df[\"rocket_diameter\"].mean())\n",
    "# raw_df[\"rocket_mass\"] = raw_df[\"rocket_mass\"].fillna(value=raw_df[\"rocket_mass\"].mean())\n",
    "# raise NotImplementedError()"
   ]
  },
  {
   "cell_type": "code",
   "execution_count": 39,
   "metadata": {},
   "outputs": [
    {
     "data": {
      "text/html": [
       "<div>\n",
       "<style scoped>\n",
       "    .dataframe tbody tr th:only-of-type {\n",
       "        vertical-align: middle;\n",
       "    }\n",
       "\n",
       "    .dataframe tbody tr th {\n",
       "        vertical-align: top;\n",
       "    }\n",
       "\n",
       "    .dataframe thead th {\n",
       "        text-align: right;\n",
       "    }\n",
       "</style>\n",
       "<table border=\"1\" class=\"dataframe\">\n",
       "  <thead>\n",
       "    <tr style=\"text-align: right;\">\n",
       "      <th></th>\n",
       "      <th>rocket_boosters</th>\n",
       "      <th>rocket_height</th>\n",
       "      <th>rocket_diameter</th>\n",
       "      <th>rocket_mass</th>\n",
       "    </tr>\n",
       "  </thead>\n",
       "  <tbody>\n",
       "    <tr>\n",
       "      <th>missing_ratio</th>\n",
       "      <td>0.0</td>\n",
       "      <td>0.00</td>\n",
       "      <td>0.00</td>\n",
       "      <td>0.0</td>\n",
       "    </tr>\n",
       "    <tr>\n",
       "      <th>min</th>\n",
       "      <td>0.0</td>\n",
       "      <td>22.25</td>\n",
       "      <td>1.68</td>\n",
       "      <td>30146.0</td>\n",
       "    </tr>\n",
       "    <tr>\n",
       "      <th>lower_quartile</th>\n",
       "      <td>0.0</td>\n",
       "      <td>70.00</td>\n",
       "      <td>3.70</td>\n",
       "      <td>549054.0</td>\n",
       "    </tr>\n",
       "    <tr>\n",
       "      <th>median</th>\n",
       "      <td>0.0</td>\n",
       "      <td>70.00</td>\n",
       "      <td>3.70</td>\n",
       "      <td>549054.0</td>\n",
       "    </tr>\n",
       "    <tr>\n",
       "      <th>upper_quartile</th>\n",
       "      <td>0.0</td>\n",
       "      <td>70.00</td>\n",
       "      <td>3.80</td>\n",
       "      <td>556404.5</td>\n",
       "    </tr>\n",
       "    <tr>\n",
       "      <th>max</th>\n",
       "      <td>2.0</td>\n",
       "      <td>70.00</td>\n",
       "      <td>12.20</td>\n",
       "      <td>1420788.0</td>\n",
       "    </tr>\n",
       "  </tbody>\n",
       "</table>\n",
       "</div>"
      ],
      "text/plain": [
       "                rocket_boosters  rocket_height  rocket_diameter  rocket_mass\n",
       "missing_ratio               0.0           0.00             0.00          0.0\n",
       "min                         0.0          22.25             1.68      30146.0\n",
       "lower_quartile              0.0          70.00             3.70     549054.0\n",
       "median                      0.0          70.00             3.70     549054.0\n",
       "upper_quartile              0.0          70.00             3.80     556404.5\n",
       "max                         2.0          70.00            12.20    1420788.0"
      ]
     },
     "execution_count": 39,
     "metadata": {},
     "output_type": "execute_result"
    }
   ],
   "source": [
    "# TEST\n",
    "num_col_df = raw_df.select_dtypes(exclude=['object', 'datetime64','datetime64[ns, UTC]'])\n",
    "num_col_df.agg([missing_ratio, \"min\", lower_quartile, median, upper_quartile, \"max\"])"
   ]
  },
  {
   "cell_type": "code",
   "execution_count": 40,
   "metadata": {},
   "outputs": [],
   "source": [
    "# TEST\n",
    "num_col_info_df = num_col_df.agg([missing_ratio, \"min\", lower_quartile, median, upper_quartile, \"max\"])\n",
    "assert num_col_info_df.shape == (6, 4)\n",
    "\n",
    "data = num_col_info_df.loc[['missing_ratio', 'min', 'lower_quartile', 'median', 'upper_quartile', 'max'],\n",
    "                           ['rocket_boosters', 'rocket_height', 'rocket_diameter', 'rocket_mass']].values\n",
    "\n",
    "assert adler32(str(data).encode()) == 1580417893\n"
   ]
  },
  {
   "cell_type": "markdown",
   "metadata": {},
   "source": [
    "**TODO** What type of each numerical attribute? Continous?  variable?"
   ]
  },
  {
   "cell_type": "markdown",
   "metadata": {},
   "source": [
    "YOUR ANSWER HERE"
   ]
  },
  {
   "cell_type": "markdown",
   "metadata": {},
   "source": [
    "### Exploring non-numerical attributes"
   ]
  },
  {
   "cell_type": "code",
   "execution_count": 41,
   "metadata": {},
   "outputs": [
    {
     "data": {
      "text/html": [
       "<div>\n",
       "<style scoped>\n",
       "    .dataframe tbody tr th:only-of-type {\n",
       "        vertical-align: middle;\n",
       "    }\n",
       "\n",
       "    .dataframe tbody tr th {\n",
       "        vertical-align: top;\n",
       "    }\n",
       "\n",
       "    .dataframe thead th {\n",
       "        text-align: right;\n",
       "    }\n",
       "</style>\n",
       "<table border=\"1\" class=\"dataframe\">\n",
       "  <thead>\n",
       "    <tr style=\"text-align: right;\">\n",
       "      <th></th>\n",
       "      <th>launch_name</th>\n",
       "      <th>payloads</th>\n",
       "      <th>rocket_name</th>\n",
       "      <th>launchpad_name</th>\n",
       "      <th>launchpad_region</th>\n",
       "      <th>launchpad_geo</th>\n",
       "      <th>landpad_name</th>\n",
       "      <th>landpad_type</th>\n",
       "      <th>landpad_region</th>\n",
       "      <th>landpad_geo</th>\n",
       "      <th>outcome</th>\n",
       "    </tr>\n",
       "  </thead>\n",
       "  <tbody>\n",
       "    <tr>\n",
       "      <th>0</th>\n",
       "      <td>FalconSat</td>\n",
       "      <td>[{'type': 'Satellite', 'mass': 20, 'orbit': 'LEO'}]</td>\n",
       "      <td>Falcon 1</td>\n",
       "      <td>Kwajalein Atoll</td>\n",
       "      <td>Marshall Islands</td>\n",
       "      <td>(9.0477206, 167.7431292)</td>\n",
       "      <td>NaN</td>\n",
       "      <td>NaN</td>\n",
       "      <td>NaN</td>\n",
       "      <td>(nan, nan)</td>\n",
       "      <td>Failure</td>\n",
       "    </tr>\n",
       "    <tr>\n",
       "      <th>1</th>\n",
       "      <td>DemoSat</td>\n",
       "      <td>[{'type': 'Satellite', 'mass': None, 'orbit': 'LEO'}]</td>\n",
       "      <td>Falcon 1</td>\n",
       "      <td>Kwajalein Atoll</td>\n",
       "      <td>Marshall Islands</td>\n",
       "      <td>(9.0477206, 167.7431292)</td>\n",
       "      <td>NaN</td>\n",
       "      <td>NaN</td>\n",
       "      <td>NaN</td>\n",
       "      <td>(nan, nan)</td>\n",
       "      <td>Failure</td>\n",
       "    </tr>\n",
       "    <tr>\n",
       "      <th>2</th>\n",
       "      <td>Trailblazer</td>\n",
       "      <td>[{'type': 'Satellite', 'mass': None, 'orbit': 'LEO'}, {'type': 'Satellite', 'mass': None, 'orbit...</td>\n",
       "      <td>Falcon 1</td>\n",
       "      <td>Kwajalein Atoll</td>\n",
       "      <td>Marshall Islands</td>\n",
       "      <td>(9.0477206, 167.7431292)</td>\n",
       "      <td>NaN</td>\n",
       "      <td>NaN</td>\n",
       "      <td>NaN</td>\n",
       "      <td>(nan, nan)</td>\n",
       "      <td>Failure</td>\n",
       "    </tr>\n",
       "    <tr>\n",
       "      <th>3</th>\n",
       "      <td>RatSat</td>\n",
       "      <td>[{'type': 'Satellite', 'mass': 165, 'orbit': 'LEO'}]</td>\n",
       "      <td>Falcon 1</td>\n",
       "      <td>Kwajalein Atoll</td>\n",
       "      <td>Marshall Islands</td>\n",
       "      <td>(9.0477206, 167.7431292)</td>\n",
       "      <td>NaN</td>\n",
       "      <td>NaN</td>\n",
       "      <td>NaN</td>\n",
       "      <td>(nan, nan)</td>\n",
       "      <td>Success</td>\n",
       "    </tr>\n",
       "    <tr>\n",
       "      <th>4</th>\n",
       "      <td>RazakSat</td>\n",
       "      <td>[{'type': 'Satellite', 'mass': 200, 'orbit': 'LEO'}]</td>\n",
       "      <td>Falcon 1</td>\n",
       "      <td>Kwajalein Atoll</td>\n",
       "      <td>Marshall Islands</td>\n",
       "      <td>(9.0477206, 167.7431292)</td>\n",
       "      <td>NaN</td>\n",
       "      <td>NaN</td>\n",
       "      <td>NaN</td>\n",
       "      <td>(nan, nan)</td>\n",
       "      <td>Success</td>\n",
       "    </tr>\n",
       "  </tbody>\n",
       "</table>\n",
       "</div>"
      ],
      "text/plain": [
       "   launch_name  \\\n",
       "0    FalconSat   \n",
       "1      DemoSat   \n",
       "2  Trailblazer   \n",
       "3       RatSat   \n",
       "4     RazakSat   \n",
       "\n",
       "                                                                                              payloads  \\\n",
       "0                                                  [{'type': 'Satellite', 'mass': 20, 'orbit': 'LEO'}]   \n",
       "1                                                [{'type': 'Satellite', 'mass': None, 'orbit': 'LEO'}]   \n",
       "2  [{'type': 'Satellite', 'mass': None, 'orbit': 'LEO'}, {'type': 'Satellite', 'mass': None, 'orbit...   \n",
       "3                                                 [{'type': 'Satellite', 'mass': 165, 'orbit': 'LEO'}]   \n",
       "4                                                 [{'type': 'Satellite', 'mass': 200, 'orbit': 'LEO'}]   \n",
       "\n",
       "  rocket_name   launchpad_name  launchpad_region             launchpad_geo  \\\n",
       "0    Falcon 1  Kwajalein Atoll  Marshall Islands  (9.0477206, 167.7431292)   \n",
       "1    Falcon 1  Kwajalein Atoll  Marshall Islands  (9.0477206, 167.7431292)   \n",
       "2    Falcon 1  Kwajalein Atoll  Marshall Islands  (9.0477206, 167.7431292)   \n",
       "3    Falcon 1  Kwajalein Atoll  Marshall Islands  (9.0477206, 167.7431292)   \n",
       "4    Falcon 1  Kwajalein Atoll  Marshall Islands  (9.0477206, 167.7431292)   \n",
       "\n",
       "  landpad_name landpad_type landpad_region landpad_geo  outcome  \n",
       "0          NaN          NaN            NaN  (nan, nan)  Failure  \n",
       "1          NaN          NaN            NaN  (nan, nan)  Failure  \n",
       "2          NaN          NaN            NaN  (nan, nan)  Failure  \n",
       "3          NaN          NaN            NaN  (nan, nan)  Success  \n",
       "4          NaN          NaN            NaN  (nan, nan)  Success  "
      ]
     },
     "execution_count": 41,
     "metadata": {},
     "output_type": "execute_result"
    }
   ],
   "source": [
    "cate_col_df = raw_df.select_dtypes(include=['object'])\n",
    "cate_col_df.head()"
   ]
  },
  {
   "cell_type": "code",
   "execution_count": 42,
   "metadata": {},
   "outputs": [],
   "source": [
    "def str2dict(s: str) -> List[Dict]:\n",
    "    \"\"\"Convert given string to dict\n",
    "    \n",
    "    Example:\n",
    "        - Input string: [{'type': 'Satellite', 'mass': None, 'orbit': 'LEO'}, {'type': 'Satellite', 'mass': None, 'orbit': 'LEO'}]\n",
    "        - Output: ({'type': 'Satellite', 'mass': None, 'orbit': 'LEO'}, {'type': 'Satellite', 'mass': None, 'orbit': 'LEO'})\n",
    "\n",
    "    Args:\n",
    "        s (str): _description_\n",
    "        \n",
    "    Return:\n",
    "        list(dict):\n",
    "    \"\"\"\n",
    "    # TODO:\n",
    "    # YOUR CODE HERE\n",
    "    # s = s.replace(\"[\",\"(\")\n",
    "    # s = s.replace(\"]\",\")\")\n",
    "    # res = json.loads(s)\n",
    "    res = list(eval(s))    \n",
    "    return res\n",
    "    raise NotImplementedError()"
   ]
  },
  {
   "cell_type": "markdown",
   "metadata": {},
   "source": [
    "Series and DataFrame methods define a .explode() method that explodes lists into separate rows. You should use this method to explode the `payloads` attribute and convert this column to `str`"
   ]
  },
  {
   "cell_type": "code",
   "execution_count": 43,
   "metadata": {},
   "outputs": [],
   "source": [
    "# TODO:\n",
    "# YOUR CODE HERE\n",
    "cate_col_df['payloads'] =cate_col_df['payloads'].apply(str2dict)\n",
    "cate_col_df = cate_col_df.explode('payloads')\n",
    "# Convert to string\n",
    "# cate_col_df['payloads'] = cate_col_df['payloads'].astype(str)\n",
    "# raw_df['payloads'].dtype\n",
    "\n",
    "# raise NotImplementedError()"
   ]
  },
  {
   "cell_type": "code",
   "execution_count": 44,
   "metadata": {},
   "outputs": [
    {
     "data": {
      "text/html": [
       "<div>\n",
       "<style scoped>\n",
       "    .dataframe tbody tr th:only-of-type {\n",
       "        vertical-align: middle;\n",
       "    }\n",
       "\n",
       "    .dataframe tbody tr th {\n",
       "        vertical-align: top;\n",
       "    }\n",
       "\n",
       "    .dataframe thead th {\n",
       "        text-align: right;\n",
       "    }\n",
       "</style>\n",
       "<table border=\"1\" class=\"dataframe\">\n",
       "  <thead>\n",
       "    <tr style=\"text-align: right;\">\n",
       "      <th></th>\n",
       "      <th>launch_name</th>\n",
       "      <th>payloads</th>\n",
       "      <th>rocket_name</th>\n",
       "      <th>launchpad_name</th>\n",
       "      <th>launchpad_region</th>\n",
       "      <th>launchpad_geo</th>\n",
       "      <th>landpad_name</th>\n",
       "      <th>landpad_type</th>\n",
       "      <th>landpad_region</th>\n",
       "      <th>landpad_geo</th>\n",
       "      <th>outcome</th>\n",
       "    </tr>\n",
       "  </thead>\n",
       "  <tbody>\n",
       "    <tr>\n",
       "      <th>0</th>\n",
       "      <td>FalconSat</td>\n",
       "      <td>{'type': 'Satellite', 'mass': 20, 'orbit': 'LEO'}</td>\n",
       "      <td>Falcon 1</td>\n",
       "      <td>Kwajalein Atoll</td>\n",
       "      <td>Marshall Islands</td>\n",
       "      <td>(9.0477206, 167.7431292)</td>\n",
       "      <td>NaN</td>\n",
       "      <td>NaN</td>\n",
       "      <td>NaN</td>\n",
       "      <td>(nan, nan)</td>\n",
       "      <td>Failure</td>\n",
       "    </tr>\n",
       "    <tr>\n",
       "      <th>1</th>\n",
       "      <td>DemoSat</td>\n",
       "      <td>{'type': 'Satellite', 'mass': None, 'orbit': 'LEO'}</td>\n",
       "      <td>Falcon 1</td>\n",
       "      <td>Kwajalein Atoll</td>\n",
       "      <td>Marshall Islands</td>\n",
       "      <td>(9.0477206, 167.7431292)</td>\n",
       "      <td>NaN</td>\n",
       "      <td>NaN</td>\n",
       "      <td>NaN</td>\n",
       "      <td>(nan, nan)</td>\n",
       "      <td>Failure</td>\n",
       "    </tr>\n",
       "    <tr>\n",
       "      <th>2</th>\n",
       "      <td>Trailblazer</td>\n",
       "      <td>{'type': 'Satellite', 'mass': None, 'orbit': 'LEO'}</td>\n",
       "      <td>Falcon 1</td>\n",
       "      <td>Kwajalein Atoll</td>\n",
       "      <td>Marshall Islands</td>\n",
       "      <td>(9.0477206, 167.7431292)</td>\n",
       "      <td>NaN</td>\n",
       "      <td>NaN</td>\n",
       "      <td>NaN</td>\n",
       "      <td>(nan, nan)</td>\n",
       "      <td>Failure</td>\n",
       "    </tr>\n",
       "    <tr>\n",
       "      <th>2</th>\n",
       "      <td>Trailblazer</td>\n",
       "      <td>{'type': 'Satellite', 'mass': None, 'orbit': 'LEO'}</td>\n",
       "      <td>Falcon 1</td>\n",
       "      <td>Kwajalein Atoll</td>\n",
       "      <td>Marshall Islands</td>\n",
       "      <td>(9.0477206, 167.7431292)</td>\n",
       "      <td>NaN</td>\n",
       "      <td>NaN</td>\n",
       "      <td>NaN</td>\n",
       "      <td>(nan, nan)</td>\n",
       "      <td>Failure</td>\n",
       "    </tr>\n",
       "    <tr>\n",
       "      <th>3</th>\n",
       "      <td>RatSat</td>\n",
       "      <td>{'type': 'Satellite', 'mass': 165, 'orbit': 'LEO'}</td>\n",
       "      <td>Falcon 1</td>\n",
       "      <td>Kwajalein Atoll</td>\n",
       "      <td>Marshall Islands</td>\n",
       "      <td>(9.0477206, 167.7431292)</td>\n",
       "      <td>NaN</td>\n",
       "      <td>NaN</td>\n",
       "      <td>NaN</td>\n",
       "      <td>(nan, nan)</td>\n",
       "      <td>Success</td>\n",
       "    </tr>\n",
       "    <tr>\n",
       "      <th>...</th>\n",
       "      <td>...</td>\n",
       "      <td>...</td>\n",
       "      <td>...</td>\n",
       "      <td>...</td>\n",
       "      <td>...</td>\n",
       "      <td>...</td>\n",
       "      <td>...</td>\n",
       "      <td>...</td>\n",
       "      <td>...</td>\n",
       "      <td>...</td>\n",
       "      <td>...</td>\n",
       "    </tr>\n",
       "    <tr>\n",
       "      <th>200</th>\n",
       "      <td>Transporter-6</td>\n",
       "      <td>NaN</td>\n",
       "      <td>Falcon 9</td>\n",
       "      <td>CCSFS SLC 40</td>\n",
       "      <td>Florida</td>\n",
       "      <td>(28.5618571, -80.577366)</td>\n",
       "      <td>NaN</td>\n",
       "      <td>NaN</td>\n",
       "      <td>NaN</td>\n",
       "      <td>(nan, nan)</td>\n",
       "      <td>Success</td>\n",
       "    </tr>\n",
       "    <tr>\n",
       "      <th>201</th>\n",
       "      <td>TTL-1</td>\n",
       "      <td>{'type': 'Satellite', 'mass': None, 'orbit': 'PO'}</td>\n",
       "      <td>Falcon 9</td>\n",
       "      <td>VAFB SLC 4E</td>\n",
       "      <td>California</td>\n",
       "      <td>(34.632093, -120.610829)</td>\n",
       "      <td>NaN</td>\n",
       "      <td>NaN</td>\n",
       "      <td>NaN</td>\n",
       "      <td>(nan, nan)</td>\n",
       "      <td>Success</td>\n",
       "    </tr>\n",
       "    <tr>\n",
       "      <th>202</th>\n",
       "      <td>WorldView Legion 1 &amp; 2</td>\n",
       "      <td>{'type': 'Satellite', 'mass': None, 'orbit': 'SSO'}</td>\n",
       "      <td>Falcon 9</td>\n",
       "      <td>CCSFS SLC 40</td>\n",
       "      <td>Florida</td>\n",
       "      <td>(28.5618571, -80.577366)</td>\n",
       "      <td>NaN</td>\n",
       "      <td>NaN</td>\n",
       "      <td>NaN</td>\n",
       "      <td>(nan, nan)</td>\n",
       "      <td>Success</td>\n",
       "    </tr>\n",
       "    <tr>\n",
       "      <th>203</th>\n",
       "      <td>Viasat-3 &amp; Arcturus</td>\n",
       "      <td>NaN</td>\n",
       "      <td>Falcon Heavy</td>\n",
       "      <td>KSC LC 39A</td>\n",
       "      <td>Florida</td>\n",
       "      <td>(28.6080585, -80.6039558)</td>\n",
       "      <td>NaN</td>\n",
       "      <td>NaN</td>\n",
       "      <td>NaN</td>\n",
       "      <td>(nan, nan)</td>\n",
       "      <td>Success</td>\n",
       "    </tr>\n",
       "    <tr>\n",
       "      <th>204</th>\n",
       "      <td>O3b mPower 3.4</td>\n",
       "      <td>{'type': 'Satellite', 'mass': 5100, 'orbit': 'MEO'}</td>\n",
       "      <td>Falcon 9</td>\n",
       "      <td>CCSFS SLC 40</td>\n",
       "      <td>Florida</td>\n",
       "      <td>(28.5618571, -80.577366)</td>\n",
       "      <td>NaN</td>\n",
       "      <td>NaN</td>\n",
       "      <td>NaN</td>\n",
       "      <td>(nan, nan)</td>\n",
       "      <td>Success</td>\n",
       "    </tr>\n",
       "  </tbody>\n",
       "</table>\n",
       "<p>209 rows × 11 columns</p>\n",
       "</div>"
      ],
      "text/plain": [
       "                launch_name  \\\n",
       "0                 FalconSat   \n",
       "1                   DemoSat   \n",
       "2               Trailblazer   \n",
       "2               Trailblazer   \n",
       "3                    RatSat   \n",
       "..                      ...   \n",
       "200           Transporter-6   \n",
       "201                   TTL-1   \n",
       "202  WorldView Legion 1 & 2   \n",
       "203     Viasat-3 & Arcturus   \n",
       "204          O3b mPower 3.4   \n",
       "\n",
       "                                                payloads   rocket_name  \\\n",
       "0      {'type': 'Satellite', 'mass': 20, 'orbit': 'LEO'}      Falcon 1   \n",
       "1    {'type': 'Satellite', 'mass': None, 'orbit': 'LEO'}      Falcon 1   \n",
       "2    {'type': 'Satellite', 'mass': None, 'orbit': 'LEO'}      Falcon 1   \n",
       "2    {'type': 'Satellite', 'mass': None, 'orbit': 'LEO'}      Falcon 1   \n",
       "3     {'type': 'Satellite', 'mass': 165, 'orbit': 'LEO'}      Falcon 1   \n",
       "..                                                   ...           ...   \n",
       "200                                                  NaN      Falcon 9   \n",
       "201   {'type': 'Satellite', 'mass': None, 'orbit': 'PO'}      Falcon 9   \n",
       "202  {'type': 'Satellite', 'mass': None, 'orbit': 'SSO'}      Falcon 9   \n",
       "203                                                  NaN  Falcon Heavy   \n",
       "204  {'type': 'Satellite', 'mass': 5100, 'orbit': 'MEO'}      Falcon 9   \n",
       "\n",
       "      launchpad_name  launchpad_region              launchpad_geo  \\\n",
       "0    Kwajalein Atoll  Marshall Islands   (9.0477206, 167.7431292)   \n",
       "1    Kwajalein Atoll  Marshall Islands   (9.0477206, 167.7431292)   \n",
       "2    Kwajalein Atoll  Marshall Islands   (9.0477206, 167.7431292)   \n",
       "2    Kwajalein Atoll  Marshall Islands   (9.0477206, 167.7431292)   \n",
       "3    Kwajalein Atoll  Marshall Islands   (9.0477206, 167.7431292)   \n",
       "..               ...               ...                        ...   \n",
       "200     CCSFS SLC 40           Florida   (28.5618571, -80.577366)   \n",
       "201      VAFB SLC 4E        California   (34.632093, -120.610829)   \n",
       "202     CCSFS SLC 40           Florida   (28.5618571, -80.577366)   \n",
       "203       KSC LC 39A           Florida  (28.6080585, -80.6039558)   \n",
       "204     CCSFS SLC 40           Florida   (28.5618571, -80.577366)   \n",
       "\n",
       "    landpad_name landpad_type landpad_region landpad_geo  outcome  \n",
       "0            NaN          NaN            NaN  (nan, nan)  Failure  \n",
       "1            NaN          NaN            NaN  (nan, nan)  Failure  \n",
       "2            NaN          NaN            NaN  (nan, nan)  Failure  \n",
       "2            NaN          NaN            NaN  (nan, nan)  Failure  \n",
       "3            NaN          NaN            NaN  (nan, nan)  Success  \n",
       "..           ...          ...            ...         ...      ...  \n",
       "200          NaN          NaN            NaN  (nan, nan)  Success  \n",
       "201          NaN          NaN            NaN  (nan, nan)  Success  \n",
       "202          NaN          NaN            NaN  (nan, nan)  Success  \n",
       "203          NaN          NaN            NaN  (nan, nan)  Success  \n",
       "204          NaN          NaN            NaN  (nan, nan)  Success  \n",
       "\n",
       "[209 rows x 11 columns]"
      ]
     },
     "execution_count": 44,
     "metadata": {},
     "output_type": "execute_result"
    }
   ],
   "source": [
    "cate_col_df"
   ]
  },
  {
   "cell_type": "markdown",
   "metadata": {},
   "source": [
    "For columns with non-numeric data types, you calculate:\n",
    "- Percentage (from 0 to 100) of missing values\n",
    "- Number of values (the values here are different values and we do not consider missing values): with columns whose type is categorical, it is a set with a finite number of categories. Directly counting the number of values in these columns doesn't make much sense, so it's better to count the number of elements of all types.\n",
    "- The percentage (from 0 to 100) of each value is sorted by decreasing percentage (we do not consider missing values, the ratio is the ratio compared to the number of non-missing values): you use a dictionary to store , key is the value, value is the percentage; With the column corresponding to each type, the method is similar to above.\n",
    "\n",
    "You will save the results to DataFrame `cat_col_info_df`, where:\n",
    "- The names of the columns are the names of the non-numeric columns in `raw_df`\n",
    "- The names of the lines are: \"missing_ratio\", \"num_values\", \"value_ratios\"\n",
    "\n",
    "For ease of viewing, you round all values to 1 decimal place using the `.round(1)` method."
   ]
  },
  {
   "cell_type": "code",
   "execution_count": 45,
   "metadata": {},
   "outputs": [
    {
     "data": {
      "text/html": [
       "<div>\n",
       "<style scoped>\n",
       "    .dataframe tbody tr th:only-of-type {\n",
       "        vertical-align: middle;\n",
       "    }\n",
       "\n",
       "    .dataframe tbody tr th {\n",
       "        vertical-align: top;\n",
       "    }\n",
       "\n",
       "    .dataframe thead th {\n",
       "        text-align: right;\n",
       "    }\n",
       "</style>\n",
       "<table border=\"1\" class=\"dataframe\">\n",
       "  <thead>\n",
       "    <tr style=\"text-align: right;\">\n",
       "      <th></th>\n",
       "      <th>launch_name</th>\n",
       "      <th>payloads</th>\n",
       "      <th>rocket_name</th>\n",
       "      <th>launchpad_name</th>\n",
       "      <th>launchpad_region</th>\n",
       "      <th>launchpad_geo</th>\n",
       "      <th>landpad_name</th>\n",
       "      <th>landpad_type</th>\n",
       "      <th>landpad_region</th>\n",
       "      <th>landpad_geo</th>\n",
       "      <th>outcome</th>\n",
       "    </tr>\n",
       "  </thead>\n",
       "  <tbody>\n",
       "    <tr>\n",
       "      <th>missing_ratio</th>\n",
       "      <td>0.0</td>\n",
       "      <td>1.4</td>\n",
       "      <td>0.0</td>\n",
       "      <td>0.0</td>\n",
       "      <td>0.0</td>\n",
       "      <td>0.0</td>\n",
       "      <td>27.3</td>\n",
       "      <td>23.9</td>\n",
       "      <td>47.4</td>\n",
       "      <td>0.0</td>\n",
       "      <td>0.0</td>\n",
       "    </tr>\n",
       "    <tr>\n",
       "      <th>num_values</th>\n",
       "      <td>205</td>\n",
       "      <td>NaN</td>\n",
       "      <td>3</td>\n",
       "      <td>4</td>\n",
       "      <td>3</td>\n",
       "      <td>4</td>\n",
       "      <td>6</td>\n",
       "      <td>3</td>\n",
       "      <td>2</td>\n",
       "      <td>5</td>\n",
       "      <td>2</td>\n",
       "    </tr>\n",
       "    <tr>\n",
       "      <th>value_ratios</th>\n",
       "      <td>{'Trailblazer': 1.0, 'Starlink 4-20 (v1.5) &amp; Sherpa LTC-2/Varuna-TDM': 1.0, 'COTS 1': 1.0, 'CRS-...</td>\n",
       "      <td>NaN</td>\n",
       "      <td>{'Falcon 9': 94.7, 'Falcon 1': 2.9, 'Falcon Heavy': 2.4}</td>\n",
       "      <td>{'CCSFS SLC 40': 55.0, 'KSC LC 39A': 27.8, 'VAFB SLC 4E': 14.4, 'Kwajalein Atoll': 2.9}</td>\n",
       "      <td>{'Florida': 82.8, 'California': 14.4, 'Marshall Islands': 2.9}</td>\n",
       "      <td>{'(28.5618571, -80.577366)': 55.0, '(28.6080585, -80.6039558)': 27.8, '(34.632093, -120.610829)'...</td>\n",
       "      <td>{'OCISLY': 42.1, 'JRTI': 27.0, 'ASOG': 13.8, 'LZ-1': 11.8, 'LZ-4': 3.9, 'JRTI-1': 1.3}</td>\n",
       "      <td>{'ASDS': 80.5, 'RTLS': 15.1, 'Ocean': 4.4}</td>\n",
       "      <td>{'Florida': 53.6, 'California': 46.4}</td>\n",
       "      <td>{'(33.7291858, -118.262015)': 40.7, '(nan, nan)': 27.3, '(28.4104, -80.6188)': 20.6, '(28.485833...</td>\n",
       "      <td>{'Success': 97.1, 'Failure': 2.9}</td>\n",
       "    </tr>\n",
       "  </tbody>\n",
       "</table>\n",
       "</div>"
      ],
      "text/plain": [
       "                                                                                                       launch_name  \\\n",
       "missing_ratio                                                                                                  0.0   \n",
       "num_values                                                                                                     205   \n",
       "value_ratios   {'Trailblazer': 1.0, 'Starlink 4-20 (v1.5) & Sherpa LTC-2/Varuna-TDM': 1.0, 'COTS 1': 1.0, 'CRS-...   \n",
       "\n",
       "               payloads  \\\n",
       "missing_ratio       1.4   \n",
       "num_values          NaN   \n",
       "value_ratios        NaN   \n",
       "\n",
       "                                                            rocket_name  \\\n",
       "missing_ratio                                                       0.0   \n",
       "num_values                                                            3   \n",
       "value_ratios   {'Falcon 9': 94.7, 'Falcon 1': 2.9, 'Falcon Heavy': 2.4}   \n",
       "\n",
       "                                                                                        launchpad_name  \\\n",
       "missing_ratio                                                                                      0.0   \n",
       "num_values                                                                                           4   \n",
       "value_ratios   {'CCSFS SLC 40': 55.0, 'KSC LC 39A': 27.8, 'VAFB SLC 4E': 14.4, 'Kwajalein Atoll': 2.9}   \n",
       "\n",
       "                                                             launchpad_region  \\\n",
       "missing_ratio                                                             0.0   \n",
       "num_values                                                                  3   \n",
       "value_ratios   {'Florida': 82.8, 'California': 14.4, 'Marshall Islands': 2.9}   \n",
       "\n",
       "                                                                                                     launchpad_geo  \\\n",
       "missing_ratio                                                                                                  0.0   \n",
       "num_values                                                                                                       4   \n",
       "value_ratios   {'(28.5618571, -80.577366)': 55.0, '(28.6080585, -80.6039558)': 27.8, '(34.632093, -120.610829)'...   \n",
       "\n",
       "                                                                                         landpad_name  \\\n",
       "missing_ratio                                                                                    27.3   \n",
       "num_values                                                                                          6   \n",
       "value_ratios   {'OCISLY': 42.1, 'JRTI': 27.0, 'ASOG': 13.8, 'LZ-1': 11.8, 'LZ-4': 3.9, 'JRTI-1': 1.3}   \n",
       "\n",
       "                                             landpad_type  \\\n",
       "missing_ratio                                        23.9   \n",
       "num_values                                              3   \n",
       "value_ratios   {'ASDS': 80.5, 'RTLS': 15.1, 'Ocean': 4.4}   \n",
       "\n",
       "                                      landpad_region  \\\n",
       "missing_ratio                                   47.4   \n",
       "num_values                                         2   \n",
       "value_ratios   {'Florida': 53.6, 'California': 46.4}   \n",
       "\n",
       "                                                                                                       landpad_geo  \\\n",
       "missing_ratio                                                                                                  0.0   \n",
       "num_values                                                                                                       5   \n",
       "value_ratios   {'(33.7291858, -118.262015)': 40.7, '(nan, nan)': 27.3, '(28.4104, -80.6188)': 20.6, '(28.485833...   \n",
       "\n",
       "                                         outcome  \n",
       "missing_ratio                                0.0  \n",
       "num_values                                     2  \n",
       "value_ratios   {'Success': 97.1, 'Failure': 2.9}  "
      ]
     },
     "execution_count": 45,
     "metadata": {},
     "output_type": "execute_result"
    }
   ],
   "source": [
    "def missing_ratio(s):\n",
    "    # TODO:\n",
    "    # YOUR CODE HERE\n",
    "    return ((s.isnull().sum() * 100) / len(s)).round(1)\n",
    "    raise NotImplementedError()\n",
    "\n",
    "def num_values(s):\n",
    "    # TODO:\n",
    "    # YOUR CODE HERE\n",
    "    return s.nunique()\n",
    "    raise NotImplementedError()\n",
    "\n",
    "def value_ratios(s):\n",
    "    # TODO: \n",
    "    # YOUR CODE HERE\n",
    "    percent = ((s.value_counts(normalize=True) * 100).round(1))\n",
    "    return percent.to_dict()\n",
    "    raise NotImplementedError()\n",
    "\n",
    "cat_col_info_df = cate_col_df.agg([missing_ratio, num_values, value_ratios])\n",
    "# cat_col_info_df = cate_col_df.agg([missing_ratio])\n",
    "cat_col_info_df"
   ]
  },
  {
   "cell_type": "code",
   "execution_count": 46,
   "metadata": {},
   "outputs": [],
   "source": [
    "# TEST\n",
    "c = cat_col_info_df['landpad_name']\n",
    "assert adler32(str(c.loc['missing_ratio']).encode()) == 33554635\n",
    "assert adler32(str(c.loc['num_values']).encode()) == 3604535\n",
    "\n",
    "c = cat_col_info_df['landpad_type']\n",
    "assert adler32(str(c.loc['missing_ratio']).encode()) == 33161421\n",
    "assert adler32(str(c.loc['num_values']).encode()) == 3407924\n",
    "\n",
    "c = cat_col_info_df['landpad_region']\n",
    "assert adler32(str(c.loc['missing_ratio']).encode()) == 34144462\n",
    "assert adler32(str(c.loc['num_values']).encode()) == 3342387"
   ]
  },
  {
   "cell_type": "markdown",
   "metadata": {},
   "source": [
    "And now, we will fill in the missing value for these non-attributes. You make a list of attributes that need to be filled in here.\n",
    "- `landpad_name`\n",
    "- `landpad_type`\n",
    "- `landpad_region`\n",
    "\n",
    "Considering the missing ratio, should we delete these attribute columns?"
   ]
  },
  {
   "cell_type": "markdown",
   "metadata": {},
   "source": [
    "YOUR ANSWER HERE\n",
    "\n",
    "We shouldn't delete these attributes because the ratio is < 70% "
   ]
  },
  {
   "cell_type": "markdown",
   "metadata": {},
   "source": [
    "Next, you have to check `landpad_name`, `landpad_type`, and `landpad_region`. If these values are ALL NAN, you should these row from your `cate_col_df`."
   ]
  },
  {
   "cell_type": "code",
   "execution_count": 47,
   "metadata": {},
   "outputs": [],
   "source": [
    "# TODO:\n",
    "# YOUR CODE HERE\n",
    "# cate_col_df = cate_col_df.drop(cate_col_df[cate_col_df[\"landpad_name\"].isnull() & cate_col_df[\"landpad_region\"].isnull() & cate_col_df[\"landpad_type\"].isnull()].index)\n",
    "cate_col_df = cate_col_df.drop(cate_col_df[cate_col_df[\"landpad_name\"].isnull() & cate_col_df[\"landpad_type\"].isnull()].index)\n",
    "cate_col_df = cate_col_df.drop(cate_col_df[cate_col_df[\"landpad_name\"].isnull() & cate_col_df[\"landpad_region\"].isnull()].index)\n",
    "cate_col_df = cate_col_df.drop(cate_col_df[cate_col_df[\"landpad_type\"].isnull() & cate_col_df[\"landpad_region\"].isnull()].index)\n",
    "\n",
    "#raise NotImplementedError()"
   ]
  },
  {
   "cell_type": "code",
   "execution_count": 48,
   "metadata": {},
   "outputs": [
    {
     "data": {
      "text/html": [
       "<div>\n",
       "<style scoped>\n",
       "    .dataframe tbody tr th:only-of-type {\n",
       "        vertical-align: middle;\n",
       "    }\n",
       "\n",
       "    .dataframe tbody tr th {\n",
       "        vertical-align: top;\n",
       "    }\n",
       "\n",
       "    .dataframe thead th {\n",
       "        text-align: right;\n",
       "    }\n",
       "</style>\n",
       "<table border=\"1\" class=\"dataframe\">\n",
       "  <thead>\n",
       "    <tr style=\"text-align: right;\">\n",
       "      <th></th>\n",
       "      <th>launch_name</th>\n",
       "      <th>payloads</th>\n",
       "      <th>rocket_name</th>\n",
       "      <th>launchpad_name</th>\n",
       "      <th>launchpad_region</th>\n",
       "      <th>launchpad_geo</th>\n",
       "      <th>landpad_name</th>\n",
       "      <th>landpad_type</th>\n",
       "      <th>landpad_region</th>\n",
       "      <th>landpad_geo</th>\n",
       "      <th>outcome</th>\n",
       "    </tr>\n",
       "  </thead>\n",
       "  <tbody>\n",
       "    <tr>\n",
       "      <th>18</th>\n",
       "      <td>CRS-5</td>\n",
       "      <td>{'type': 'Dragon 1.1', 'mass': 2395, 'orbit': 'ISS'}</td>\n",
       "      <td>Falcon 9</td>\n",
       "      <td>CCSFS SLC 40</td>\n",
       "      <td>Florida</td>\n",
       "      <td>(28.5618571, -80.577366)</td>\n",
       "      <td>JRTI-1</td>\n",
       "      <td>ASDS</td>\n",
       "      <td>Florida</td>\n",
       "      <td>(28.4104, -80.6188)</td>\n",
       "      <td>Success</td>\n",
       "    </tr>\n",
       "    <tr>\n",
       "      <th>21</th>\n",
       "      <td>CRS-6</td>\n",
       "      <td>{'type': 'Dragon 1.1', 'mass': 1898, 'orbit': 'ISS'}</td>\n",
       "      <td>Falcon 9</td>\n",
       "      <td>CCSFS SLC 40</td>\n",
       "      <td>Florida</td>\n",
       "      <td>(28.5618571, -80.577366)</td>\n",
       "      <td>JRTI-1</td>\n",
       "      <td>ASDS</td>\n",
       "      <td>Florida</td>\n",
       "      <td>(28.4104, -80.6188)</td>\n",
       "      <td>Success</td>\n",
       "    </tr>\n",
       "    <tr>\n",
       "      <th>23</th>\n",
       "      <td>CRS-7</td>\n",
       "      <td>{'type': 'Dragon 1.1', 'mass': 1952, 'orbit': 'ISS'}</td>\n",
       "      <td>Falcon 9</td>\n",
       "      <td>CCSFS SLC 40</td>\n",
       "      <td>Florida</td>\n",
       "      <td>(28.5618571, -80.577366)</td>\n",
       "      <td>OCISLY</td>\n",
       "      <td>ASDS</td>\n",
       "      <td>California</td>\n",
       "      <td>(33.7291858, -118.262015)</td>\n",
       "      <td>Failure</td>\n",
       "    </tr>\n",
       "    <tr>\n",
       "      <th>24</th>\n",
       "      <td>OG-2 Mission 2</td>\n",
       "      <td>{'type': 'Satellite', 'mass': 2034, 'orbit': 'LEO'}</td>\n",
       "      <td>Falcon 9</td>\n",
       "      <td>CCSFS SLC 40</td>\n",
       "      <td>Florida</td>\n",
       "      <td>(28.5618571, -80.577366)</td>\n",
       "      <td>LZ-1</td>\n",
       "      <td>RTLS</td>\n",
       "      <td>Florida</td>\n",
       "      <td>(28.485833, -80.544444)</td>\n",
       "      <td>Success</td>\n",
       "    </tr>\n",
       "    <tr>\n",
       "      <th>25</th>\n",
       "      <td>Jason 3</td>\n",
       "      <td>{'type': 'Satellite', 'mass': 553, 'orbit': 'PO'}</td>\n",
       "      <td>Falcon 9</td>\n",
       "      <td>VAFB SLC 4E</td>\n",
       "      <td>California</td>\n",
       "      <td>(34.632093, -120.610829)</td>\n",
       "      <td>JRTI</td>\n",
       "      <td>ASDS</td>\n",
       "      <td>Florida</td>\n",
       "      <td>(28.4104, -80.6188)</td>\n",
       "      <td>Success</td>\n",
       "    </tr>\n",
       "    <tr>\n",
       "      <th>...</th>\n",
       "      <td>...</td>\n",
       "      <td>...</td>\n",
       "      <td>...</td>\n",
       "      <td>...</td>\n",
       "      <td>...</td>\n",
       "      <td>...</td>\n",
       "      <td>...</td>\n",
       "      <td>...</td>\n",
       "      <td>...</td>\n",
       "      <td>...</td>\n",
       "      <td>...</td>\n",
       "    </tr>\n",
       "    <tr>\n",
       "      <th>182</th>\n",
       "      <td>Starlink 4-20 (v1.5) &amp; Sherpa LTC-2/Varuna-TDM</td>\n",
       "      <td>{'type': 'Satellite', 'mass': 180, 'orbit': 'VLEO'}</td>\n",
       "      <td>Falcon 9</td>\n",
       "      <td>CCSFS SLC 40</td>\n",
       "      <td>Florida</td>\n",
       "      <td>(28.5618571, -80.577366)</td>\n",
       "      <td>JRTI</td>\n",
       "      <td>ASDS</td>\n",
       "      <td>Florida</td>\n",
       "      <td>(28.4104, -80.6188)</td>\n",
       "      <td>Success</td>\n",
       "    </tr>\n",
       "    <tr>\n",
       "      <th>183</th>\n",
       "      <td>Starlink 4-2 (v1.5) &amp; Blue Walker 3</td>\n",
       "      <td>{'type': 'Satellite', 'mass': 14760, 'orbit': 'VLEO'}</td>\n",
       "      <td>Falcon 9</td>\n",
       "      <td>KSC LC 39A</td>\n",
       "      <td>Florida</td>\n",
       "      <td>(28.6080585, -80.6039558)</td>\n",
       "      <td>ASOG</td>\n",
       "      <td>ASDS</td>\n",
       "      <td>Florida</td>\n",
       "      <td>(33.7291858, -118.262015)</td>\n",
       "      <td>Success</td>\n",
       "    </tr>\n",
       "    <tr>\n",
       "      <th>184</th>\n",
       "      <td>Starlink 4-34 (v1.5)</td>\n",
       "      <td>{'type': 'Satellite', 'mass': 16100, 'orbit': 'VLEO'}</td>\n",
       "      <td>Falcon 9</td>\n",
       "      <td>CCSFS SLC 40</td>\n",
       "      <td>Florida</td>\n",
       "      <td>(28.5618571, -80.577366)</td>\n",
       "      <td>JRTI</td>\n",
       "      <td>ASDS</td>\n",
       "      <td>Florida</td>\n",
       "      <td>(28.4104, -80.6188)</td>\n",
       "      <td>Success</td>\n",
       "    </tr>\n",
       "    <tr>\n",
       "      <th>185</th>\n",
       "      <td>Starlink 4-35 (v1.5)</td>\n",
       "      <td>{'type': 'Satellite', 'mass': 13260, 'orbit': 'VLEO'}</td>\n",
       "      <td>Falcon 9</td>\n",
       "      <td>CCSFS SLC 40</td>\n",
       "      <td>Florida</td>\n",
       "      <td>(28.5618571, -80.577366)</td>\n",
       "      <td>JRTI</td>\n",
       "      <td>ASDS</td>\n",
       "      <td>Florida</td>\n",
       "      <td>(28.4104, -80.6188)</td>\n",
       "      <td>Success</td>\n",
       "    </tr>\n",
       "    <tr>\n",
       "      <th>186</th>\n",
       "      <td>Crew-5</td>\n",
       "      <td>{'type': 'Crew Dragon', 'mass': None, 'orbit': 'ISS'}</td>\n",
       "      <td>Falcon 9</td>\n",
       "      <td>KSC LC 39A</td>\n",
       "      <td>Florida</td>\n",
       "      <td>(28.6080585, -80.6039558)</td>\n",
       "      <td>JRTI</td>\n",
       "      <td>ASDS</td>\n",
       "      <td>NaN</td>\n",
       "      <td>(28.4104, -80.6188)</td>\n",
       "      <td>Success</td>\n",
       "    </tr>\n",
       "  </tbody>\n",
       "</table>\n",
       "<p>152 rows × 11 columns</p>\n",
       "</div>"
      ],
      "text/plain": [
       "                                        launch_name  \\\n",
       "18                                            CRS-5   \n",
       "21                                            CRS-6   \n",
       "23                                            CRS-7   \n",
       "24                                   OG-2 Mission 2   \n",
       "25                                          Jason 3   \n",
       "..                                              ...   \n",
       "182  Starlink 4-20 (v1.5) & Sherpa LTC-2/Varuna-TDM   \n",
       "183             Starlink 4-2 (v1.5) & Blue Walker 3   \n",
       "184                            Starlink 4-34 (v1.5)   \n",
       "185                            Starlink 4-35 (v1.5)   \n",
       "186                                          Crew-5   \n",
       "\n",
       "                                                  payloads rocket_name  \\\n",
       "18    {'type': 'Dragon 1.1', 'mass': 2395, 'orbit': 'ISS'}    Falcon 9   \n",
       "21    {'type': 'Dragon 1.1', 'mass': 1898, 'orbit': 'ISS'}    Falcon 9   \n",
       "23    {'type': 'Dragon 1.1', 'mass': 1952, 'orbit': 'ISS'}    Falcon 9   \n",
       "24     {'type': 'Satellite', 'mass': 2034, 'orbit': 'LEO'}    Falcon 9   \n",
       "25       {'type': 'Satellite', 'mass': 553, 'orbit': 'PO'}    Falcon 9   \n",
       "..                                                     ...         ...   \n",
       "182    {'type': 'Satellite', 'mass': 180, 'orbit': 'VLEO'}    Falcon 9   \n",
       "183  {'type': 'Satellite', 'mass': 14760, 'orbit': 'VLEO'}    Falcon 9   \n",
       "184  {'type': 'Satellite', 'mass': 16100, 'orbit': 'VLEO'}    Falcon 9   \n",
       "185  {'type': 'Satellite', 'mass': 13260, 'orbit': 'VLEO'}    Falcon 9   \n",
       "186  {'type': 'Crew Dragon', 'mass': None, 'orbit': 'ISS'}    Falcon 9   \n",
       "\n",
       "    launchpad_name launchpad_region              launchpad_geo landpad_name  \\\n",
       "18    CCSFS SLC 40          Florida   (28.5618571, -80.577366)       JRTI-1   \n",
       "21    CCSFS SLC 40          Florida   (28.5618571, -80.577366)       JRTI-1   \n",
       "23    CCSFS SLC 40          Florida   (28.5618571, -80.577366)       OCISLY   \n",
       "24    CCSFS SLC 40          Florida   (28.5618571, -80.577366)         LZ-1   \n",
       "25     VAFB SLC 4E       California   (34.632093, -120.610829)         JRTI   \n",
       "..             ...              ...                        ...          ...   \n",
       "182   CCSFS SLC 40          Florida   (28.5618571, -80.577366)         JRTI   \n",
       "183     KSC LC 39A          Florida  (28.6080585, -80.6039558)         ASOG   \n",
       "184   CCSFS SLC 40          Florida   (28.5618571, -80.577366)         JRTI   \n",
       "185   CCSFS SLC 40          Florida   (28.5618571, -80.577366)         JRTI   \n",
       "186     KSC LC 39A          Florida  (28.6080585, -80.6039558)         JRTI   \n",
       "\n",
       "    landpad_type landpad_region                landpad_geo  outcome  \n",
       "18          ASDS        Florida        (28.4104, -80.6188)  Success  \n",
       "21          ASDS        Florida        (28.4104, -80.6188)  Success  \n",
       "23          ASDS     California  (33.7291858, -118.262015)  Failure  \n",
       "24          RTLS        Florida    (28.485833, -80.544444)  Success  \n",
       "25          ASDS        Florida        (28.4104, -80.6188)  Success  \n",
       "..           ...            ...                        ...      ...  \n",
       "182         ASDS        Florida        (28.4104, -80.6188)  Success  \n",
       "183         ASDS        Florida  (33.7291858, -118.262015)  Success  \n",
       "184         ASDS        Florida        (28.4104, -80.6188)  Success  \n",
       "185         ASDS        Florida        (28.4104, -80.6188)  Success  \n",
       "186         ASDS            NaN        (28.4104, -80.6188)  Success  \n",
       "\n",
       "[152 rows x 11 columns]"
      ]
     },
     "execution_count": 48,
     "metadata": {},
     "output_type": "execute_result"
    }
   ],
   "source": [
    "cate_col_df\n"
   ]
  },
  {
   "cell_type": "code",
   "execution_count": 49,
   "metadata": {},
   "outputs": [
    {
     "data": {
      "text/html": [
       "<div>\n",
       "<style scoped>\n",
       "    .dataframe tbody tr th:only-of-type {\n",
       "        vertical-align: middle;\n",
       "    }\n",
       "\n",
       "    .dataframe tbody tr th {\n",
       "        vertical-align: top;\n",
       "    }\n",
       "\n",
       "    .dataframe thead th {\n",
       "        text-align: right;\n",
       "    }\n",
       "</style>\n",
       "<table border=\"1\" class=\"dataframe\">\n",
       "  <thead>\n",
       "    <tr style=\"text-align: right;\">\n",
       "      <th></th>\n",
       "      <th>launch_name</th>\n",
       "      <th>payloads</th>\n",
       "      <th>rocket_name</th>\n",
       "      <th>launchpad_name</th>\n",
       "      <th>launchpad_region</th>\n",
       "      <th>launchpad_geo</th>\n",
       "      <th>landpad_name</th>\n",
       "      <th>landpad_type</th>\n",
       "      <th>landpad_region</th>\n",
       "      <th>landpad_geo</th>\n",
       "      <th>outcome</th>\n",
       "    </tr>\n",
       "  </thead>\n",
       "  <tbody>\n",
       "  </tbody>\n",
       "</table>\n",
       "</div>"
      ],
      "text/plain": [
       "Empty DataFrame\n",
       "Columns: [launch_name, payloads, rocket_name, launchpad_name, launchpad_region, launchpad_geo, landpad_name, landpad_type, landpad_region, landpad_geo, outcome]\n",
       "Index: []"
      ]
     },
     "execution_count": 49,
     "metadata": {},
     "output_type": "execute_result"
    }
   ],
   "source": [
    "# TEST\n",
    "cate_col_df[cate_col_df[\"landpad_name\"].isnull() & cate_col_df[\"landpad_type\"].isnull() & cate_col_df[\"landpad_region\"].isnull()]"
   ]
  },
  {
   "cell_type": "code",
   "execution_count": 50,
   "metadata": {},
   "outputs": [
    {
     "data": {
      "text/html": [
       "<div>\n",
       "<style scoped>\n",
       "    .dataframe tbody tr th:only-of-type {\n",
       "        vertical-align: middle;\n",
       "    }\n",
       "\n",
       "    .dataframe tbody tr th {\n",
       "        vertical-align: top;\n",
       "    }\n",
       "\n",
       "    .dataframe thead th {\n",
       "        text-align: right;\n",
       "    }\n",
       "</style>\n",
       "<table border=\"1\" class=\"dataframe\">\n",
       "  <thead>\n",
       "    <tr style=\"text-align: right;\">\n",
       "      <th></th>\n",
       "      <th>launch_name</th>\n",
       "      <th>payloads</th>\n",
       "      <th>rocket_name</th>\n",
       "      <th>launchpad_name</th>\n",
       "      <th>launchpad_region</th>\n",
       "      <th>launchpad_geo</th>\n",
       "      <th>landpad_name</th>\n",
       "      <th>landpad_type</th>\n",
       "      <th>landpad_region</th>\n",
       "      <th>landpad_geo</th>\n",
       "      <th>outcome</th>\n",
       "    </tr>\n",
       "  </thead>\n",
       "  <tbody>\n",
       "    <tr>\n",
       "      <th>missing_ratio</th>\n",
       "      <td>0.0</td>\n",
       "      <td>0.0</td>\n",
       "      <td>0.0</td>\n",
       "      <td>0.0</td>\n",
       "      <td>0.0</td>\n",
       "      <td>0.0</td>\n",
       "      <td>0.0</td>\n",
       "      <td>0.0</td>\n",
       "      <td>27.6</td>\n",
       "      <td>0.0</td>\n",
       "      <td>0.0</td>\n",
       "    </tr>\n",
       "    <tr>\n",
       "      <th>num_values</th>\n",
       "      <td>151</td>\n",
       "      <td>NaN</td>\n",
       "      <td>2</td>\n",
       "      <td>3</td>\n",
       "      <td>2</td>\n",
       "      <td>3</td>\n",
       "      <td>6</td>\n",
       "      <td>2</td>\n",
       "      <td>2</td>\n",
       "      <td>4</td>\n",
       "      <td>2</td>\n",
       "    </tr>\n",
       "    <tr>\n",
       "      <th>value_ratios</th>\n",
       "      <td>{'Starlink 4-20 (v1.5) &amp; Sherpa LTC-2/Varuna-TDM': 1.3, 'CRS-5': 0.7, 'Starlink 4-4 (v1.5)': 0.7...</td>\n",
       "      <td>NaN</td>\n",
       "      <td>{'Falcon 9': 98.0, 'Falcon Heavy': 2.0}</td>\n",
       "      <td>{'CCSFS SLC 40': 51.3, 'KSC LC 39A': 33.6, 'VAFB SLC 4E': 15.1}</td>\n",
       "      <td>{'Florida': 84.9, 'California': 15.1}</td>\n",
       "      <td>{'(28.5618571, -80.577366)': 51.3, '(28.6080585, -80.6039558)': 33.6, '(34.632093, -120.610829)'...</td>\n",
       "      <td>{'OCISLY': 42.1, 'JRTI': 27.0, 'ASOG': 13.8, 'LZ-1': 11.8, 'LZ-4': 3.9, 'JRTI-1': 1.3}</td>\n",
       "      <td>{'ASDS': 84.2, 'RTLS': 15.8}</td>\n",
       "      <td>{'Florida': 53.6, 'California': 46.4}</td>\n",
       "      <td>{'(33.7291858, -118.262015)': 55.9, '(28.4104, -80.6188)': 28.3, '(28.485833, -80.544444)': 11.8...</td>\n",
       "      <td>{'Success': 98.7, 'Failure': 1.3}</td>\n",
       "    </tr>\n",
       "  </tbody>\n",
       "</table>\n",
       "</div>"
      ],
      "text/plain": [
       "                                                                                                       launch_name  \\\n",
       "missing_ratio                                                                                                  0.0   \n",
       "num_values                                                                                                     151   \n",
       "value_ratios   {'Starlink 4-20 (v1.5) & Sherpa LTC-2/Varuna-TDM': 1.3, 'CRS-5': 0.7, 'Starlink 4-4 (v1.5)': 0.7...   \n",
       "\n",
       "               payloads                              rocket_name  \\\n",
       "missing_ratio       0.0                                      0.0   \n",
       "num_values          NaN                                        2   \n",
       "value_ratios        NaN  {'Falcon 9': 98.0, 'Falcon Heavy': 2.0}   \n",
       "\n",
       "                                                                launchpad_name  \\\n",
       "missing_ratio                                                              0.0   \n",
       "num_values                                                                   3   \n",
       "value_ratios   {'CCSFS SLC 40': 51.3, 'KSC LC 39A': 33.6, 'VAFB SLC 4E': 15.1}   \n",
       "\n",
       "                                    launchpad_region  \\\n",
       "missing_ratio                                    0.0   \n",
       "num_values                                         2   \n",
       "value_ratios   {'Florida': 84.9, 'California': 15.1}   \n",
       "\n",
       "                                                                                                     launchpad_geo  \\\n",
       "missing_ratio                                                                                                  0.0   \n",
       "num_values                                                                                                       3   \n",
       "value_ratios   {'(28.5618571, -80.577366)': 51.3, '(28.6080585, -80.6039558)': 33.6, '(34.632093, -120.610829)'...   \n",
       "\n",
       "                                                                                         landpad_name  \\\n",
       "missing_ratio                                                                                     0.0   \n",
       "num_values                                                                                          6   \n",
       "value_ratios   {'OCISLY': 42.1, 'JRTI': 27.0, 'ASOG': 13.8, 'LZ-1': 11.8, 'LZ-4': 3.9, 'JRTI-1': 1.3}   \n",
       "\n",
       "                               landpad_type  \\\n",
       "missing_ratio                           0.0   \n",
       "num_values                                2   \n",
       "value_ratios   {'ASDS': 84.2, 'RTLS': 15.8}   \n",
       "\n",
       "                                      landpad_region  \\\n",
       "missing_ratio                                   27.6   \n",
       "num_values                                         2   \n",
       "value_ratios   {'Florida': 53.6, 'California': 46.4}   \n",
       "\n",
       "                                                                                                       landpad_geo  \\\n",
       "missing_ratio                                                                                                  0.0   \n",
       "num_values                                                                                                       4   \n",
       "value_ratios   {'(33.7291858, -118.262015)': 55.9, '(28.4104, -80.6188)': 28.3, '(28.485833, -80.544444)': 11.8...   \n",
       "\n",
       "                                         outcome  \n",
       "missing_ratio                                0.0  \n",
       "num_values                                     2  \n",
       "value_ratios   {'Success': 98.7, 'Failure': 1.3}  "
      ]
     },
     "execution_count": 50,
     "metadata": {},
     "output_type": "execute_result"
    }
   ],
   "source": [
    "# TEST\n",
    "cat_col_info_df = cate_col_df.agg([missing_ratio, num_values, value_ratios])\n",
    "cat_col_info_df"
   ]
  },
  {
   "cell_type": "markdown",
   "metadata": {},
   "source": [
    "**Question** Considering the Falcon 1 rockets, what are the names, types, and regions of their landpad? Comparing their names of launch pad and launch region. Similarly, you check for Falcon 9 and Falcon Heavy rockets, give your observation, and fill in the missing value with some specific values.\n",
    "\n",
    "*Hint*: It can be said that the region of the landing pad and launch pad are the same."
   ]
  },
  {
   "cell_type": "markdown",
   "metadata": {},
   "source": [
    "By Googling, you can find something interesting about the region of each landpad. Please fill the table below:\n",
    "\n",
    "TODO: Complete the table below.\n",
    "\n",
    "| Landpad  | Type  |  Region |\n",
    "|---|---|---|\n",
    "| OCISLY  | ASDS  | California  |\n",
    "| JRTI  | ASDS  | Florida  |\n",
    "| ASOG  | ASDS |  Port Canaveral, Florida  |\n",
    "| LZ-1  | RTLS | Florida | \n",
    "| LZ-4  | RTLS  | California  |\n",
    "| JRTI-1  | ASDS | Florida |"
   ]
  },
  {
   "cell_type": "markdown",
   "metadata": {},
   "source": [
    "**Observation 1**: \n",
    "- Falcon 9 rockets which have launchpad in Florida and have landpad in Florida that have no missing values. \n",
    "- Falcon 9 rockets which have launchpad in Florida and have landpad in California that have no missing values. Their land name and type are OCISLY and ASDS, respectively."
   ]
  },
  {
   "cell_type": "markdown",
   "metadata": {},
   "source": [
    "TODO: What are the further rules you can find?"
   ]
  },
  {
   "cell_type": "markdown",
   "metadata": {},
   "source": [
    "YOUR ANSWER HERE"
   ]
  },
  {
   "cell_type": "markdown",
   "metadata": {},
   "source": [
    "**Observation 2**\n",
    "- Falcon 9 rockets which have landpad name is `OCISLY`, and landpad type is `ASDS` => landpad region `California`\n",
    "- Falcon 9 rockets which have landpad name is `JRTI`, and landpad type is `ASDS` => landpad region `Florida`\n",
    "- Falcon 9 rockets which have landpad name is `ASOG`, and landpad type is `ASDS` => landpad region `Florida`"
   ]
  },
  {
   "cell_type": "markdown",
   "metadata": {},
   "source": [
    "TODO: What are the further rules you can find?\n",
    "\n"
   ]
  },
  {
   "cell_type": "markdown",
   "metadata": {},
   "source": [
    "- Falcon 9 rockets which have landpad name is `LZ-1`, and landpad type is `RTLS` => landpad region `Florida`\n",
    "- Falcon 9 rockets which have landpad name is `LZ-4`, and landpad type is `RTLS` => landpad region `California`"
   ]
  },
  {
   "cell_type": "code",
   "execution_count": 51,
   "metadata": {},
   "outputs": [],
   "source": [
    "def fill_landpadregion(df: pd.DataFrame) -> pd.DataFrame:\n",
    "    \"\"\"Fill missing value in landpad region in the input dataframe.\n",
    "\n",
    "    Args:\n",
    "        df (pd.DataFrame): input dataframe\n",
    "\n",
    "    Returns:\n",
    "        pd.DataFrame: output dataframe\n",
    "    \"\"\"\n",
    "    \n",
    "    # YOUR CODE HERE\n",
    "    df_cp = df.copy()\n",
    "    m1 = (df_cp['landpad_name'] == \"OCISLY\") & (df_cp['landpad_type'] == \"ASDS\")\n",
    "    m2 = (df_cp['landpad_name'] == \"JRTI\") & (df_cp['landpad_type'] ==  \"ASDS\")\n",
    "    m3 = (df_cp['landpad_name'] == \"ASOG\") & (df_cp['landpad_type'] == \"ASDS\")\n",
    "    m4 = (df_cp['landpad_name'] == \"LZ-1\") & (df_cp['landpad_type'] ==  \"RTLS\")\n",
    "    m5 = (df_cp['landpad_name'] == \"LZ-4\") & (df_cp['landpad_type'] == \"RTLS\") \n",
    "    df_cp.loc[m1,'landpad_region'] = df_cp.loc[m1,'landpad_region'].fillna('California')\n",
    "    df_cp.loc[m2,'landpad_region'] = df_cp.loc[m2,'landpad_region'].fillna('Florida')\n",
    "    df_cp.loc[m3,'landpad_region'] = df_cp.loc[m3,'landpad_region'].fillna('Florida')\n",
    "    df_cp.loc[m4,'landpad_region'] = df_cp.loc[m4,'landpad_region'].fillna('Florida')\n",
    "    df_cp.loc[m5,'landpad_region'] = df_cp.loc[m5,'landpad_region'].fillna('California')\n",
    "\n",
    "    return df_cp\n",
    "    raise NotImplementedError()\n",
    "\n",
    "    if (df is None):\n",
    "        raise ValueError\n",
    "    \n",
    "    # Create a copy of the dataframe to avoid changing the original\n",
    "    df_cp = df.copy()\n",
    "\n",
    "    return df_cp\n",
    "\n",
    "cate_col_df = fill_landpadregion(cate_col_df)"
   ]
  },
  {
   "cell_type": "code",
   "execution_count": 52,
   "metadata": {},
   "outputs": [
    {
     "data": {
      "text/html": [
       "<div>\n",
       "<style scoped>\n",
       "    .dataframe tbody tr th:only-of-type {\n",
       "        vertical-align: middle;\n",
       "    }\n",
       "\n",
       "    .dataframe tbody tr th {\n",
       "        vertical-align: top;\n",
       "    }\n",
       "\n",
       "    .dataframe thead th {\n",
       "        text-align: right;\n",
       "    }\n",
       "</style>\n",
       "<table border=\"1\" class=\"dataframe\">\n",
       "  <thead>\n",
       "    <tr style=\"text-align: right;\">\n",
       "      <th></th>\n",
       "      <th>launch_name</th>\n",
       "      <th>payloads</th>\n",
       "      <th>rocket_name</th>\n",
       "      <th>launchpad_name</th>\n",
       "      <th>launchpad_region</th>\n",
       "      <th>launchpad_geo</th>\n",
       "      <th>landpad_name</th>\n",
       "      <th>landpad_type</th>\n",
       "      <th>landpad_region</th>\n",
       "      <th>landpad_geo</th>\n",
       "      <th>outcome</th>\n",
       "    </tr>\n",
       "  </thead>\n",
       "  <tbody>\n",
       "    <tr>\n",
       "      <th>missing_ratio</th>\n",
       "      <td>0.0</td>\n",
       "      <td>0.0</td>\n",
       "      <td>0.0</td>\n",
       "      <td>0.0</td>\n",
       "      <td>0.0</td>\n",
       "      <td>0.0</td>\n",
       "      <td>0.0</td>\n",
       "      <td>0.0</td>\n",
       "      <td>0.0</td>\n",
       "      <td>0.0</td>\n",
       "      <td>0.0</td>\n",
       "    </tr>\n",
       "    <tr>\n",
       "      <th>num_values</th>\n",
       "      <td>151</td>\n",
       "      <td>NaN</td>\n",
       "      <td>2</td>\n",
       "      <td>3</td>\n",
       "      <td>2</td>\n",
       "      <td>3</td>\n",
       "      <td>6</td>\n",
       "      <td>2</td>\n",
       "      <td>2</td>\n",
       "      <td>4</td>\n",
       "      <td>2</td>\n",
       "    </tr>\n",
       "    <tr>\n",
       "      <th>value_ratios</th>\n",
       "      <td>{'Starlink 4-20 (v1.5) &amp; Sherpa LTC-2/Varuna-TDM': 1.3, 'CRS-5': 0.7, 'Starlink 4-4 (v1.5)': 0.7...</td>\n",
       "      <td>NaN</td>\n",
       "      <td>{'Falcon 9': 98.0, 'Falcon Heavy': 2.0}</td>\n",
       "      <td>{'CCSFS SLC 40': 51.3, 'KSC LC 39A': 33.6, 'VAFB SLC 4E': 15.1}</td>\n",
       "      <td>{'Florida': 84.9, 'California': 15.1}</td>\n",
       "      <td>{'(28.5618571, -80.577366)': 51.3, '(28.6080585, -80.6039558)': 33.6, '(34.632093, -120.610829)'...</td>\n",
       "      <td>{'OCISLY': 42.1, 'JRTI': 27.0, 'ASOG': 13.8, 'LZ-1': 11.8, 'LZ-4': 3.9, 'JRTI-1': 1.3}</td>\n",
       "      <td>{'ASDS': 84.2, 'RTLS': 15.8}</td>\n",
       "      <td>{'Florida': 53.9, 'California': 46.1}</td>\n",
       "      <td>{'(33.7291858, -118.262015)': 55.9, '(28.4104, -80.6188)': 28.3, '(28.485833, -80.544444)': 11.8...</td>\n",
       "      <td>{'Success': 98.7, 'Failure': 1.3}</td>\n",
       "    </tr>\n",
       "  </tbody>\n",
       "</table>\n",
       "</div>"
      ],
      "text/plain": [
       "                                                                                                       launch_name  \\\n",
       "missing_ratio                                                                                                  0.0   \n",
       "num_values                                                                                                     151   \n",
       "value_ratios   {'Starlink 4-20 (v1.5) & Sherpa LTC-2/Varuna-TDM': 1.3, 'CRS-5': 0.7, 'Starlink 4-4 (v1.5)': 0.7...   \n",
       "\n",
       "               payloads                              rocket_name  \\\n",
       "missing_ratio       0.0                                      0.0   \n",
       "num_values          NaN                                        2   \n",
       "value_ratios        NaN  {'Falcon 9': 98.0, 'Falcon Heavy': 2.0}   \n",
       "\n",
       "                                                                launchpad_name  \\\n",
       "missing_ratio                                                              0.0   \n",
       "num_values                                                                   3   \n",
       "value_ratios   {'CCSFS SLC 40': 51.3, 'KSC LC 39A': 33.6, 'VAFB SLC 4E': 15.1}   \n",
       "\n",
       "                                    launchpad_region  \\\n",
       "missing_ratio                                    0.0   \n",
       "num_values                                         2   \n",
       "value_ratios   {'Florida': 84.9, 'California': 15.1}   \n",
       "\n",
       "                                                                                                     launchpad_geo  \\\n",
       "missing_ratio                                                                                                  0.0   \n",
       "num_values                                                                                                       3   \n",
       "value_ratios   {'(28.5618571, -80.577366)': 51.3, '(28.6080585, -80.6039558)': 33.6, '(34.632093, -120.610829)'...   \n",
       "\n",
       "                                                                                         landpad_name  \\\n",
       "missing_ratio                                                                                     0.0   \n",
       "num_values                                                                                          6   \n",
       "value_ratios   {'OCISLY': 42.1, 'JRTI': 27.0, 'ASOG': 13.8, 'LZ-1': 11.8, 'LZ-4': 3.9, 'JRTI-1': 1.3}   \n",
       "\n",
       "                               landpad_type  \\\n",
       "missing_ratio                           0.0   \n",
       "num_values                                2   \n",
       "value_ratios   {'ASDS': 84.2, 'RTLS': 15.8}   \n",
       "\n",
       "                                      landpad_region  \\\n",
       "missing_ratio                                    0.0   \n",
       "num_values                                         2   \n",
       "value_ratios   {'Florida': 53.9, 'California': 46.1}   \n",
       "\n",
       "                                                                                                       landpad_geo  \\\n",
       "missing_ratio                                                                                                  0.0   \n",
       "num_values                                                                                                       4   \n",
       "value_ratios   {'(33.7291858, -118.262015)': 55.9, '(28.4104, -80.6188)': 28.3, '(28.485833, -80.544444)': 11.8...   \n",
       "\n",
       "                                         outcome  \n",
       "missing_ratio                                0.0  \n",
       "num_values                                     2  \n",
       "value_ratios   {'Success': 98.7, 'Failure': 1.3}  "
      ]
     },
     "execution_count": 52,
     "metadata": {},
     "output_type": "execute_result"
    }
   ],
   "source": [
    "cat_col_info_df = cate_col_df.agg([missing_ratio, num_values, value_ratios])\n",
    "cat_col_info_df"
   ]
  },
  {
   "cell_type": "code",
   "execution_count": 53,
   "metadata": {},
   "outputs": [],
   "source": [
    "# TEST\n",
    "cat_col_info_df = cate_col_df.agg([missing_ratio, num_values, value_ratios])\n",
    "\n",
    "c = cat_col_info_df['landpad_name']\n",
    "assert adler32(str(c.loc['missing_ratio']).encode()) == 18808975\n",
    "assert adler32(str(c.loc['num_values']).encode()) == 3604535\n",
    "assert adler32(str(c.loc['value_ratios']['LZ-1']).encode()) == 32440521\n",
    "\n",
    "c = cat_col_info_df['landpad_type']\n",
    "assert adler32(str(c.loc['missing_ratio']).encode())  == 18808975\n",
    "assert adler32(str(c.loc['num_values']).encode()) == 3342387\n",
    "assert adler32(str(c.loc['value_ratios']['RTLS']).encode()) == 33226957\n",
    "\n",
    "c = cat_col_info_df['landpad_region']\n",
    "assert adler32(str(c.loc['missing_ratio']).encode()) == 18808975\n",
    "assert adler32(str(c.loc['num_values']).encode()) == 3342387\n",
    "assert adler32(str(c.loc['value_ratios']['California']).encode()) ==  33751242"
   ]
  },
  {
   "cell_type": "markdown",
   "metadata": {},
   "source": [
    "TODO: Fill missing values for all `raw_df`"
   ]
  },
  {
   "cell_type": "code",
   "execution_count": 54,
   "metadata": {},
   "outputs": [
    {
     "name": "stdout",
     "output_type": "stream",
     "text": [
      "<class 'pandas.core.frame.DataFrame'>\n",
      "Int64Index: 152 entries, 18 to 186\n",
      "Data columns (total 16 columns):\n",
      " #   Column            Non-Null Count  Dtype              \n",
      "---  ------            --------------  -----              \n",
      " 0   uct_time          152 non-null    datetime64[ns, UTC]\n",
      " 1   launch_name       152 non-null    object             \n",
      " 2   payloads          152 non-null    object             \n",
      " 3   rocket_name       152 non-null    object             \n",
      " 4   rocket_boosters   152 non-null    int64              \n",
      " 5   rocket_height     152 non-null    float64            \n",
      " 6   rocket_diameter   152 non-null    float64            \n",
      " 7   rocket_mass       152 non-null    float64            \n",
      " 8   launchpad_name    152 non-null    object             \n",
      " 9   launchpad_region  152 non-null    object             \n",
      " 10  launchpad_geo     152 non-null    object             \n",
      " 11  landpad_name      152 non-null    object             \n",
      " 12  landpad_type      152 non-null    object             \n",
      " 13  landpad_region    152 non-null    object             \n",
      " 14  landpad_geo       152 non-null    object             \n",
      " 15  outcome           152 non-null    object             \n",
      "dtypes: datetime64[ns, UTC](1), float64(3), int64(1), object(11)\n",
      "memory usage: 20.2+ KB\n"
     ]
    }
   ],
   "source": [
    "#raw_df[\"payloads\"] = raw_df[\"payloads\"].apply(str2dict)\n",
    "# YOUR CODE HERE\n",
    "raw_df[\"payloads\"] = raw_df[\"payloads\"].apply(str2dict)\n",
    "raw_df = raw_df.explode('payloads')\n",
    "\n",
    "raw_df = raw_df.drop(raw_df[raw_df[\"landpad_name\"].isnull() & raw_df[\"landpad_type\"].isnull()].index)\n",
    "raw_df = raw_df.drop(raw_df[raw_df[\"landpad_name\"].isnull() & raw_df[\"landpad_region\"].isnull()].index)\n",
    "raw_df = raw_df.drop(raw_df[raw_df[\"landpad_type\"].isnull() & raw_df[\"landpad_region\"].isnull()].index)\n",
    "\n",
    "raw_df = fill_landpadregion(raw_df)\n",
    "# raise NotImplementedError()\n",
    "raw_df.info()"
   ]
  },
  {
   "cell_type": "code",
   "execution_count": 55,
   "metadata": {},
   "outputs": [
    {
     "data": {
      "text/html": [
       "<div>\n",
       "<style scoped>\n",
       "    .dataframe tbody tr th:only-of-type {\n",
       "        vertical-align: middle;\n",
       "    }\n",
       "\n",
       "    .dataframe tbody tr th {\n",
       "        vertical-align: top;\n",
       "    }\n",
       "\n",
       "    .dataframe thead th {\n",
       "        text-align: right;\n",
       "    }\n",
       "</style>\n",
       "<table border=\"1\" class=\"dataframe\">\n",
       "  <thead>\n",
       "    <tr style=\"text-align: right;\">\n",
       "      <th></th>\n",
       "      <th>uct_time</th>\n",
       "      <th>launch_name</th>\n",
       "      <th>payloads</th>\n",
       "      <th>rocket_name</th>\n",
       "      <th>rocket_boosters</th>\n",
       "      <th>rocket_height</th>\n",
       "      <th>rocket_diameter</th>\n",
       "      <th>rocket_mass</th>\n",
       "      <th>launchpad_name</th>\n",
       "      <th>launchpad_region</th>\n",
       "      <th>launchpad_geo</th>\n",
       "      <th>landpad_name</th>\n",
       "      <th>landpad_type</th>\n",
       "      <th>landpad_region</th>\n",
       "      <th>landpad_geo</th>\n",
       "      <th>outcome</th>\n",
       "    </tr>\n",
       "  </thead>\n",
       "  <tbody>\n",
       "    <tr>\n",
       "      <th>18</th>\n",
       "      <td>2015-01-10 09:47:00+00:00</td>\n",
       "      <td>CRS-5</td>\n",
       "      <td>{'type': 'Dragon 1.1', 'mass': 2395, 'orbit': 'ISS'}</td>\n",
       "      <td>Falcon 9</td>\n",
       "      <td>0</td>\n",
       "      <td>70.0</td>\n",
       "      <td>3.7</td>\n",
       "      <td>549054.000000</td>\n",
       "      <td>CCSFS SLC 40</td>\n",
       "      <td>Florida</td>\n",
       "      <td>(28.5618571, -80.577366)</td>\n",
       "      <td>JRTI-1</td>\n",
       "      <td>ASDS</td>\n",
       "      <td>Florida</td>\n",
       "      <td>(28.4104, -80.6188)</td>\n",
       "      <td>Success</td>\n",
       "    </tr>\n",
       "    <tr>\n",
       "      <th>21</th>\n",
       "      <td>2015-04-14 20:10:00+00:00</td>\n",
       "      <td>CRS-6</td>\n",
       "      <td>{'type': 'Dragon 1.1', 'mass': 1898, 'orbit': 'ISS'}</td>\n",
       "      <td>Falcon 9</td>\n",
       "      <td>0</td>\n",
       "      <td>70.0</td>\n",
       "      <td>3.7</td>\n",
       "      <td>549054.000000</td>\n",
       "      <td>CCSFS SLC 40</td>\n",
       "      <td>Florida</td>\n",
       "      <td>(28.5618571, -80.577366)</td>\n",
       "      <td>JRTI-1</td>\n",
       "      <td>ASDS</td>\n",
       "      <td>Florida</td>\n",
       "      <td>(28.4104, -80.6188)</td>\n",
       "      <td>Success</td>\n",
       "    </tr>\n",
       "    <tr>\n",
       "      <th>23</th>\n",
       "      <td>2015-06-28 14:21:00+00:00</td>\n",
       "      <td>CRS-7</td>\n",
       "      <td>{'type': 'Dragon 1.1', 'mass': 1952, 'orbit': 'ISS'}</td>\n",
       "      <td>Falcon 9</td>\n",
       "      <td>0</td>\n",
       "      <td>70.0</td>\n",
       "      <td>3.7</td>\n",
       "      <td>556404.541667</td>\n",
       "      <td>CCSFS SLC 40</td>\n",
       "      <td>Florida</td>\n",
       "      <td>(28.5618571, -80.577366)</td>\n",
       "      <td>OCISLY</td>\n",
       "      <td>ASDS</td>\n",
       "      <td>California</td>\n",
       "      <td>(33.7291858, -118.262015)</td>\n",
       "      <td>Failure</td>\n",
       "    </tr>\n",
       "    <tr>\n",
       "      <th>24</th>\n",
       "      <td>2015-12-22 01:29:00+00:00</td>\n",
       "      <td>OG-2 Mission 2</td>\n",
       "      <td>{'type': 'Satellite', 'mass': 2034, 'orbit': 'LEO'}</td>\n",
       "      <td>Falcon 9</td>\n",
       "      <td>0</td>\n",
       "      <td>70.0</td>\n",
       "      <td>3.7</td>\n",
       "      <td>549054.000000</td>\n",
       "      <td>CCSFS SLC 40</td>\n",
       "      <td>Florida</td>\n",
       "      <td>(28.5618571, -80.577366)</td>\n",
       "      <td>LZ-1</td>\n",
       "      <td>RTLS</td>\n",
       "      <td>Florida</td>\n",
       "      <td>(28.485833, -80.544444)</td>\n",
       "      <td>Success</td>\n",
       "    </tr>\n",
       "    <tr>\n",
       "      <th>25</th>\n",
       "      <td>2016-01-17 15:42:00+00:00</td>\n",
       "      <td>Jason 3</td>\n",
       "      <td>{'type': 'Satellite', 'mass': 553, 'orbit': 'PO'}</td>\n",
       "      <td>Falcon 9</td>\n",
       "      <td>0</td>\n",
       "      <td>70.0</td>\n",
       "      <td>3.7</td>\n",
       "      <td>549054.000000</td>\n",
       "      <td>VAFB SLC 4E</td>\n",
       "      <td>California</td>\n",
       "      <td>(34.632093, -120.610829)</td>\n",
       "      <td>JRTI</td>\n",
       "      <td>ASDS</td>\n",
       "      <td>Florida</td>\n",
       "      <td>(28.4104, -80.6188)</td>\n",
       "      <td>Success</td>\n",
       "    </tr>\n",
       "  </tbody>\n",
       "</table>\n",
       "</div>"
      ],
      "text/plain": [
       "                    uct_time     launch_name  \\\n",
       "18 2015-01-10 09:47:00+00:00           CRS-5   \n",
       "21 2015-04-14 20:10:00+00:00           CRS-6   \n",
       "23 2015-06-28 14:21:00+00:00           CRS-7   \n",
       "24 2015-12-22 01:29:00+00:00  OG-2 Mission 2   \n",
       "25 2016-01-17 15:42:00+00:00         Jason 3   \n",
       "\n",
       "                                                payloads rocket_name  \\\n",
       "18  {'type': 'Dragon 1.1', 'mass': 2395, 'orbit': 'ISS'}    Falcon 9   \n",
       "21  {'type': 'Dragon 1.1', 'mass': 1898, 'orbit': 'ISS'}    Falcon 9   \n",
       "23  {'type': 'Dragon 1.1', 'mass': 1952, 'orbit': 'ISS'}    Falcon 9   \n",
       "24   {'type': 'Satellite', 'mass': 2034, 'orbit': 'LEO'}    Falcon 9   \n",
       "25     {'type': 'Satellite', 'mass': 553, 'orbit': 'PO'}    Falcon 9   \n",
       "\n",
       "    rocket_boosters  rocket_height  rocket_diameter    rocket_mass  \\\n",
       "18                0           70.0              3.7  549054.000000   \n",
       "21                0           70.0              3.7  549054.000000   \n",
       "23                0           70.0              3.7  556404.541667   \n",
       "24                0           70.0              3.7  549054.000000   \n",
       "25                0           70.0              3.7  549054.000000   \n",
       "\n",
       "   launchpad_name launchpad_region             launchpad_geo landpad_name  \\\n",
       "18   CCSFS SLC 40          Florida  (28.5618571, -80.577366)       JRTI-1   \n",
       "21   CCSFS SLC 40          Florida  (28.5618571, -80.577366)       JRTI-1   \n",
       "23   CCSFS SLC 40          Florida  (28.5618571, -80.577366)       OCISLY   \n",
       "24   CCSFS SLC 40          Florida  (28.5618571, -80.577366)         LZ-1   \n",
       "25    VAFB SLC 4E       California  (34.632093, -120.610829)         JRTI   \n",
       "\n",
       "   landpad_type landpad_region                landpad_geo  outcome  \n",
       "18         ASDS        Florida        (28.4104, -80.6188)  Success  \n",
       "21         ASDS        Florida        (28.4104, -80.6188)  Success  \n",
       "23         ASDS     California  (33.7291858, -118.262015)  Failure  \n",
       "24         RTLS        Florida    (28.485833, -80.544444)  Success  \n",
       "25         ASDS        Florida        (28.4104, -80.6188)  Success  "
      ]
     },
     "execution_count": 55,
     "metadata": {},
     "output_type": "execute_result"
    }
   ],
   "source": [
    "raw_df.head()"
   ]
  },
  {
   "cell_type": "code",
   "execution_count": 56,
   "metadata": {},
   "outputs": [],
   "source": [
    "# TEST 01\n",
    "assert raw_df.shape == (152, 16)"
   ]
  },
  {
   "cell_type": "code",
   "execution_count": 57,
   "metadata": {},
   "outputs": [
    {
     "data": {
      "text/html": [
       "<div>\n",
       "<style scoped>\n",
       "    .dataframe tbody tr th:only-of-type {\n",
       "        vertical-align: middle;\n",
       "    }\n",
       "\n",
       "    .dataframe tbody tr th {\n",
       "        vertical-align: top;\n",
       "    }\n",
       "\n",
       "    .dataframe thead th {\n",
       "        text-align: right;\n",
       "    }\n",
       "</style>\n",
       "<table border=\"1\" class=\"dataframe\">\n",
       "  <thead>\n",
       "    <tr style=\"text-align: right;\">\n",
       "      <th></th>\n",
       "      <th>launch_name</th>\n",
       "      <th>payloads</th>\n",
       "      <th>rocket_name</th>\n",
       "      <th>launchpad_name</th>\n",
       "      <th>launchpad_region</th>\n",
       "      <th>launchpad_geo</th>\n",
       "      <th>landpad_name</th>\n",
       "      <th>landpad_type</th>\n",
       "      <th>landpad_region</th>\n",
       "      <th>landpad_geo</th>\n",
       "      <th>outcome</th>\n",
       "    </tr>\n",
       "  </thead>\n",
       "  <tbody>\n",
       "    <tr>\n",
       "      <th>missing_ratio</th>\n",
       "      <td>0.0</td>\n",
       "      <td>0.0</td>\n",
       "      <td>0.0</td>\n",
       "      <td>0.0</td>\n",
       "      <td>0.0</td>\n",
       "      <td>0.0</td>\n",
       "      <td>0.0</td>\n",
       "      <td>0.0</td>\n",
       "      <td>0.0</td>\n",
       "      <td>0.0</td>\n",
       "      <td>0.0</td>\n",
       "    </tr>\n",
       "    <tr>\n",
       "      <th>num_values</th>\n",
       "      <td>151</td>\n",
       "      <td>NaN</td>\n",
       "      <td>2</td>\n",
       "      <td>3</td>\n",
       "      <td>2</td>\n",
       "      <td>3</td>\n",
       "      <td>6</td>\n",
       "      <td>2</td>\n",
       "      <td>2</td>\n",
       "      <td>4</td>\n",
       "      <td>2</td>\n",
       "    </tr>\n",
       "    <tr>\n",
       "      <th>value_ratios</th>\n",
       "      <td>{'Starlink 4-20 (v1.5) &amp; Sherpa LTC-2/Varuna-TDM': 1.3, 'CRS-5': 0.7, 'Starlink 4-4 (v1.5)': 0.7...</td>\n",
       "      <td>NaN</td>\n",
       "      <td>{'Falcon 9': 98.0, 'Falcon Heavy': 2.0}</td>\n",
       "      <td>{'CCSFS SLC 40': 51.3, 'KSC LC 39A': 33.6, 'VAFB SLC 4E': 15.1}</td>\n",
       "      <td>{'Florida': 84.9, 'California': 15.1}</td>\n",
       "      <td>{'(28.5618571, -80.577366)': 51.3, '(28.6080585, -80.6039558)': 33.6, '(34.632093, -120.610829)'...</td>\n",
       "      <td>{'OCISLY': 42.1, 'JRTI': 27.0, 'ASOG': 13.8, 'LZ-1': 11.8, 'LZ-4': 3.9, 'JRTI-1': 1.3}</td>\n",
       "      <td>{'ASDS': 84.2, 'RTLS': 15.8}</td>\n",
       "      <td>{'Florida': 53.9, 'California': 46.1}</td>\n",
       "      <td>{'(33.7291858, -118.262015)': 55.9, '(28.4104, -80.6188)': 28.3, '(28.485833, -80.544444)': 11.8...</td>\n",
       "      <td>{'Success': 98.7, 'Failure': 1.3}</td>\n",
       "    </tr>\n",
       "  </tbody>\n",
       "</table>\n",
       "</div>"
      ],
      "text/plain": [
       "                                                                                                       launch_name  \\\n",
       "missing_ratio                                                                                                  0.0   \n",
       "num_values                                                                                                     151   \n",
       "value_ratios   {'Starlink 4-20 (v1.5) & Sherpa LTC-2/Varuna-TDM': 1.3, 'CRS-5': 0.7, 'Starlink 4-4 (v1.5)': 0.7...   \n",
       "\n",
       "               payloads                              rocket_name  \\\n",
       "missing_ratio       0.0                                      0.0   \n",
       "num_values          NaN                                        2   \n",
       "value_ratios        NaN  {'Falcon 9': 98.0, 'Falcon Heavy': 2.0}   \n",
       "\n",
       "                                                                launchpad_name  \\\n",
       "missing_ratio                                                              0.0   \n",
       "num_values                                                                   3   \n",
       "value_ratios   {'CCSFS SLC 40': 51.3, 'KSC LC 39A': 33.6, 'VAFB SLC 4E': 15.1}   \n",
       "\n",
       "                                    launchpad_region  \\\n",
       "missing_ratio                                    0.0   \n",
       "num_values                                         2   \n",
       "value_ratios   {'Florida': 84.9, 'California': 15.1}   \n",
       "\n",
       "                                                                                                     launchpad_geo  \\\n",
       "missing_ratio                                                                                                  0.0   \n",
       "num_values                                                                                                       3   \n",
       "value_ratios   {'(28.5618571, -80.577366)': 51.3, '(28.6080585, -80.6039558)': 33.6, '(34.632093, -120.610829)'...   \n",
       "\n",
       "                                                                                         landpad_name  \\\n",
       "missing_ratio                                                                                     0.0   \n",
       "num_values                                                                                          6   \n",
       "value_ratios   {'OCISLY': 42.1, 'JRTI': 27.0, 'ASOG': 13.8, 'LZ-1': 11.8, 'LZ-4': 3.9, 'JRTI-1': 1.3}   \n",
       "\n",
       "                               landpad_type  \\\n",
       "missing_ratio                           0.0   \n",
       "num_values                                2   \n",
       "value_ratios   {'ASDS': 84.2, 'RTLS': 15.8}   \n",
       "\n",
       "                                      landpad_region  \\\n",
       "missing_ratio                                    0.0   \n",
       "num_values                                         2   \n",
       "value_ratios   {'Florida': 53.9, 'California': 46.1}   \n",
       "\n",
       "                                                                                                       landpad_geo  \\\n",
       "missing_ratio                                                                                                  0.0   \n",
       "num_values                                                                                                       4   \n",
       "value_ratios   {'(33.7291858, -118.262015)': 55.9, '(28.4104, -80.6188)': 28.3, '(28.485833, -80.544444)': 11.8...   \n",
       "\n",
       "                                         outcome  \n",
       "missing_ratio                                0.0  \n",
       "num_values                                     2  \n",
       "value_ratios   {'Success': 98.7, 'Failure': 1.3}  "
      ]
     },
     "execution_count": 57,
     "metadata": {},
     "output_type": "execute_result"
    }
   ],
   "source": [
    "# TEST 02\n",
    "raw_df.select_dtypes(include=['object']).agg([missing_ratio, num_values, value_ratios])"
   ]
  },
  {
   "cell_type": "markdown",
   "metadata": {},
   "source": [
    "Consider the `payloads` attributes; you have to check whether they have missing values."
   ]
  },
  {
   "cell_type": "code",
   "execution_count": 58,
   "metadata": {},
   "outputs": [
    {
     "data": {
      "text/html": [
       "<div>\n",
       "<style scoped>\n",
       "    .dataframe tbody tr th:only-of-type {\n",
       "        vertical-align: middle;\n",
       "    }\n",
       "\n",
       "    .dataframe tbody tr th {\n",
       "        vertical-align: top;\n",
       "    }\n",
       "\n",
       "    .dataframe thead th {\n",
       "        text-align: right;\n",
       "    }\n",
       "</style>\n",
       "<table border=\"1\" class=\"dataframe\">\n",
       "  <thead>\n",
       "    <tr style=\"text-align: right;\">\n",
       "      <th></th>\n",
       "      <th>launch_name</th>\n",
       "      <th>rocket_name</th>\n",
       "      <th>launchpad_name</th>\n",
       "      <th>launchpad_region</th>\n",
       "      <th>launchpad_geo</th>\n",
       "      <th>landpad_name</th>\n",
       "      <th>landpad_type</th>\n",
       "      <th>landpad_region</th>\n",
       "      <th>landpad_geo</th>\n",
       "      <th>outcome</th>\n",
       "      <th>type</th>\n",
       "      <th>mass</th>\n",
       "      <th>orbit</th>\n",
       "    </tr>\n",
       "  </thead>\n",
       "  <tbody>\n",
       "    <tr>\n",
       "      <th>18</th>\n",
       "      <td>CRS-5</td>\n",
       "      <td>Falcon 9</td>\n",
       "      <td>CCSFS SLC 40</td>\n",
       "      <td>Florida</td>\n",
       "      <td>(28.5618571, -80.577366)</td>\n",
       "      <td>JRTI-1</td>\n",
       "      <td>ASDS</td>\n",
       "      <td>Florida</td>\n",
       "      <td>(28.4104, -80.6188)</td>\n",
       "      <td>Success</td>\n",
       "      <td>Satellite</td>\n",
       "      <td>3669.0</td>\n",
       "      <td>GTO</td>\n",
       "    </tr>\n",
       "    <tr>\n",
       "      <th>21</th>\n",
       "      <td>CRS-6</td>\n",
       "      <td>Falcon 9</td>\n",
       "      <td>CCSFS SLC 40</td>\n",
       "      <td>Florida</td>\n",
       "      <td>(28.5618571, -80.577366)</td>\n",
       "      <td>JRTI-1</td>\n",
       "      <td>ASDS</td>\n",
       "      <td>Florida</td>\n",
       "      <td>(28.4104, -80.6188)</td>\n",
       "      <td>Success</td>\n",
       "      <td>Satellite</td>\n",
       "      <td>5875.0</td>\n",
       "      <td>SSO</td>\n",
       "    </tr>\n",
       "    <tr>\n",
       "      <th>23</th>\n",
       "      <td>CRS-7</td>\n",
       "      <td>Falcon 9</td>\n",
       "      <td>CCSFS SLC 40</td>\n",
       "      <td>Florida</td>\n",
       "      <td>(28.5618571, -80.577366)</td>\n",
       "      <td>OCISLY</td>\n",
       "      <td>ASDS</td>\n",
       "      <td>California</td>\n",
       "      <td>(33.7291858, -118.262015)</td>\n",
       "      <td>Failure</td>\n",
       "      <td>Satellite</td>\n",
       "      <td>9600.0</td>\n",
       "      <td>PO</td>\n",
       "    </tr>\n",
       "    <tr>\n",
       "      <th>24</th>\n",
       "      <td>OG-2 Mission 2</td>\n",
       "      <td>Falcon 9</td>\n",
       "      <td>CCSFS SLC 40</td>\n",
       "      <td>Florida</td>\n",
       "      <td>(28.5618571, -80.577366)</td>\n",
       "      <td>LZ-1</td>\n",
       "      <td>RTLS</td>\n",
       "      <td>Florida</td>\n",
       "      <td>(28.485833, -80.544444)</td>\n",
       "      <td>Success</td>\n",
       "      <td>Satellite</td>\n",
       "      <td>5200.0</td>\n",
       "      <td>GTO</td>\n",
       "    </tr>\n",
       "    <tr>\n",
       "      <th>25</th>\n",
       "      <td>Jason 3</td>\n",
       "      <td>Falcon 9</td>\n",
       "      <td>VAFB SLC 4E</td>\n",
       "      <td>California</td>\n",
       "      <td>(34.632093, -120.610829)</td>\n",
       "      <td>JRTI</td>\n",
       "      <td>ASDS</td>\n",
       "      <td>Florida</td>\n",
       "      <td>(28.4104, -80.6188)</td>\n",
       "      <td>Success</td>\n",
       "      <td>Satellite</td>\n",
       "      <td>3700.0</td>\n",
       "      <td>GTO</td>\n",
       "    </tr>\n",
       "    <tr>\n",
       "      <th>...</th>\n",
       "      <td>...</td>\n",
       "      <td>...</td>\n",
       "      <td>...</td>\n",
       "      <td>...</td>\n",
       "      <td>...</td>\n",
       "      <td>...</td>\n",
       "      <td>...</td>\n",
       "      <td>...</td>\n",
       "      <td>...</td>\n",
       "      <td>...</td>\n",
       "      <td>...</td>\n",
       "      <td>...</td>\n",
       "      <td>...</td>\n",
       "    </tr>\n",
       "    <tr>\n",
       "      <th>182</th>\n",
       "      <td>Starlink 4-20 (v1.5) &amp; Sherpa LTC-2/Varuna-TDM</td>\n",
       "      <td>Falcon 9</td>\n",
       "      <td>CCSFS SLC 40</td>\n",
       "      <td>Florida</td>\n",
       "      <td>(28.5618571, -80.577366)</td>\n",
       "      <td>JRTI</td>\n",
       "      <td>ASDS</td>\n",
       "      <td>Florida</td>\n",
       "      <td>(28.4104, -80.6188)</td>\n",
       "      <td>Success</td>\n",
       "      <td>NaN</td>\n",
       "      <td>NaN</td>\n",
       "      <td>NaN</td>\n",
       "    </tr>\n",
       "    <tr>\n",
       "      <th>183</th>\n",
       "      <td>Starlink 4-2 (v1.5) &amp; Blue Walker 3</td>\n",
       "      <td>Falcon 9</td>\n",
       "      <td>KSC LC 39A</td>\n",
       "      <td>Florida</td>\n",
       "      <td>(28.6080585, -80.6039558)</td>\n",
       "      <td>ASOG</td>\n",
       "      <td>ASDS</td>\n",
       "      <td>Florida</td>\n",
       "      <td>(33.7291858, -118.262015)</td>\n",
       "      <td>Success</td>\n",
       "      <td>NaN</td>\n",
       "      <td>NaN</td>\n",
       "      <td>NaN</td>\n",
       "    </tr>\n",
       "    <tr>\n",
       "      <th>184</th>\n",
       "      <td>Starlink 4-34 (v1.5)</td>\n",
       "      <td>Falcon 9</td>\n",
       "      <td>CCSFS SLC 40</td>\n",
       "      <td>Florida</td>\n",
       "      <td>(28.5618571, -80.577366)</td>\n",
       "      <td>JRTI</td>\n",
       "      <td>ASDS</td>\n",
       "      <td>Florida</td>\n",
       "      <td>(28.4104, -80.6188)</td>\n",
       "      <td>Success</td>\n",
       "      <td>NaN</td>\n",
       "      <td>NaN</td>\n",
       "      <td>NaN</td>\n",
       "    </tr>\n",
       "    <tr>\n",
       "      <th>185</th>\n",
       "      <td>Starlink 4-35 (v1.5)</td>\n",
       "      <td>Falcon 9</td>\n",
       "      <td>CCSFS SLC 40</td>\n",
       "      <td>Florida</td>\n",
       "      <td>(28.5618571, -80.577366)</td>\n",
       "      <td>JRTI</td>\n",
       "      <td>ASDS</td>\n",
       "      <td>Florida</td>\n",
       "      <td>(28.4104, -80.6188)</td>\n",
       "      <td>Success</td>\n",
       "      <td>NaN</td>\n",
       "      <td>NaN</td>\n",
       "      <td>NaN</td>\n",
       "    </tr>\n",
       "    <tr>\n",
       "      <th>186</th>\n",
       "      <td>Crew-5</td>\n",
       "      <td>Falcon 9</td>\n",
       "      <td>KSC LC 39A</td>\n",
       "      <td>Florida</td>\n",
       "      <td>(28.6080585, -80.6039558)</td>\n",
       "      <td>JRTI</td>\n",
       "      <td>ASDS</td>\n",
       "      <td>Florida</td>\n",
       "      <td>(28.4104, -80.6188)</td>\n",
       "      <td>Success</td>\n",
       "      <td>NaN</td>\n",
       "      <td>NaN</td>\n",
       "      <td>NaN</td>\n",
       "    </tr>\n",
       "  </tbody>\n",
       "</table>\n",
       "<p>152 rows × 13 columns</p>\n",
       "</div>"
      ],
      "text/plain": [
       "                                        launch_name rocket_name  \\\n",
       "18                                            CRS-5    Falcon 9   \n",
       "21                                            CRS-6    Falcon 9   \n",
       "23                                            CRS-7    Falcon 9   \n",
       "24                                   OG-2 Mission 2    Falcon 9   \n",
       "25                                          Jason 3    Falcon 9   \n",
       "..                                              ...         ...   \n",
       "182  Starlink 4-20 (v1.5) & Sherpa LTC-2/Varuna-TDM    Falcon 9   \n",
       "183             Starlink 4-2 (v1.5) & Blue Walker 3    Falcon 9   \n",
       "184                            Starlink 4-34 (v1.5)    Falcon 9   \n",
       "185                            Starlink 4-35 (v1.5)    Falcon 9   \n",
       "186                                          Crew-5    Falcon 9   \n",
       "\n",
       "    launchpad_name launchpad_region              launchpad_geo landpad_name  \\\n",
       "18    CCSFS SLC 40          Florida   (28.5618571, -80.577366)       JRTI-1   \n",
       "21    CCSFS SLC 40          Florida   (28.5618571, -80.577366)       JRTI-1   \n",
       "23    CCSFS SLC 40          Florida   (28.5618571, -80.577366)       OCISLY   \n",
       "24    CCSFS SLC 40          Florida   (28.5618571, -80.577366)         LZ-1   \n",
       "25     VAFB SLC 4E       California   (34.632093, -120.610829)         JRTI   \n",
       "..             ...              ...                        ...          ...   \n",
       "182   CCSFS SLC 40          Florida   (28.5618571, -80.577366)         JRTI   \n",
       "183     KSC LC 39A          Florida  (28.6080585, -80.6039558)         ASOG   \n",
       "184   CCSFS SLC 40          Florida   (28.5618571, -80.577366)         JRTI   \n",
       "185   CCSFS SLC 40          Florida   (28.5618571, -80.577366)         JRTI   \n",
       "186     KSC LC 39A          Florida  (28.6080585, -80.6039558)         JRTI   \n",
       "\n",
       "    landpad_type landpad_region                landpad_geo  outcome  \\\n",
       "18          ASDS        Florida        (28.4104, -80.6188)  Success   \n",
       "21          ASDS        Florida        (28.4104, -80.6188)  Success   \n",
       "23          ASDS     California  (33.7291858, -118.262015)  Failure   \n",
       "24          RTLS        Florida    (28.485833, -80.544444)  Success   \n",
       "25          ASDS        Florida        (28.4104, -80.6188)  Success   \n",
       "..           ...            ...                        ...      ...   \n",
       "182         ASDS        Florida        (28.4104, -80.6188)  Success   \n",
       "183         ASDS        Florida  (33.7291858, -118.262015)  Success   \n",
       "184         ASDS        Florida        (28.4104, -80.6188)  Success   \n",
       "185         ASDS        Florida        (28.4104, -80.6188)  Success   \n",
       "186         ASDS        Florida        (28.4104, -80.6188)  Success   \n",
       "\n",
       "          type    mass orbit  \n",
       "18   Satellite  3669.0   GTO  \n",
       "21   Satellite  5875.0   SSO  \n",
       "23   Satellite  9600.0    PO  \n",
       "24   Satellite  5200.0   GTO  \n",
       "25   Satellite  3700.0   GTO  \n",
       "..         ...     ...   ...  \n",
       "182        NaN     NaN   NaN  \n",
       "183        NaN     NaN   NaN  \n",
       "184        NaN     NaN   NaN  \n",
       "185        NaN     NaN   NaN  \n",
       "186        NaN     NaN   NaN  \n",
       "\n",
       "[152 rows x 13 columns]"
      ]
     },
     "execution_count": 58,
     "metadata": {},
     "output_type": "execute_result"
    }
   ],
   "source": [
    "cate_col_df2 = cate_col_df.join(pd.DataFrame(cate_col_df['payloads'].tolist())).drop('payloads', axis=1)  \n",
    "cate_col_df2"
   ]
  },
  {
   "cell_type": "markdown",
   "metadata": {},
   "source": [
    "Next, you have to missing values for three columns: `type`, `mass`, and `orbit`."
   ]
  },
  {
   "cell_type": "markdown",
   "metadata": {},
   "source": [
    "- Step 01: Drop all rows that have NaN values for all three columns or any two columns."
   ]
  },
  {
   "cell_type": "code",
   "execution_count": 59,
   "metadata": {},
   "outputs": [],
   "source": [
    "# YOUR CODE HERE\n",
    "cate_col_df2 = cate_col_df2.drop(cate_col_df2[cate_col_df2[\"type\"].isnull() & cate_col_df2[\"mass\"].isnull()].index)\n",
    "cate_col_df2 = cate_col_df2.drop(cate_col_df2[cate_col_df2[\"type\"].isnull() & cate_col_df2[\"orbit\"].isnull()].index)\n",
    "cate_col_df2 = cate_col_df2.drop(cate_col_df2[cate_col_df2[\"mass\"].isnull() & cate_col_df2[\"orbit\"].isnull()].index)\n",
    "\n",
    "# raise NotImplementedError()"
   ]
  },
  {
   "cell_type": "code",
   "execution_count": 60,
   "metadata": {},
   "outputs": [
    {
     "name": "stdout",
     "output_type": "stream",
     "text": [
      "<class 'pandas.core.frame.DataFrame'>\n",
      "Int64Index: 115 entries, 18 to 151\n",
      "Data columns (total 13 columns):\n",
      " #   Column            Non-Null Count  Dtype  \n",
      "---  ------            --------------  -----  \n",
      " 0   launch_name       115 non-null    object \n",
      " 1   rocket_name       115 non-null    object \n",
      " 2   launchpad_name    115 non-null    object \n",
      " 3   launchpad_region  115 non-null    object \n",
      " 4   launchpad_geo     115 non-null    object \n",
      " 5   landpad_name      115 non-null    object \n",
      " 6   landpad_type      115 non-null    object \n",
      " 7   landpad_region    115 non-null    object \n",
      " 8   landpad_geo       115 non-null    object \n",
      " 9   outcome           115 non-null    object \n",
      " 10  type              115 non-null    object \n",
      " 11  mass              107 non-null    float64\n",
      " 12  orbit             115 non-null    object \n",
      "dtypes: float64(1), object(12)\n",
      "memory usage: 12.6+ KB\n"
     ]
    }
   ],
   "source": [
    "cate_col_df2.info()"
   ]
  },
  {
   "cell_type": "markdown",
   "metadata": {},
   "source": [
    "- Step 02: Filling missing values for `cate_col_df2` by dropping `None` values from mass attributes. For more convenience, you should save these rows which have `None` mass values to file named as `unknow_mass_spaceX_launch.csv`"
   ]
  },
  {
   "cell_type": "code",
   "execution_count": 61,
   "metadata": {},
   "outputs": [],
   "source": [
    "# YOUR CODE HERE\n",
    "drop_idx = cate_col_df2[cate_col_df2[\"mass\"].isna()]\n",
    "# cate_col_df2[\"mass\"] = cate_col_df2[\"mass\"].astype(int)\n",
    "# raise NotImplementedError()"
   ]
  },
  {
   "cell_type": "code",
   "execution_count": 62,
   "metadata": {},
   "outputs": [
    {
     "data": {
      "text/html": [
       "<div>\n",
       "<style scoped>\n",
       "    .dataframe tbody tr th:only-of-type {\n",
       "        vertical-align: middle;\n",
       "    }\n",
       "\n",
       "    .dataframe tbody tr th {\n",
       "        vertical-align: top;\n",
       "    }\n",
       "\n",
       "    .dataframe thead th {\n",
       "        text-align: right;\n",
       "    }\n",
       "</style>\n",
       "<table border=\"1\" class=\"dataframe\">\n",
       "  <thead>\n",
       "    <tr style=\"text-align: right;\">\n",
       "      <th></th>\n",
       "      <th>launch_name</th>\n",
       "      <th>rocket_name</th>\n",
       "      <th>launchpad_name</th>\n",
       "      <th>launchpad_region</th>\n",
       "      <th>launchpad_geo</th>\n",
       "      <th>landpad_name</th>\n",
       "      <th>landpad_type</th>\n",
       "      <th>landpad_region</th>\n",
       "      <th>landpad_geo</th>\n",
       "      <th>outcome</th>\n",
       "      <th>type</th>\n",
       "      <th>mass</th>\n",
       "      <th>orbit</th>\n",
       "    </tr>\n",
       "  </thead>\n",
       "  <tbody>\n",
       "    <tr>\n",
       "      <th>27</th>\n",
       "      <td>CRS-8</td>\n",
       "      <td>Falcon 9</td>\n",
       "      <td>CCSFS SLC 40</td>\n",
       "      <td>Florida</td>\n",
       "      <td>(28.5618571, -80.577366)</td>\n",
       "      <td>OCISLY</td>\n",
       "      <td>ASDS</td>\n",
       "      <td>California</td>\n",
       "      <td>(33.7291858, -118.262015)</td>\n",
       "      <td>Success</td>\n",
       "      <td>Satellite</td>\n",
       "      <td>NaN</td>\n",
       "      <td>LEO</td>\n",
       "    </tr>\n",
       "    <tr>\n",
       "      <th>86</th>\n",
       "      <td>Starlink-2</td>\n",
       "      <td>Falcon 9</td>\n",
       "      <td>CCSFS SLC 40</td>\n",
       "      <td>Florida</td>\n",
       "      <td>(28.5618571, -80.577366)</td>\n",
       "      <td>OCISLY</td>\n",
       "      <td>ASDS</td>\n",
       "      <td>California</td>\n",
       "      <td>(33.7291858, -118.262015)</td>\n",
       "      <td>Success</td>\n",
       "      <td>Crew Dragon</td>\n",
       "      <td>NaN</td>\n",
       "      <td>ISS</td>\n",
       "    </tr>\n",
       "    <tr>\n",
       "      <th>95</th>\n",
       "      <td>Starlink-8 &amp; SkySat 16-18</td>\n",
       "      <td>Falcon 9</td>\n",
       "      <td>CCSFS SLC 40</td>\n",
       "      <td>Florida</td>\n",
       "      <td>(28.5618571, -80.577366)</td>\n",
       "      <td>OCISLY</td>\n",
       "      <td>ASDS</td>\n",
       "      <td>California</td>\n",
       "      <td>(33.7291858, -118.262015)</td>\n",
       "      <td>Success</td>\n",
       "      <td>Satellite</td>\n",
       "      <td>NaN</td>\n",
       "      <td>SSO</td>\n",
       "    </tr>\n",
       "    <tr>\n",
       "      <th>108</th>\n",
       "      <td>Starlink-15 (v1.0)</td>\n",
       "      <td>Falcon 9</td>\n",
       "      <td>CCSFS SLC 40</td>\n",
       "      <td>Florida</td>\n",
       "      <td>(28.5618571, -80.577366)</td>\n",
       "      <td>OCISLY</td>\n",
       "      <td>ASDS</td>\n",
       "      <td>California</td>\n",
       "      <td>(33.7291858, -118.262015)</td>\n",
       "      <td>Success</td>\n",
       "      <td>Satellite</td>\n",
       "      <td>NaN</td>\n",
       "      <td>LEO</td>\n",
       "    </tr>\n",
       "    <tr>\n",
       "      <th>111</th>\n",
       "      <td>NROL-108</td>\n",
       "      <td>Falcon 9</td>\n",
       "      <td>KSC LC 39A</td>\n",
       "      <td>Florida</td>\n",
       "      <td>(28.6080585, -80.6039558)</td>\n",
       "      <td>LZ-1</td>\n",
       "      <td>RTLS</td>\n",
       "      <td>Florida</td>\n",
       "      <td>(28.485833, -80.544444)</td>\n",
       "      <td>Success</td>\n",
       "      <td>Satellite</td>\n",
       "      <td>NaN</td>\n",
       "      <td>LEO</td>\n",
       "    </tr>\n",
       "    <tr>\n",
       "      <th>128</th>\n",
       "      <td>CRS-22 &amp; IROSA</td>\n",
       "      <td>Falcon 9</td>\n",
       "      <td>KSC LC 39A</td>\n",
       "      <td>Florida</td>\n",
       "      <td>(28.6080585, -80.6039558)</td>\n",
       "      <td>OCISLY</td>\n",
       "      <td>ASDS</td>\n",
       "      <td>California</td>\n",
       "      <td>(33.7291858, -118.262015)</td>\n",
       "      <td>Success</td>\n",
       "      <td>Satellite</td>\n",
       "      <td>NaN</td>\n",
       "      <td>SSO</td>\n",
       "    </tr>\n",
       "    <tr>\n",
       "      <th>136</th>\n",
       "      <td>Starlink 4-1 (v1.5)</td>\n",
       "      <td>Falcon 9</td>\n",
       "      <td>CCSFS SLC 40</td>\n",
       "      <td>Florida</td>\n",
       "      <td>(28.5618571, -80.577366)</td>\n",
       "      <td>JRTI</td>\n",
       "      <td>ASDS</td>\n",
       "      <td>Florida</td>\n",
       "      <td>(28.4104, -80.6188)</td>\n",
       "      <td>Success</td>\n",
       "      <td>Dragon 2.0</td>\n",
       "      <td>NaN</td>\n",
       "      <td>ISS</td>\n",
       "    </tr>\n",
       "    <tr>\n",
       "      <th>151</th>\n",
       "      <td>Starlink 4-9 (v1.5)</td>\n",
       "      <td>Falcon 9</td>\n",
       "      <td>KSC LC 39A</td>\n",
       "      <td>Florida</td>\n",
       "      <td>(28.6080585, -80.6039558)</td>\n",
       "      <td>JRTI</td>\n",
       "      <td>ASDS</td>\n",
       "      <td>Florida</td>\n",
       "      <td>(28.4104, -80.6188)</td>\n",
       "      <td>Success</td>\n",
       "      <td>Crew Dragon</td>\n",
       "      <td>NaN</td>\n",
       "      <td>ISS</td>\n",
       "    </tr>\n",
       "  </tbody>\n",
       "</table>\n",
       "</div>"
      ],
      "text/plain": [
       "                   launch_name rocket_name launchpad_name launchpad_region  \\\n",
       "27                       CRS-8    Falcon 9   CCSFS SLC 40          Florida   \n",
       "86                  Starlink-2    Falcon 9   CCSFS SLC 40          Florida   \n",
       "95   Starlink-8 & SkySat 16-18    Falcon 9   CCSFS SLC 40          Florida   \n",
       "108         Starlink-15 (v1.0)    Falcon 9   CCSFS SLC 40          Florida   \n",
       "111                   NROL-108    Falcon 9     KSC LC 39A          Florida   \n",
       "128             CRS-22 & IROSA    Falcon 9     KSC LC 39A          Florida   \n",
       "136        Starlink 4-1 (v1.5)    Falcon 9   CCSFS SLC 40          Florida   \n",
       "151        Starlink 4-9 (v1.5)    Falcon 9     KSC LC 39A          Florida   \n",
       "\n",
       "                 launchpad_geo landpad_name landpad_type landpad_region  \\\n",
       "27    (28.5618571, -80.577366)       OCISLY         ASDS     California   \n",
       "86    (28.5618571, -80.577366)       OCISLY         ASDS     California   \n",
       "95    (28.5618571, -80.577366)       OCISLY         ASDS     California   \n",
       "108   (28.5618571, -80.577366)       OCISLY         ASDS     California   \n",
       "111  (28.6080585, -80.6039558)         LZ-1         RTLS        Florida   \n",
       "128  (28.6080585, -80.6039558)       OCISLY         ASDS     California   \n",
       "136   (28.5618571, -80.577366)         JRTI         ASDS        Florida   \n",
       "151  (28.6080585, -80.6039558)         JRTI         ASDS        Florida   \n",
       "\n",
       "                   landpad_geo  outcome         type  mass orbit  \n",
       "27   (33.7291858, -118.262015)  Success    Satellite   NaN   LEO  \n",
       "86   (33.7291858, -118.262015)  Success  Crew Dragon   NaN   ISS  \n",
       "95   (33.7291858, -118.262015)  Success    Satellite   NaN   SSO  \n",
       "108  (33.7291858, -118.262015)  Success    Satellite   NaN   LEO  \n",
       "111    (28.485833, -80.544444)  Success    Satellite   NaN   LEO  \n",
       "128  (33.7291858, -118.262015)  Success    Satellite   NaN   SSO  \n",
       "136        (28.4104, -80.6188)  Success   Dragon 2.0   NaN   ISS  \n",
       "151        (28.4104, -80.6188)  Success  Crew Dragon   NaN   ISS  "
      ]
     },
     "execution_count": 62,
     "metadata": {},
     "output_type": "execute_result"
    }
   ],
   "source": [
    "drop_idx"
   ]
  },
  {
   "cell_type": "code",
   "execution_count": 63,
   "metadata": {},
   "outputs": [],
   "source": [
    "cate_col_df2[cate_col_df2[\"mass\"].isnull()].to_csv(\"./data/unknow_mass_spaceX_launch.csv\", index=False)"
   ]
  },
  {
   "cell_type": "code",
   "execution_count": 64,
   "metadata": {},
   "outputs": [],
   "source": [
    "# cate_col_df2 = cate_col_df2.drop(drop_idx), inplace=True)\n",
    "cate_col_df2 = cate_col_df2.dropna(subset=['mass'])\n",
    "cate_col_df2['mass'] = cate_col_df2['mass'].astype(int)\n",
    "cate_col_df2['mass'] = cate_col_df2['mass'].astype(str)"
   ]
  },
  {
   "cell_type": "code",
   "execution_count": 65,
   "metadata": {},
   "outputs": [
    {
     "data": {
      "text/html": [
       "<div>\n",
       "<style scoped>\n",
       "    .dataframe tbody tr th:only-of-type {\n",
       "        vertical-align: middle;\n",
       "    }\n",
       "\n",
       "    .dataframe tbody tr th {\n",
       "        vertical-align: top;\n",
       "    }\n",
       "\n",
       "    .dataframe thead th {\n",
       "        text-align: right;\n",
       "    }\n",
       "</style>\n",
       "<table border=\"1\" class=\"dataframe\">\n",
       "  <thead>\n",
       "    <tr style=\"text-align: right;\">\n",
       "      <th></th>\n",
       "      <th>launch_name</th>\n",
       "      <th>rocket_name</th>\n",
       "      <th>launchpad_name</th>\n",
       "      <th>launchpad_region</th>\n",
       "      <th>launchpad_geo</th>\n",
       "      <th>landpad_name</th>\n",
       "      <th>landpad_type</th>\n",
       "      <th>landpad_region</th>\n",
       "      <th>landpad_geo</th>\n",
       "      <th>outcome</th>\n",
       "      <th>type</th>\n",
       "      <th>mass</th>\n",
       "      <th>orbit</th>\n",
       "    </tr>\n",
       "  </thead>\n",
       "  <tbody>\n",
       "    <tr>\n",
       "      <th>missing_ratio</th>\n",
       "      <td>0.0</td>\n",
       "      <td>0.0</td>\n",
       "      <td>0.0</td>\n",
       "      <td>0.0</td>\n",
       "      <td>0.0</td>\n",
       "      <td>0.0</td>\n",
       "      <td>0.0</td>\n",
       "      <td>0.0</td>\n",
       "      <td>0.0</td>\n",
       "      <td>0.0</td>\n",
       "      <td>0.0</td>\n",
       "      <td>0.0</td>\n",
       "      <td>0.0</td>\n",
       "    </tr>\n",
       "    <tr>\n",
       "      <th>num_values</th>\n",
       "      <td>107</td>\n",
       "      <td>2</td>\n",
       "      <td>3</td>\n",
       "      <td>2</td>\n",
       "      <td>3</td>\n",
       "      <td>6</td>\n",
       "      <td>2</td>\n",
       "      <td>2</td>\n",
       "      <td>4</td>\n",
       "      <td>2</td>\n",
       "      <td>4</td>\n",
       "      <td>74</td>\n",
       "      <td>11</td>\n",
       "    </tr>\n",
       "    <tr>\n",
       "      <th>value_ratios</th>\n",
       "      <td>{'CRS-5': 0.9, 'Crew-2': 0.9, 'Starlink-22 (v1.0)': 0.9, 'Starlink-21 (v1.0)': 0.9, 'Starlink-20...</td>\n",
       "      <td>{'Falcon 9': 97.2, 'Falcon Heavy': 2.8}</td>\n",
       "      <td>{'CCSFS SLC 40': 50.5, 'KSC LC 39A': 34.6, 'VAFB SLC 4E': 15.0}</td>\n",
       "      <td>{'Florida': 85.0, 'California': 15.0}</td>\n",
       "      <td>{'(28.5618571, -80.577366)': 50.5, '(28.6080585, -80.6039558)': 34.6, '(34.632093, -120.610829)'...</td>\n",
       "      <td>{'OCISLY': 49.5, 'JRTI': 22.4, 'LZ-1': 15.0, 'ASOG': 7.5, 'LZ-4': 3.7, 'JRTI-1': 1.9}</td>\n",
       "      <td>{'ASDS': 81.3, 'RTLS': 18.7}</td>\n",
       "      <td>{'California': 53.3, 'Florida': 46.7}</td>\n",
       "      <td>{'(33.7291858, -118.262015)': 57.0, '(28.4104, -80.6188)': 24.3, '(28.485833, -80.544444)': 15.0...</td>\n",
       "      <td>{'Success': 98.1, 'Failure': 1.9}</td>\n",
       "      <td>{'Satellite': 86.0, 'Dragon 1.1': 4.7, 'Crew Dragon': 4.7, 'Dragon 2.0': 4.7}</td>\n",
       "      <td>{'15600': 15.9, '13260': 11.2, '3681': 1.9, '9600': 1.9, '2200': 1.9, '14760': 1.9, '3500': 1.9,...</td>\n",
       "      <td>{'VLEO': 45.8, 'GTO': 13.1, 'ISS': 13.1, 'SSO': 8.4, 'PO': 5.6, 'LEO': 5.6, 'MEO': 3.7, 'TLI': 1...</td>\n",
       "    </tr>\n",
       "  </tbody>\n",
       "</table>\n",
       "</div>"
      ],
      "text/plain": [
       "                                                                                                       launch_name  \\\n",
       "missing_ratio                                                                                                  0.0   \n",
       "num_values                                                                                                     107   \n",
       "value_ratios   {'CRS-5': 0.9, 'Crew-2': 0.9, 'Starlink-22 (v1.0)': 0.9, 'Starlink-21 (v1.0)': 0.9, 'Starlink-20...   \n",
       "\n",
       "                                           rocket_name  \\\n",
       "missing_ratio                                      0.0   \n",
       "num_values                                           2   \n",
       "value_ratios   {'Falcon 9': 97.2, 'Falcon Heavy': 2.8}   \n",
       "\n",
       "                                                                launchpad_name  \\\n",
       "missing_ratio                                                              0.0   \n",
       "num_values                                                                   3   \n",
       "value_ratios   {'CCSFS SLC 40': 50.5, 'KSC LC 39A': 34.6, 'VAFB SLC 4E': 15.0}   \n",
       "\n",
       "                                    launchpad_region  \\\n",
       "missing_ratio                                    0.0   \n",
       "num_values                                         2   \n",
       "value_ratios   {'Florida': 85.0, 'California': 15.0}   \n",
       "\n",
       "                                                                                                     launchpad_geo  \\\n",
       "missing_ratio                                                                                                  0.0   \n",
       "num_values                                                                                                       3   \n",
       "value_ratios   {'(28.5618571, -80.577366)': 50.5, '(28.6080585, -80.6039558)': 34.6, '(34.632093, -120.610829)'...   \n",
       "\n",
       "                                                                                        landpad_name  \\\n",
       "missing_ratio                                                                                    0.0   \n",
       "num_values                                                                                         6   \n",
       "value_ratios   {'OCISLY': 49.5, 'JRTI': 22.4, 'LZ-1': 15.0, 'ASOG': 7.5, 'LZ-4': 3.7, 'JRTI-1': 1.9}   \n",
       "\n",
       "                               landpad_type  \\\n",
       "missing_ratio                           0.0   \n",
       "num_values                                2   \n",
       "value_ratios   {'ASDS': 81.3, 'RTLS': 18.7}   \n",
       "\n",
       "                                      landpad_region  \\\n",
       "missing_ratio                                    0.0   \n",
       "num_values                                         2   \n",
       "value_ratios   {'California': 53.3, 'Florida': 46.7}   \n",
       "\n",
       "                                                                                                       landpad_geo  \\\n",
       "missing_ratio                                                                                                  0.0   \n",
       "num_values                                                                                                       4   \n",
       "value_ratios   {'(33.7291858, -118.262015)': 57.0, '(28.4104, -80.6188)': 24.3, '(28.485833, -80.544444)': 15.0...   \n",
       "\n",
       "                                         outcome  \\\n",
       "missing_ratio                                0.0   \n",
       "num_values                                     2   \n",
       "value_ratios   {'Success': 98.1, 'Failure': 1.9}   \n",
       "\n",
       "                                                                                        type  \\\n",
       "missing_ratio                                                                            0.0   \n",
       "num_values                                                                                 4   \n",
       "value_ratios   {'Satellite': 86.0, 'Dragon 1.1': 4.7, 'Crew Dragon': 4.7, 'Dragon 2.0': 4.7}   \n",
       "\n",
       "                                                                                                              mass  \\\n",
       "missing_ratio                                                                                                  0.0   \n",
       "num_values                                                                                                      74   \n",
       "value_ratios   {'15600': 15.9, '13260': 11.2, '3681': 1.9, '9600': 1.9, '2200': 1.9, '14760': 1.9, '3500': 1.9,...   \n",
       "\n",
       "                                                                                                             orbit  \n",
       "missing_ratio                                                                                                  0.0  \n",
       "num_values                                                                                                      11  \n",
       "value_ratios   {'VLEO': 45.8, 'GTO': 13.1, 'ISS': 13.1, 'SSO': 8.4, 'PO': 5.6, 'LEO': 5.6, 'MEO': 3.7, 'TLI': 1...  "
      ]
     },
     "execution_count": 65,
     "metadata": {},
     "output_type": "execute_result"
    }
   ],
   "source": [
    "cat_col_info_df2 =  cate_col_df2.select_dtypes(include=['object']).agg([missing_ratio, num_values, value_ratios])\n",
    "cat_col_info_df2 "
   ]
  },
  {
   "cell_type": "code",
   "execution_count": 66,
   "metadata": {},
   "outputs": [],
   "source": [
    "# TEST\n",
    "cat_col_info_df2 = cate_col_df2.select_dtypes(include=['object']).agg([missing_ratio, num_values, value_ratios])\n",
    "\n",
    "c = cat_col_info_df2['type']\n",
    "assert adler32(str(c.loc['missing_ratio']).encode()) == 18808975\n",
    "assert adler32(str(c.loc['num_values']).encode()) == 3473461\n",
    "assert adler32(str(c.loc['value_ratios']['Satellite']).encode()) == 34734285\n",
    "\n",
    "c = cat_col_info_df2['mass']\n",
    "assert adler32(str(c.loc['missing_ratio']).encode()) == 18808975\n",
    "assert adler32(str(c.loc['num_values']).encode()) == 10748012\n",
    "assert adler32(str(c.loc['value_ratios']['9600']).encode()) == 19595417\n",
    "\n",
    "c = cat_col_info_df2['orbit']\n",
    "assert adler32(str(c.loc['missing_ratio']).encode()) == 18808975\n",
    "assert adler32(str(c.loc['num_values']).encode()) == 9764963\n",
    "assert adler32(str(c.loc['value_ratios']['LEO']).encode()) ==  20185242"
   ]
  },
  {
   "cell_type": "markdown",
   "metadata": {},
   "source": [
    "- Step 03: Apply for `raw_df`"
   ]
  },
  {
   "cell_type": "code",
   "execution_count": 67,
   "metadata": {},
   "outputs": [
    {
     "data": {
      "text/html": [
       "<div>\n",
       "<style scoped>\n",
       "    .dataframe tbody tr th:only-of-type {\n",
       "        vertical-align: middle;\n",
       "    }\n",
       "\n",
       "    .dataframe tbody tr th {\n",
       "        vertical-align: top;\n",
       "    }\n",
       "\n",
       "    .dataframe thead th {\n",
       "        text-align: right;\n",
       "    }\n",
       "</style>\n",
       "<table border=\"1\" class=\"dataframe\">\n",
       "  <thead>\n",
       "    <tr style=\"text-align: right;\">\n",
       "      <th></th>\n",
       "      <th>uct_time</th>\n",
       "      <th>launch_name</th>\n",
       "      <th>rocket_name</th>\n",
       "      <th>rocket_boosters</th>\n",
       "      <th>rocket_height</th>\n",
       "      <th>rocket_diameter</th>\n",
       "      <th>rocket_mass</th>\n",
       "      <th>launchpad_name</th>\n",
       "      <th>launchpad_region</th>\n",
       "      <th>launchpad_geo</th>\n",
       "      <th>landpad_name</th>\n",
       "      <th>landpad_type</th>\n",
       "      <th>landpad_region</th>\n",
       "      <th>landpad_geo</th>\n",
       "      <th>outcome</th>\n",
       "      <th>type</th>\n",
       "      <th>mass</th>\n",
       "      <th>orbit</th>\n",
       "    </tr>\n",
       "  </thead>\n",
       "  <tbody>\n",
       "    <tr>\n",
       "      <th>18</th>\n",
       "      <td>2015-01-10 09:47:00+00:00</td>\n",
       "      <td>CRS-5</td>\n",
       "      <td>Falcon 9</td>\n",
       "      <td>0</td>\n",
       "      <td>70.0</td>\n",
       "      <td>3.7</td>\n",
       "      <td>549054.000000</td>\n",
       "      <td>CCSFS SLC 40</td>\n",
       "      <td>Florida</td>\n",
       "      <td>(28.5618571, -80.577366)</td>\n",
       "      <td>JRTI-1</td>\n",
       "      <td>ASDS</td>\n",
       "      <td>Florida</td>\n",
       "      <td>(28.4104, -80.6188)</td>\n",
       "      <td>Success</td>\n",
       "      <td>Satellite</td>\n",
       "      <td>3669.0</td>\n",
       "      <td>GTO</td>\n",
       "    </tr>\n",
       "    <tr>\n",
       "      <th>21</th>\n",
       "      <td>2015-04-14 20:10:00+00:00</td>\n",
       "      <td>CRS-6</td>\n",
       "      <td>Falcon 9</td>\n",
       "      <td>0</td>\n",
       "      <td>70.0</td>\n",
       "      <td>3.7</td>\n",
       "      <td>549054.000000</td>\n",
       "      <td>CCSFS SLC 40</td>\n",
       "      <td>Florida</td>\n",
       "      <td>(28.5618571, -80.577366)</td>\n",
       "      <td>JRTI-1</td>\n",
       "      <td>ASDS</td>\n",
       "      <td>Florida</td>\n",
       "      <td>(28.4104, -80.6188)</td>\n",
       "      <td>Success</td>\n",
       "      <td>Satellite</td>\n",
       "      <td>5875.0</td>\n",
       "      <td>SSO</td>\n",
       "    </tr>\n",
       "    <tr>\n",
       "      <th>23</th>\n",
       "      <td>2015-06-28 14:21:00+00:00</td>\n",
       "      <td>CRS-7</td>\n",
       "      <td>Falcon 9</td>\n",
       "      <td>0</td>\n",
       "      <td>70.0</td>\n",
       "      <td>3.7</td>\n",
       "      <td>556404.541667</td>\n",
       "      <td>CCSFS SLC 40</td>\n",
       "      <td>Florida</td>\n",
       "      <td>(28.5618571, -80.577366)</td>\n",
       "      <td>OCISLY</td>\n",
       "      <td>ASDS</td>\n",
       "      <td>California</td>\n",
       "      <td>(33.7291858, -118.262015)</td>\n",
       "      <td>Failure</td>\n",
       "      <td>Satellite</td>\n",
       "      <td>9600.0</td>\n",
       "      <td>PO</td>\n",
       "    </tr>\n",
       "    <tr>\n",
       "      <th>24</th>\n",
       "      <td>2015-12-22 01:29:00+00:00</td>\n",
       "      <td>OG-2 Mission 2</td>\n",
       "      <td>Falcon 9</td>\n",
       "      <td>0</td>\n",
       "      <td>70.0</td>\n",
       "      <td>3.7</td>\n",
       "      <td>549054.000000</td>\n",
       "      <td>CCSFS SLC 40</td>\n",
       "      <td>Florida</td>\n",
       "      <td>(28.5618571, -80.577366)</td>\n",
       "      <td>LZ-1</td>\n",
       "      <td>RTLS</td>\n",
       "      <td>Florida</td>\n",
       "      <td>(28.485833, -80.544444)</td>\n",
       "      <td>Success</td>\n",
       "      <td>Satellite</td>\n",
       "      <td>5200.0</td>\n",
       "      <td>GTO</td>\n",
       "    </tr>\n",
       "    <tr>\n",
       "      <th>25</th>\n",
       "      <td>2016-01-17 15:42:00+00:00</td>\n",
       "      <td>Jason 3</td>\n",
       "      <td>Falcon 9</td>\n",
       "      <td>0</td>\n",
       "      <td>70.0</td>\n",
       "      <td>3.7</td>\n",
       "      <td>549054.000000</td>\n",
       "      <td>VAFB SLC 4E</td>\n",
       "      <td>California</td>\n",
       "      <td>(34.632093, -120.610829)</td>\n",
       "      <td>JRTI</td>\n",
       "      <td>ASDS</td>\n",
       "      <td>Florida</td>\n",
       "      <td>(28.4104, -80.6188)</td>\n",
       "      <td>Success</td>\n",
       "      <td>Satellite</td>\n",
       "      <td>3700.0</td>\n",
       "      <td>GTO</td>\n",
       "    </tr>\n",
       "  </tbody>\n",
       "</table>\n",
       "</div>"
      ],
      "text/plain": [
       "                    uct_time     launch_name rocket_name  rocket_boosters  \\\n",
       "18 2015-01-10 09:47:00+00:00           CRS-5    Falcon 9                0   \n",
       "21 2015-04-14 20:10:00+00:00           CRS-6    Falcon 9                0   \n",
       "23 2015-06-28 14:21:00+00:00           CRS-7    Falcon 9                0   \n",
       "24 2015-12-22 01:29:00+00:00  OG-2 Mission 2    Falcon 9                0   \n",
       "25 2016-01-17 15:42:00+00:00         Jason 3    Falcon 9                0   \n",
       "\n",
       "    rocket_height  rocket_diameter    rocket_mass launchpad_name  \\\n",
       "18           70.0              3.7  549054.000000   CCSFS SLC 40   \n",
       "21           70.0              3.7  549054.000000   CCSFS SLC 40   \n",
       "23           70.0              3.7  556404.541667   CCSFS SLC 40   \n",
       "24           70.0              3.7  549054.000000   CCSFS SLC 40   \n",
       "25           70.0              3.7  549054.000000    VAFB SLC 4E   \n",
       "\n",
       "   launchpad_region             launchpad_geo landpad_name landpad_type  \\\n",
       "18          Florida  (28.5618571, -80.577366)       JRTI-1         ASDS   \n",
       "21          Florida  (28.5618571, -80.577366)       JRTI-1         ASDS   \n",
       "23          Florida  (28.5618571, -80.577366)       OCISLY         ASDS   \n",
       "24          Florida  (28.5618571, -80.577366)         LZ-1         RTLS   \n",
       "25       California  (34.632093, -120.610829)         JRTI         ASDS   \n",
       "\n",
       "   landpad_region                landpad_geo  outcome       type    mass orbit  \n",
       "18        Florida        (28.4104, -80.6188)  Success  Satellite  3669.0   GTO  \n",
       "21        Florida        (28.4104, -80.6188)  Success  Satellite  5875.0   SSO  \n",
       "23     California  (33.7291858, -118.262015)  Failure  Satellite  9600.0    PO  \n",
       "24        Florida    (28.485833, -80.544444)  Success  Satellite  5200.0   GTO  \n",
       "25        Florida        (28.4104, -80.6188)  Success  Satellite  3700.0   GTO  "
      ]
     },
     "execution_count": 67,
     "metadata": {},
     "output_type": "execute_result"
    }
   ],
   "source": [
    "# Step 01: unpack `payloads`\n",
    "# YOUR CODE HERE\n",
    "raw_df = raw_df.join(pd.DataFrame(cate_col_df['payloads'].tolist())).drop('payloads', axis=1)  \n",
    "raw_df.head()\n",
    "# raise NotImplementedError()"
   ]
  },
  {
   "cell_type": "code",
   "execution_count": 68,
   "metadata": {},
   "outputs": [
    {
     "data": {
      "text/html": [
       "<div>\n",
       "<style scoped>\n",
       "    .dataframe tbody tr th:only-of-type {\n",
       "        vertical-align: middle;\n",
       "    }\n",
       "\n",
       "    .dataframe tbody tr th {\n",
       "        vertical-align: top;\n",
       "    }\n",
       "\n",
       "    .dataframe thead th {\n",
       "        text-align: right;\n",
       "    }\n",
       "</style>\n",
       "<table border=\"1\" class=\"dataframe\">\n",
       "  <thead>\n",
       "    <tr style=\"text-align: right;\">\n",
       "      <th></th>\n",
       "      <th>uct_time</th>\n",
       "      <th>launch_name</th>\n",
       "      <th>rocket_name</th>\n",
       "      <th>rocket_boosters</th>\n",
       "      <th>rocket_height</th>\n",
       "      <th>rocket_diameter</th>\n",
       "      <th>rocket_mass</th>\n",
       "      <th>launchpad_name</th>\n",
       "      <th>launchpad_region</th>\n",
       "      <th>launchpad_geo</th>\n",
       "      <th>landpad_name</th>\n",
       "      <th>landpad_type</th>\n",
       "      <th>landpad_region</th>\n",
       "      <th>landpad_geo</th>\n",
       "      <th>outcome</th>\n",
       "      <th>payloads_type</th>\n",
       "      <th>payloads_mass</th>\n",
       "      <th>payloads_orbit</th>\n",
       "    </tr>\n",
       "  </thead>\n",
       "  <tbody>\n",
       "    <tr>\n",
       "      <th>18</th>\n",
       "      <td>2015-01-10 09:47:00+00:00</td>\n",
       "      <td>CRS-5</td>\n",
       "      <td>Falcon 9</td>\n",
       "      <td>0</td>\n",
       "      <td>70.0</td>\n",
       "      <td>3.7</td>\n",
       "      <td>549054.000000</td>\n",
       "      <td>CCSFS SLC 40</td>\n",
       "      <td>Florida</td>\n",
       "      <td>(28.5618571, -80.577366)</td>\n",
       "      <td>JRTI-1</td>\n",
       "      <td>ASDS</td>\n",
       "      <td>Florida</td>\n",
       "      <td>(28.4104, -80.6188)</td>\n",
       "      <td>Success</td>\n",
       "      <td>Satellite</td>\n",
       "      <td>3669.0</td>\n",
       "      <td>GTO</td>\n",
       "    </tr>\n",
       "    <tr>\n",
       "      <th>21</th>\n",
       "      <td>2015-04-14 20:10:00+00:00</td>\n",
       "      <td>CRS-6</td>\n",
       "      <td>Falcon 9</td>\n",
       "      <td>0</td>\n",
       "      <td>70.0</td>\n",
       "      <td>3.7</td>\n",
       "      <td>549054.000000</td>\n",
       "      <td>CCSFS SLC 40</td>\n",
       "      <td>Florida</td>\n",
       "      <td>(28.5618571, -80.577366)</td>\n",
       "      <td>JRTI-1</td>\n",
       "      <td>ASDS</td>\n",
       "      <td>Florida</td>\n",
       "      <td>(28.4104, -80.6188)</td>\n",
       "      <td>Success</td>\n",
       "      <td>Satellite</td>\n",
       "      <td>5875.0</td>\n",
       "      <td>SSO</td>\n",
       "    </tr>\n",
       "    <tr>\n",
       "      <th>23</th>\n",
       "      <td>2015-06-28 14:21:00+00:00</td>\n",
       "      <td>CRS-7</td>\n",
       "      <td>Falcon 9</td>\n",
       "      <td>0</td>\n",
       "      <td>70.0</td>\n",
       "      <td>3.7</td>\n",
       "      <td>556404.541667</td>\n",
       "      <td>CCSFS SLC 40</td>\n",
       "      <td>Florida</td>\n",
       "      <td>(28.5618571, -80.577366)</td>\n",
       "      <td>OCISLY</td>\n",
       "      <td>ASDS</td>\n",
       "      <td>California</td>\n",
       "      <td>(33.7291858, -118.262015)</td>\n",
       "      <td>Failure</td>\n",
       "      <td>Satellite</td>\n",
       "      <td>9600.0</td>\n",
       "      <td>PO</td>\n",
       "    </tr>\n",
       "    <tr>\n",
       "      <th>24</th>\n",
       "      <td>2015-12-22 01:29:00+00:00</td>\n",
       "      <td>OG-2 Mission 2</td>\n",
       "      <td>Falcon 9</td>\n",
       "      <td>0</td>\n",
       "      <td>70.0</td>\n",
       "      <td>3.7</td>\n",
       "      <td>549054.000000</td>\n",
       "      <td>CCSFS SLC 40</td>\n",
       "      <td>Florida</td>\n",
       "      <td>(28.5618571, -80.577366)</td>\n",
       "      <td>LZ-1</td>\n",
       "      <td>RTLS</td>\n",
       "      <td>Florida</td>\n",
       "      <td>(28.485833, -80.544444)</td>\n",
       "      <td>Success</td>\n",
       "      <td>Satellite</td>\n",
       "      <td>5200.0</td>\n",
       "      <td>GTO</td>\n",
       "    </tr>\n",
       "    <tr>\n",
       "      <th>25</th>\n",
       "      <td>2016-01-17 15:42:00+00:00</td>\n",
       "      <td>Jason 3</td>\n",
       "      <td>Falcon 9</td>\n",
       "      <td>0</td>\n",
       "      <td>70.0</td>\n",
       "      <td>3.7</td>\n",
       "      <td>549054.000000</td>\n",
       "      <td>VAFB SLC 4E</td>\n",
       "      <td>California</td>\n",
       "      <td>(34.632093, -120.610829)</td>\n",
       "      <td>JRTI</td>\n",
       "      <td>ASDS</td>\n",
       "      <td>Florida</td>\n",
       "      <td>(28.4104, -80.6188)</td>\n",
       "      <td>Success</td>\n",
       "      <td>Satellite</td>\n",
       "      <td>3700.0</td>\n",
       "      <td>GTO</td>\n",
       "    </tr>\n",
       "  </tbody>\n",
       "</table>\n",
       "</div>"
      ],
      "text/plain": [
       "                    uct_time     launch_name rocket_name  rocket_boosters  \\\n",
       "18 2015-01-10 09:47:00+00:00           CRS-5    Falcon 9                0   \n",
       "21 2015-04-14 20:10:00+00:00           CRS-6    Falcon 9                0   \n",
       "23 2015-06-28 14:21:00+00:00           CRS-7    Falcon 9                0   \n",
       "24 2015-12-22 01:29:00+00:00  OG-2 Mission 2    Falcon 9                0   \n",
       "25 2016-01-17 15:42:00+00:00         Jason 3    Falcon 9                0   \n",
       "\n",
       "    rocket_height  rocket_diameter    rocket_mass launchpad_name  \\\n",
       "18           70.0              3.7  549054.000000   CCSFS SLC 40   \n",
       "21           70.0              3.7  549054.000000   CCSFS SLC 40   \n",
       "23           70.0              3.7  556404.541667   CCSFS SLC 40   \n",
       "24           70.0              3.7  549054.000000   CCSFS SLC 40   \n",
       "25           70.0              3.7  549054.000000    VAFB SLC 4E   \n",
       "\n",
       "   launchpad_region             launchpad_geo landpad_name landpad_type  \\\n",
       "18          Florida  (28.5618571, -80.577366)       JRTI-1         ASDS   \n",
       "21          Florida  (28.5618571, -80.577366)       JRTI-1         ASDS   \n",
       "23          Florida  (28.5618571, -80.577366)       OCISLY         ASDS   \n",
       "24          Florida  (28.5618571, -80.577366)         LZ-1         RTLS   \n",
       "25       California  (34.632093, -120.610829)         JRTI         ASDS   \n",
       "\n",
       "   landpad_region                landpad_geo  outcome payloads_type  \\\n",
       "18        Florida        (28.4104, -80.6188)  Success     Satellite   \n",
       "21        Florida        (28.4104, -80.6188)  Success     Satellite   \n",
       "23     California  (33.7291858, -118.262015)  Failure     Satellite   \n",
       "24        Florida    (28.485833, -80.544444)  Success     Satellite   \n",
       "25        Florida        (28.4104, -80.6188)  Success     Satellite   \n",
       "\n",
       "    payloads_mass payloads_orbit  \n",
       "18         3669.0            GTO  \n",
       "21         5875.0            SSO  \n",
       "23         9600.0             PO  \n",
       "24         5200.0            GTO  \n",
       "25         3700.0            GTO  "
      ]
     },
     "execution_count": 68,
     "metadata": {},
     "output_type": "execute_result"
    }
   ],
   "source": [
    "# Step 02: rename columns `type`, `mass`, and `orbit` to `payloads_type`, `payloads_mass`, and `payloads_orbit`\n",
    "# YOUR CODE HERE\n",
    "raw_df = raw_df.rename(columns={\"type\": \"payloads_type\", \"mass\": \"payloads_mass\", \"orbit\" : \"payloads_orbit\"})\n",
    "raw_df.head()\n",
    "# raise NotImplementedError()"
   ]
  },
  {
   "cell_type": "code",
   "execution_count": 69,
   "metadata": {},
   "outputs": [
    {
     "data": {
      "text/plain": [
       "(115, 18)"
      ]
     },
     "execution_count": 69,
     "metadata": {},
     "output_type": "execute_result"
    }
   ],
   "source": [
    "# Step 03: drop all rows that have NaN values for all three columns or any two columns.\n",
    "# YOUR CODE HERE\n",
    "raw_df = raw_df.drop(raw_df[raw_df[\"payloads_type\"].isnull() & raw_df[\"payloads_mass\"].isnull()].index)\n",
    "raw_df = raw_df.drop(raw_df[raw_df[\"payloads_type\"].isnull() & raw_df[\"payloads_orbit\"].isnull()].index)\n",
    "raw_df = raw_df.drop(raw_df[raw_df[\"payloads_mass\"].isnull() & raw_df[\"payloads_orbit\"].isnull()].index)\n",
    "# raise NotImplementedError()\n",
    "raw_df.shape"
   ]
  },
  {
   "cell_type": "code",
   "execution_count": 70,
   "metadata": {},
   "outputs": [
    {
     "data": {
      "text/plain": [
       "(107, 18)"
      ]
     },
     "execution_count": 70,
     "metadata": {},
     "output_type": "execute_result"
    }
   ],
   "source": [
    "# Step 04: Filling missing values for `cate_col_df2` by dropping `None` values from mass attributes\n",
    "# YOUR CODE HERE\n",
    "raw_df = raw_df.dropna(subset=['payloads_mass'])\n",
    "raw_df['payloads_mass'] = raw_df['payloads_mass'].astype(int)\n",
    "raw_df['payloads_mass'] = raw_df['payloads_mass'].astype(str)\n",
    "raw_df.shape\n",
    "# raise NotImplementedError()"
   ]
  },
  {
   "cell_type": "code",
   "execution_count": 71,
   "metadata": {},
   "outputs": [],
   "source": [
    "# TEST\n",
    "cat_col_info_df = raw_df.select_dtypes(include=['object']).agg([missing_ratio, num_values, value_ratios])\n",
    "\n",
    "c = cat_col_info_df['payloads_type']\n",
    "assert adler32(str(c.loc['missing_ratio']).encode()) == 18808975\n",
    "assert adler32(str(c.loc['num_values']).encode()) == 3473461\n",
    "assert adler32(str(c.loc['value_ratios']['Satellite']).encode()) == 34734285\n",
    "\n",
    "c = cat_col_info_df['payloads_mass']\n",
    "assert adler32(str(c.loc['missing_ratio']).encode()) == 18808975\n",
    "assert adler32(str(c.loc['num_values']).encode()) == 10748012\n",
    "assert adler32(str(c.loc['value_ratios']['9600']).encode()) == 19595417\n",
    "\n",
    "c = cat_col_info_df['payloads_orbit']\n",
    "assert adler32(str(c.loc['missing_ratio']).encode()) == 18808975\n",
    "assert adler32(str(c.loc['num_values']).encode()) == 9764963\n",
    "assert adler32(str(c.loc['value_ratios']['LEO']).encode()) ==  20185242"
   ]
  },
  {
   "cell_type": "code",
   "execution_count": 72,
   "metadata": {},
   "outputs": [
    {
     "data": {
      "text/html": [
       "<div>\n",
       "<style scoped>\n",
       "    .dataframe tbody tr th:only-of-type {\n",
       "        vertical-align: middle;\n",
       "    }\n",
       "\n",
       "    .dataframe tbody tr th {\n",
       "        vertical-align: top;\n",
       "    }\n",
       "\n",
       "    .dataframe thead th {\n",
       "        text-align: right;\n",
       "    }\n",
       "</style>\n",
       "<table border=\"1\" class=\"dataframe\">\n",
       "  <thead>\n",
       "    <tr style=\"text-align: right;\">\n",
       "      <th></th>\n",
       "      <th>uct_time</th>\n",
       "      <th>launch_name</th>\n",
       "      <th>rocket_name</th>\n",
       "      <th>rocket_boosters</th>\n",
       "      <th>rocket_height</th>\n",
       "      <th>rocket_diameter</th>\n",
       "      <th>rocket_mass</th>\n",
       "      <th>launchpad_name</th>\n",
       "      <th>launchpad_region</th>\n",
       "      <th>launchpad_geo</th>\n",
       "      <th>landpad_name</th>\n",
       "      <th>landpad_type</th>\n",
       "      <th>landpad_region</th>\n",
       "      <th>landpad_geo</th>\n",
       "      <th>outcome</th>\n",
       "      <th>payloads_type</th>\n",
       "      <th>payloads_mass</th>\n",
       "      <th>payloads_orbit</th>\n",
       "    </tr>\n",
       "  </thead>\n",
       "  <tbody>\n",
       "    <tr>\n",
       "      <th>18</th>\n",
       "      <td>2015-01-10 09:47:00+00:00</td>\n",
       "      <td>CRS-5</td>\n",
       "      <td>Falcon 9</td>\n",
       "      <td>0</td>\n",
       "      <td>70.0</td>\n",
       "      <td>3.7</td>\n",
       "      <td>549054.000000</td>\n",
       "      <td>CCSFS SLC 40</td>\n",
       "      <td>Florida</td>\n",
       "      <td>(28.5618571, -80.577366)</td>\n",
       "      <td>JRTI-1</td>\n",
       "      <td>ASDS</td>\n",
       "      <td>Florida</td>\n",
       "      <td>(28.4104, -80.6188)</td>\n",
       "      <td>Success</td>\n",
       "      <td>Satellite</td>\n",
       "      <td>3669</td>\n",
       "      <td>GTO</td>\n",
       "    </tr>\n",
       "    <tr>\n",
       "      <th>21</th>\n",
       "      <td>2015-04-14 20:10:00+00:00</td>\n",
       "      <td>CRS-6</td>\n",
       "      <td>Falcon 9</td>\n",
       "      <td>0</td>\n",
       "      <td>70.0</td>\n",
       "      <td>3.7</td>\n",
       "      <td>549054.000000</td>\n",
       "      <td>CCSFS SLC 40</td>\n",
       "      <td>Florida</td>\n",
       "      <td>(28.5618571, -80.577366)</td>\n",
       "      <td>JRTI-1</td>\n",
       "      <td>ASDS</td>\n",
       "      <td>Florida</td>\n",
       "      <td>(28.4104, -80.6188)</td>\n",
       "      <td>Success</td>\n",
       "      <td>Satellite</td>\n",
       "      <td>5875</td>\n",
       "      <td>SSO</td>\n",
       "    </tr>\n",
       "    <tr>\n",
       "      <th>23</th>\n",
       "      <td>2015-06-28 14:21:00+00:00</td>\n",
       "      <td>CRS-7</td>\n",
       "      <td>Falcon 9</td>\n",
       "      <td>0</td>\n",
       "      <td>70.0</td>\n",
       "      <td>3.7</td>\n",
       "      <td>556404.541667</td>\n",
       "      <td>CCSFS SLC 40</td>\n",
       "      <td>Florida</td>\n",
       "      <td>(28.5618571, -80.577366)</td>\n",
       "      <td>OCISLY</td>\n",
       "      <td>ASDS</td>\n",
       "      <td>California</td>\n",
       "      <td>(33.7291858, -118.262015)</td>\n",
       "      <td>Failure</td>\n",
       "      <td>Satellite</td>\n",
       "      <td>9600</td>\n",
       "      <td>PO</td>\n",
       "    </tr>\n",
       "    <tr>\n",
       "      <th>24</th>\n",
       "      <td>2015-12-22 01:29:00+00:00</td>\n",
       "      <td>OG-2 Mission 2</td>\n",
       "      <td>Falcon 9</td>\n",
       "      <td>0</td>\n",
       "      <td>70.0</td>\n",
       "      <td>3.7</td>\n",
       "      <td>549054.000000</td>\n",
       "      <td>CCSFS SLC 40</td>\n",
       "      <td>Florida</td>\n",
       "      <td>(28.5618571, -80.577366)</td>\n",
       "      <td>LZ-1</td>\n",
       "      <td>RTLS</td>\n",
       "      <td>Florida</td>\n",
       "      <td>(28.485833, -80.544444)</td>\n",
       "      <td>Success</td>\n",
       "      <td>Satellite</td>\n",
       "      <td>5200</td>\n",
       "      <td>GTO</td>\n",
       "    </tr>\n",
       "    <tr>\n",
       "      <th>25</th>\n",
       "      <td>2016-01-17 15:42:00+00:00</td>\n",
       "      <td>Jason 3</td>\n",
       "      <td>Falcon 9</td>\n",
       "      <td>0</td>\n",
       "      <td>70.0</td>\n",
       "      <td>3.7</td>\n",
       "      <td>549054.000000</td>\n",
       "      <td>VAFB SLC 4E</td>\n",
       "      <td>California</td>\n",
       "      <td>(34.632093, -120.610829)</td>\n",
       "      <td>JRTI</td>\n",
       "      <td>ASDS</td>\n",
       "      <td>Florida</td>\n",
       "      <td>(28.4104, -80.6188)</td>\n",
       "      <td>Success</td>\n",
       "      <td>Satellite</td>\n",
       "      <td>3700</td>\n",
       "      <td>GTO</td>\n",
       "    </tr>\n",
       "  </tbody>\n",
       "</table>\n",
       "</div>"
      ],
      "text/plain": [
       "                    uct_time     launch_name rocket_name  rocket_boosters  \\\n",
       "18 2015-01-10 09:47:00+00:00           CRS-5    Falcon 9                0   \n",
       "21 2015-04-14 20:10:00+00:00           CRS-6    Falcon 9                0   \n",
       "23 2015-06-28 14:21:00+00:00           CRS-7    Falcon 9                0   \n",
       "24 2015-12-22 01:29:00+00:00  OG-2 Mission 2    Falcon 9                0   \n",
       "25 2016-01-17 15:42:00+00:00         Jason 3    Falcon 9                0   \n",
       "\n",
       "    rocket_height  rocket_diameter    rocket_mass launchpad_name  \\\n",
       "18           70.0              3.7  549054.000000   CCSFS SLC 40   \n",
       "21           70.0              3.7  549054.000000   CCSFS SLC 40   \n",
       "23           70.0              3.7  556404.541667   CCSFS SLC 40   \n",
       "24           70.0              3.7  549054.000000   CCSFS SLC 40   \n",
       "25           70.0              3.7  549054.000000    VAFB SLC 4E   \n",
       "\n",
       "   launchpad_region             launchpad_geo landpad_name landpad_type  \\\n",
       "18          Florida  (28.5618571, -80.577366)       JRTI-1         ASDS   \n",
       "21          Florida  (28.5618571, -80.577366)       JRTI-1         ASDS   \n",
       "23          Florida  (28.5618571, -80.577366)       OCISLY         ASDS   \n",
       "24          Florida  (28.5618571, -80.577366)         LZ-1         RTLS   \n",
       "25       California  (34.632093, -120.610829)         JRTI         ASDS   \n",
       "\n",
       "   landpad_region                landpad_geo  outcome payloads_type  \\\n",
       "18        Florida        (28.4104, -80.6188)  Success     Satellite   \n",
       "21        Florida        (28.4104, -80.6188)  Success     Satellite   \n",
       "23     California  (33.7291858, -118.262015)  Failure     Satellite   \n",
       "24        Florida    (28.485833, -80.544444)  Success     Satellite   \n",
       "25        Florida        (28.4104, -80.6188)  Success     Satellite   \n",
       "\n",
       "   payloads_mass payloads_orbit  \n",
       "18          3669            GTO  \n",
       "21          5875            SSO  \n",
       "23          9600             PO  \n",
       "24          5200            GTO  \n",
       "25          3700            GTO  "
      ]
     },
     "execution_count": 72,
     "metadata": {},
     "output_type": "execute_result"
    }
   ],
   "source": [
    "# TEST\n",
    "raw_df.head()"
   ]
  },
  {
   "cell_type": "markdown",
   "metadata": {},
   "source": [
    "Next, you have to unpack `launchpad_geo` and `landpad_geo` to xy coordinates. **Remember**: drop `launchpad_geo` and `landpad_geo` after unpack."
   ]
  },
  {
   "cell_type": "code",
   "execution_count": 73,
   "metadata": {},
   "outputs": [],
   "source": [
    "def str2tuple(s: str) -> tuple:\n",
    "    # YOUR CODE HERE\n",
    "    return eval(s)\n",
    "    #raise NotImplementedError()"
   ]
  },
  {
   "cell_type": "code",
   "execution_count": 74,
   "metadata": {},
   "outputs": [],
   "source": [
    "# Apply str2tuple\n",
    "raw_df[\"launchpad_geo\"] = raw_df[\"launchpad_geo\"].apply(str2tuple)\n",
    "raw_df[\"landpad_geo\"] = raw_df[\"landpad_geo\"].apply(str2tuple)"
   ]
  },
  {
   "cell_type": "code",
   "execution_count": 75,
   "metadata": {},
   "outputs": [],
   "source": [
    "# Unpack\n",
    "raw_df[['launchpad_geo_x', 'launchpad_geo_y']] = pd.DataFrame(raw_df['launchpad_geo'].tolist(), index=raw_df.index)\n",
    "raw_df[['landpad_geo_x', 'landpad_geo_y']] = pd.DataFrame(raw_df['landpad_geo'].tolist(), index=raw_df.index)"
   ]
  },
  {
   "cell_type": "code",
   "execution_count": 76,
   "metadata": {},
   "outputs": [
    {
     "data": {
      "text/html": [
       "<div>\n",
       "<style scoped>\n",
       "    .dataframe tbody tr th:only-of-type {\n",
       "        vertical-align: middle;\n",
       "    }\n",
       "\n",
       "    .dataframe tbody tr th {\n",
       "        vertical-align: top;\n",
       "    }\n",
       "\n",
       "    .dataframe thead th {\n",
       "        text-align: right;\n",
       "    }\n",
       "</style>\n",
       "<table border=\"1\" class=\"dataframe\">\n",
       "  <thead>\n",
       "    <tr style=\"text-align: right;\">\n",
       "      <th></th>\n",
       "      <th>uct_time</th>\n",
       "      <th>launch_name</th>\n",
       "      <th>rocket_name</th>\n",
       "      <th>rocket_boosters</th>\n",
       "      <th>rocket_height</th>\n",
       "      <th>rocket_diameter</th>\n",
       "      <th>rocket_mass</th>\n",
       "      <th>launchpad_name</th>\n",
       "      <th>launchpad_region</th>\n",
       "      <th>landpad_name</th>\n",
       "      <th>landpad_type</th>\n",
       "      <th>landpad_region</th>\n",
       "      <th>outcome</th>\n",
       "      <th>payloads_type</th>\n",
       "      <th>payloads_mass</th>\n",
       "      <th>payloads_orbit</th>\n",
       "      <th>launchpad_geo_x</th>\n",
       "      <th>launchpad_geo_y</th>\n",
       "      <th>landpad_geo_x</th>\n",
       "      <th>landpad_geo_y</th>\n",
       "    </tr>\n",
       "  </thead>\n",
       "  <tbody>\n",
       "    <tr>\n",
       "      <th>18</th>\n",
       "      <td>2015-01-10 09:47:00+00:00</td>\n",
       "      <td>CRS-5</td>\n",
       "      <td>Falcon 9</td>\n",
       "      <td>0</td>\n",
       "      <td>70.0</td>\n",
       "      <td>3.7</td>\n",
       "      <td>549054.000000</td>\n",
       "      <td>CCSFS SLC 40</td>\n",
       "      <td>Florida</td>\n",
       "      <td>JRTI-1</td>\n",
       "      <td>ASDS</td>\n",
       "      <td>Florida</td>\n",
       "      <td>Success</td>\n",
       "      <td>Satellite</td>\n",
       "      <td>3669</td>\n",
       "      <td>GTO</td>\n",
       "      <td>28.561857</td>\n",
       "      <td>-80.577366</td>\n",
       "      <td>28.410400</td>\n",
       "      <td>-80.618800</td>\n",
       "    </tr>\n",
       "    <tr>\n",
       "      <th>21</th>\n",
       "      <td>2015-04-14 20:10:00+00:00</td>\n",
       "      <td>CRS-6</td>\n",
       "      <td>Falcon 9</td>\n",
       "      <td>0</td>\n",
       "      <td>70.0</td>\n",
       "      <td>3.7</td>\n",
       "      <td>549054.000000</td>\n",
       "      <td>CCSFS SLC 40</td>\n",
       "      <td>Florida</td>\n",
       "      <td>JRTI-1</td>\n",
       "      <td>ASDS</td>\n",
       "      <td>Florida</td>\n",
       "      <td>Success</td>\n",
       "      <td>Satellite</td>\n",
       "      <td>5875</td>\n",
       "      <td>SSO</td>\n",
       "      <td>28.561857</td>\n",
       "      <td>-80.577366</td>\n",
       "      <td>28.410400</td>\n",
       "      <td>-80.618800</td>\n",
       "    </tr>\n",
       "    <tr>\n",
       "      <th>23</th>\n",
       "      <td>2015-06-28 14:21:00+00:00</td>\n",
       "      <td>CRS-7</td>\n",
       "      <td>Falcon 9</td>\n",
       "      <td>0</td>\n",
       "      <td>70.0</td>\n",
       "      <td>3.7</td>\n",
       "      <td>556404.541667</td>\n",
       "      <td>CCSFS SLC 40</td>\n",
       "      <td>Florida</td>\n",
       "      <td>OCISLY</td>\n",
       "      <td>ASDS</td>\n",
       "      <td>California</td>\n",
       "      <td>Failure</td>\n",
       "      <td>Satellite</td>\n",
       "      <td>9600</td>\n",
       "      <td>PO</td>\n",
       "      <td>28.561857</td>\n",
       "      <td>-80.577366</td>\n",
       "      <td>33.729186</td>\n",
       "      <td>-118.262015</td>\n",
       "    </tr>\n",
       "    <tr>\n",
       "      <th>24</th>\n",
       "      <td>2015-12-22 01:29:00+00:00</td>\n",
       "      <td>OG-2 Mission 2</td>\n",
       "      <td>Falcon 9</td>\n",
       "      <td>0</td>\n",
       "      <td>70.0</td>\n",
       "      <td>3.7</td>\n",
       "      <td>549054.000000</td>\n",
       "      <td>CCSFS SLC 40</td>\n",
       "      <td>Florida</td>\n",
       "      <td>LZ-1</td>\n",
       "      <td>RTLS</td>\n",
       "      <td>Florida</td>\n",
       "      <td>Success</td>\n",
       "      <td>Satellite</td>\n",
       "      <td>5200</td>\n",
       "      <td>GTO</td>\n",
       "      <td>28.561857</td>\n",
       "      <td>-80.577366</td>\n",
       "      <td>28.485833</td>\n",
       "      <td>-80.544444</td>\n",
       "    </tr>\n",
       "    <tr>\n",
       "      <th>25</th>\n",
       "      <td>2016-01-17 15:42:00+00:00</td>\n",
       "      <td>Jason 3</td>\n",
       "      <td>Falcon 9</td>\n",
       "      <td>0</td>\n",
       "      <td>70.0</td>\n",
       "      <td>3.7</td>\n",
       "      <td>549054.000000</td>\n",
       "      <td>VAFB SLC 4E</td>\n",
       "      <td>California</td>\n",
       "      <td>JRTI</td>\n",
       "      <td>ASDS</td>\n",
       "      <td>Florida</td>\n",
       "      <td>Success</td>\n",
       "      <td>Satellite</td>\n",
       "      <td>3700</td>\n",
       "      <td>GTO</td>\n",
       "      <td>34.632093</td>\n",
       "      <td>-120.610829</td>\n",
       "      <td>28.410400</td>\n",
       "      <td>-80.618800</td>\n",
       "    </tr>\n",
       "  </tbody>\n",
       "</table>\n",
       "</div>"
      ],
      "text/plain": [
       "                    uct_time     launch_name rocket_name  rocket_boosters  \\\n",
       "18 2015-01-10 09:47:00+00:00           CRS-5    Falcon 9                0   \n",
       "21 2015-04-14 20:10:00+00:00           CRS-6    Falcon 9                0   \n",
       "23 2015-06-28 14:21:00+00:00           CRS-7    Falcon 9                0   \n",
       "24 2015-12-22 01:29:00+00:00  OG-2 Mission 2    Falcon 9                0   \n",
       "25 2016-01-17 15:42:00+00:00         Jason 3    Falcon 9                0   \n",
       "\n",
       "    rocket_height  rocket_diameter    rocket_mass launchpad_name  \\\n",
       "18           70.0              3.7  549054.000000   CCSFS SLC 40   \n",
       "21           70.0              3.7  549054.000000   CCSFS SLC 40   \n",
       "23           70.0              3.7  556404.541667   CCSFS SLC 40   \n",
       "24           70.0              3.7  549054.000000   CCSFS SLC 40   \n",
       "25           70.0              3.7  549054.000000    VAFB SLC 4E   \n",
       "\n",
       "   launchpad_region landpad_name landpad_type landpad_region  outcome  \\\n",
       "18          Florida       JRTI-1         ASDS        Florida  Success   \n",
       "21          Florida       JRTI-1         ASDS        Florida  Success   \n",
       "23          Florida       OCISLY         ASDS     California  Failure   \n",
       "24          Florida         LZ-1         RTLS        Florida  Success   \n",
       "25       California         JRTI         ASDS        Florida  Success   \n",
       "\n",
       "   payloads_type payloads_mass payloads_orbit  launchpad_geo_x  \\\n",
       "18     Satellite          3669            GTO        28.561857   \n",
       "21     Satellite          5875            SSO        28.561857   \n",
       "23     Satellite          9600             PO        28.561857   \n",
       "24     Satellite          5200            GTO        28.561857   \n",
       "25     Satellite          3700            GTO        34.632093   \n",
       "\n",
       "    launchpad_geo_y  landpad_geo_x  landpad_geo_y  \n",
       "18       -80.577366      28.410400     -80.618800  \n",
       "21       -80.577366      28.410400     -80.618800  \n",
       "23       -80.577366      33.729186    -118.262015  \n",
       "24       -80.577366      28.485833     -80.544444  \n",
       "25      -120.610829      28.410400     -80.618800  "
      ]
     },
     "execution_count": 76,
     "metadata": {},
     "output_type": "execute_result"
    }
   ],
   "source": [
    "raw_df = raw_df.drop([\"launchpad_geo\", \"landpad_geo\"], axis=1)\n",
    "raw_df.head()"
   ]
  },
  {
   "cell_type": "markdown",
   "metadata": {},
   "source": []
  },
  {
   "cell_type": "markdown",
   "metadata": {},
   "source": [
    "## Encoding categorical (2 pts)"
   ]
  },
  {
   "cell_type": "markdown",
   "metadata": {},
   "source": [
    "In this section, you have to encode your attributes, which have a categorical type. To choose the right encoding method, you have to decide if a given attribute is `ordinal` or `nominal`. For `ordinal` attributes, you should use `one hot encoding`, and for `nominal` attributes, you should use `label encoding`."
   ]
  },
  {
   "cell_type": "markdown",
   "metadata": {},
   "source": [
    "Step 01: `launch_name` checking, is this `ordinal` or `nominal`?"
   ]
  },
  {
   "cell_type": "markdown",
   "metadata": {},
   "source": [
    "This is nominal"
   ]
  },
  {
   "cell_type": "code",
   "execution_count": 77,
   "metadata": {},
   "outputs": [],
   "source": [
    "# YOUR CODE HERE\n",
    "label_encoder = LabelEncoder() \n",
    "raw_df['launch_name']= label_encoder.fit_transform(raw_df['launch_name'])\n",
    "# raise NotImplementedError()\n"
   ]
  },
  {
   "cell_type": "markdown",
   "metadata": {},
   "source": [
    "Step 02: `rocket_name` checking, is this `ordinal` or `nominal`?"
   ]
  },
  {
   "cell_type": "markdown",
   "metadata": {},
   "source": [
    "This is nominal"
   ]
  },
  {
   "cell_type": "code",
   "execution_count": 78,
   "metadata": {},
   "outputs": [],
   "source": [
    "# YOUR CODE HERE\n",
    "raw_df['rocket_name']= label_encoder.fit_transform(raw_df['rocket_name']) \n",
    "# raise NotImplementedError()"
   ]
  },
  {
   "cell_type": "markdown",
   "metadata": {},
   "source": [
    "Step 03: `launchpad_name` checking, is this `ordinal` or `nominal`?"
   ]
  },
  {
   "cell_type": "markdown",
   "metadata": {},
   "source": [
    "This is nominal"
   ]
  },
  {
   "cell_type": "code",
   "execution_count": 79,
   "metadata": {},
   "outputs": [],
   "source": [
    "# YOUR CODE HERE\n",
    "raw_df['launchpad_name']= label_encoder.fit_transform(raw_df['launchpad_name']) \n",
    "# raise NotImplementedError()"
   ]
  },
  {
   "cell_type": "markdown",
   "metadata": {},
   "source": [
    "Step 04: `launchpad_region` checking, is this `ordinal` or `nominal`?"
   ]
  },
  {
   "cell_type": "markdown",
   "metadata": {},
   "source": [
    "This is nominal"
   ]
  },
  {
   "cell_type": "code",
   "execution_count": 80,
   "metadata": {},
   "outputs": [],
   "source": [
    "# YOUR CODE HERE\n",
    "raw_df['launchpad_region']= label_encoder.fit_transform(raw_df['launchpad_region']) \n",
    "# raise NotImplementedError()"
   ]
  },
  {
   "cell_type": "markdown",
   "metadata": {},
   "source": [
    "Step 05: `landpad_name` checking, is this `ordinal` or `nominal`?"
   ]
  },
  {
   "cell_type": "markdown",
   "metadata": {},
   "source": [
    "This is nominal"
   ]
  },
  {
   "cell_type": "code",
   "execution_count": 81,
   "metadata": {},
   "outputs": [],
   "source": [
    "# YOUR CODE HERE\n",
    "raw_df['landpad_name']= label_encoder.fit_transform(raw_df['landpad_name']) \n",
    "# raise NotImplementedError()"
   ]
  },
  {
   "cell_type": "markdown",
   "metadata": {},
   "source": [
    "Step 06: `landpad_type` checking, is this `ordinal` or `nominal`?"
   ]
  },
  {
   "cell_type": "markdown",
   "metadata": {},
   "source": [
    "This is nominal"
   ]
  },
  {
   "cell_type": "code",
   "execution_count": 82,
   "metadata": {},
   "outputs": [],
   "source": [
    "# YOUR CODE HERE\n",
    "raw_df['landpad_type']= label_encoder.fit_transform(raw_df['landpad_type']) \n",
    "# raise NotImplementedError()"
   ]
  },
  {
   "cell_type": "markdown",
   "metadata": {},
   "source": [
    "Step 07: `landpad_region` checking, is this `ordinal` or `nominal`?"
   ]
  },
  {
   "cell_type": "markdown",
   "metadata": {},
   "source": [
    "This is nominal"
   ]
  },
  {
   "cell_type": "code",
   "execution_count": 83,
   "metadata": {},
   "outputs": [],
   "source": [
    "# YOUR CODE HERE\n",
    "raw_df['landpad_region']= label_encoder.fit_transform(raw_df['landpad_region']) \n",
    "# raise NotImplementedError()"
   ]
  },
  {
   "cell_type": "markdown",
   "metadata": {},
   "source": [
    "Step 08: `outcome` checking, is this `ordinal` or `nominal`?"
   ]
  },
  {
   "cell_type": "markdown",
   "metadata": {},
   "source": [
    "This is nominal"
   ]
  },
  {
   "cell_type": "code",
   "execution_count": 84,
   "metadata": {},
   "outputs": [],
   "source": [
    "# YOUR CODE HERE\n",
    "raw_df['outcome']= label_encoder.fit_transform(raw_df['outcome']) \n",
    "# raise NotImplementedError()"
   ]
  },
  {
   "cell_type": "markdown",
   "metadata": {},
   "source": [
    "Step 09: `payloads_type` checking, is this `ordinal` or `nominal`?"
   ]
  },
  {
   "cell_type": "markdown",
   "metadata": {},
   "source": [
    "This is nominal"
   ]
  },
  {
   "cell_type": "code",
   "execution_count": 85,
   "metadata": {},
   "outputs": [],
   "source": [
    "# YOUR CODE HERE\n",
    "raw_df['payloads_type']= label_encoder.fit_transform(raw_df['payloads_type']) \n",
    "# raise NotImplementedError()"
   ]
  },
  {
   "cell_type": "markdown",
   "metadata": {},
   "source": [
    "Step 10: `payloads_orbit` checking, is this `ordinal` or `nominal`?"
   ]
  },
  {
   "cell_type": "markdown",
   "metadata": {},
   "source": [
    "This is nominal"
   ]
  },
  {
   "cell_type": "code",
   "execution_count": 86,
   "metadata": {},
   "outputs": [],
   "source": [
    "# YOUR CODE HERE\n",
    "raw_df['payloads_orbit']= label_encoder.fit_transform(raw_df['payloads_orbit']) \n",
    "# raise NotImplementedError()"
   ]
  },
  {
   "cell_type": "markdown",
   "metadata": {},
   "source": [
    "After encoding for categorical columns, you check again data types, are there any columns whose data types are not suitable for further processing?"
   ]
  },
  {
   "cell_type": "code",
   "execution_count": 87,
   "metadata": {},
   "outputs": [],
   "source": [
    "raw_df['payloads_mass'] = raw_df['payloads_mass'].astype(float)"
   ]
  },
  {
   "cell_type": "code",
   "execution_count": 88,
   "metadata": {},
   "outputs": [
    {
     "data": {
      "text/html": [
       "<div>\n",
       "<style scoped>\n",
       "    .dataframe tbody tr th:only-of-type {\n",
       "        vertical-align: middle;\n",
       "    }\n",
       "\n",
       "    .dataframe tbody tr th {\n",
       "        vertical-align: top;\n",
       "    }\n",
       "\n",
       "    .dataframe thead th {\n",
       "        text-align: right;\n",
       "    }\n",
       "</style>\n",
       "<table border=\"1\" class=\"dataframe\">\n",
       "  <thead>\n",
       "    <tr style=\"text-align: right;\">\n",
       "      <th></th>\n",
       "      <th>uct_time</th>\n",
       "      <th>launch_name</th>\n",
       "      <th>rocket_name</th>\n",
       "      <th>rocket_boosters</th>\n",
       "      <th>rocket_height</th>\n",
       "      <th>rocket_diameter</th>\n",
       "      <th>rocket_mass</th>\n",
       "      <th>launchpad_name</th>\n",
       "      <th>launchpad_region</th>\n",
       "      <th>landpad_name</th>\n",
       "      <th>landpad_type</th>\n",
       "      <th>landpad_region</th>\n",
       "      <th>outcome</th>\n",
       "      <th>payloads_type</th>\n",
       "      <th>payloads_mass</th>\n",
       "      <th>payloads_orbit</th>\n",
       "      <th>launchpad_geo_x</th>\n",
       "      <th>launchpad_geo_y</th>\n",
       "      <th>landpad_geo_x</th>\n",
       "      <th>landpad_geo_y</th>\n",
       "    </tr>\n",
       "  </thead>\n",
       "  <tbody>\n",
       "    <tr>\n",
       "      <th>18</th>\n",
       "      <td>2015-01-10 09:47:00+00:00</td>\n",
       "      <td>20</td>\n",
       "      <td>0</td>\n",
       "      <td>0</td>\n",
       "      <td>70.0</td>\n",
       "      <td>3.700000</td>\n",
       "      <td>549054.000000</td>\n",
       "      <td>0</td>\n",
       "      <td>1</td>\n",
       "      <td>2</td>\n",
       "      <td>0</td>\n",
       "      <td>1</td>\n",
       "      <td>1</td>\n",
       "      <td>3</td>\n",
       "      <td>3669.0</td>\n",
       "      <td>1</td>\n",
       "      <td>28.561857</td>\n",
       "      <td>-80.577366</td>\n",
       "      <td>28.410400</td>\n",
       "      <td>-80.618800</td>\n",
       "    </tr>\n",
       "    <tr>\n",
       "      <th>21</th>\n",
       "      <td>2015-04-14 20:10:00+00:00</td>\n",
       "      <td>21</td>\n",
       "      <td>0</td>\n",
       "      <td>0</td>\n",
       "      <td>70.0</td>\n",
       "      <td>3.700000</td>\n",
       "      <td>549054.000000</td>\n",
       "      <td>0</td>\n",
       "      <td>1</td>\n",
       "      <td>2</td>\n",
       "      <td>0</td>\n",
       "      <td>1</td>\n",
       "      <td>1</td>\n",
       "      <td>3</td>\n",
       "      <td>5875.0</td>\n",
       "      <td>8</td>\n",
       "      <td>28.561857</td>\n",
       "      <td>-80.577366</td>\n",
       "      <td>28.410400</td>\n",
       "      <td>-80.618800</td>\n",
       "    </tr>\n",
       "    <tr>\n",
       "      <th>23</th>\n",
       "      <td>2015-06-28 14:21:00+00:00</td>\n",
       "      <td>22</td>\n",
       "      <td>0</td>\n",
       "      <td>0</td>\n",
       "      <td>70.0</td>\n",
       "      <td>3.700000</td>\n",
       "      <td>556404.541667</td>\n",
       "      <td>0</td>\n",
       "      <td>1</td>\n",
       "      <td>5</td>\n",
       "      <td>0</td>\n",
       "      <td>0</td>\n",
       "      <td>0</td>\n",
       "      <td>3</td>\n",
       "      <td>9600.0</td>\n",
       "      <td>7</td>\n",
       "      <td>28.561857</td>\n",
       "      <td>-80.577366</td>\n",
       "      <td>33.729186</td>\n",
       "      <td>-118.262015</td>\n",
       "    </tr>\n",
       "    <tr>\n",
       "      <th>24</th>\n",
       "      <td>2015-12-22 01:29:00+00:00</td>\n",
       "      <td>51</td>\n",
       "      <td>0</td>\n",
       "      <td>0</td>\n",
       "      <td>70.0</td>\n",
       "      <td>3.700000</td>\n",
       "      <td>549054.000000</td>\n",
       "      <td>0</td>\n",
       "      <td>1</td>\n",
       "      <td>3</td>\n",
       "      <td>1</td>\n",
       "      <td>1</td>\n",
       "      <td>1</td>\n",
       "      <td>3</td>\n",
       "      <td>5200.0</td>\n",
       "      <td>1</td>\n",
       "      <td>28.561857</td>\n",
       "      <td>-80.577366</td>\n",
       "      <td>28.485833</td>\n",
       "      <td>-80.544444</td>\n",
       "    </tr>\n",
       "    <tr>\n",
       "      <th>25</th>\n",
       "      <td>2016-01-17 15:42:00+00:00</td>\n",
       "      <td>45</td>\n",
       "      <td>0</td>\n",
       "      <td>0</td>\n",
       "      <td>70.0</td>\n",
       "      <td>3.700000</td>\n",
       "      <td>549054.000000</td>\n",
       "      <td>2</td>\n",
       "      <td>0</td>\n",
       "      <td>1</td>\n",
       "      <td>0</td>\n",
       "      <td>1</td>\n",
       "      <td>1</td>\n",
       "      <td>3</td>\n",
       "      <td>3700.0</td>\n",
       "      <td>1</td>\n",
       "      <td>34.632093</td>\n",
       "      <td>-120.610829</td>\n",
       "      <td>28.410400</td>\n",
       "      <td>-80.618800</td>\n",
       "    </tr>\n",
       "    <tr>\n",
       "      <th>...</th>\n",
       "      <td>...</td>\n",
       "      <td>...</td>\n",
       "      <td>...</td>\n",
       "      <td>...</td>\n",
       "      <td>...</td>\n",
       "      <td>...</td>\n",
       "      <td>...</td>\n",
       "      <td>...</td>\n",
       "      <td>...</td>\n",
       "      <td>...</td>\n",
       "      <td>...</td>\n",
       "      <td>...</td>\n",
       "      <td>...</td>\n",
       "      <td>...</td>\n",
       "      <td>...</td>\n",
       "      <td>...</td>\n",
       "      <td>...</td>\n",
       "      <td>...</td>\n",
       "      <td>...</td>\n",
       "      <td>...</td>\n",
       "    </tr>\n",
       "    <tr>\n",
       "      <th>146</th>\n",
       "      <td>2022-01-31 23:11:12+00:00</td>\n",
       "      <td>24</td>\n",
       "      <td>0</td>\n",
       "      <td>0</td>\n",
       "      <td>70.0</td>\n",
       "      <td>3.806944</td>\n",
       "      <td>549054.000000</td>\n",
       "      <td>0</td>\n",
       "      <td>1</td>\n",
       "      <td>3</td>\n",
       "      <td>1</td>\n",
       "      <td>1</td>\n",
       "      <td>1</td>\n",
       "      <td>3</td>\n",
       "      <td>13260.0</td>\n",
       "      <td>10</td>\n",
       "      <td>28.561857</td>\n",
       "      <td>-80.577366</td>\n",
       "      <td>28.485833</td>\n",
       "      <td>-80.544444</td>\n",
       "    </tr>\n",
       "    <tr>\n",
       "      <th>147</th>\n",
       "      <td>2022-02-02 20:18:00+00:00</td>\n",
       "      <td>49</td>\n",
       "      <td>0</td>\n",
       "      <td>0</td>\n",
       "      <td>70.0</td>\n",
       "      <td>3.806944</td>\n",
       "      <td>549054.000000</td>\n",
       "      <td>2</td>\n",
       "      <td>0</td>\n",
       "      <td>4</td>\n",
       "      <td>1</td>\n",
       "      <td>0</td>\n",
       "      <td>1</td>\n",
       "      <td>3</td>\n",
       "      <td>180.0</td>\n",
       "      <td>10</td>\n",
       "      <td>34.632093</td>\n",
       "      <td>-120.610829</td>\n",
       "      <td>34.632989</td>\n",
       "      <td>-120.615167</td>\n",
       "    </tr>\n",
       "    <tr>\n",
       "      <th>148</th>\n",
       "      <td>2022-02-03 18:13:00+00:00</td>\n",
       "      <td>69</td>\n",
       "      <td>0</td>\n",
       "      <td>0</td>\n",
       "      <td>70.0</td>\n",
       "      <td>3.806944</td>\n",
       "      <td>549054.000000</td>\n",
       "      <td>1</td>\n",
       "      <td>1</td>\n",
       "      <td>0</td>\n",
       "      <td>0</td>\n",
       "      <td>1</td>\n",
       "      <td>1</td>\n",
       "      <td>3</td>\n",
       "      <td>14760.0</td>\n",
       "      <td>10</td>\n",
       "      <td>28.608058</td>\n",
       "      <td>-80.603956</td>\n",
       "      <td>33.729186</td>\n",
       "      <td>-118.262015</td>\n",
       "    </tr>\n",
       "    <tr>\n",
       "      <th>149</th>\n",
       "      <td>2022-02-21 14:44:00+00:00</td>\n",
       "      <td>70</td>\n",
       "      <td>0</td>\n",
       "      <td>0</td>\n",
       "      <td>70.0</td>\n",
       "      <td>3.700000</td>\n",
       "      <td>549054.000000</td>\n",
       "      <td>0</td>\n",
       "      <td>1</td>\n",
       "      <td>0</td>\n",
       "      <td>0</td>\n",
       "      <td>1</td>\n",
       "      <td>1</td>\n",
       "      <td>3</td>\n",
       "      <td>16100.0</td>\n",
       "      <td>10</td>\n",
       "      <td>28.561857</td>\n",
       "      <td>-80.577366</td>\n",
       "      <td>33.729186</td>\n",
       "      <td>-118.262015</td>\n",
       "    </tr>\n",
       "    <tr>\n",
       "      <th>150</th>\n",
       "      <td>2022-02-25 17:12:00+00:00</td>\n",
       "      <td>64</td>\n",
       "      <td>0</td>\n",
       "      <td>0</td>\n",
       "      <td>70.0</td>\n",
       "      <td>3.700000</td>\n",
       "      <td>556404.541667</td>\n",
       "      <td>2</td>\n",
       "      <td>0</td>\n",
       "      <td>5</td>\n",
       "      <td>0</td>\n",
       "      <td>0</td>\n",
       "      <td>1</td>\n",
       "      <td>3</td>\n",
       "      <td>13260.0</td>\n",
       "      <td>10</td>\n",
       "      <td>34.632093</td>\n",
       "      <td>-120.610829</td>\n",
       "      <td>33.729186</td>\n",
       "      <td>-118.262015</td>\n",
       "    </tr>\n",
       "  </tbody>\n",
       "</table>\n",
       "<p>107 rows × 20 columns</p>\n",
       "</div>"
      ],
      "text/plain": [
       "                     uct_time  launch_name  rocket_name  rocket_boosters  \\\n",
       "18  2015-01-10 09:47:00+00:00           20            0                0   \n",
       "21  2015-04-14 20:10:00+00:00           21            0                0   \n",
       "23  2015-06-28 14:21:00+00:00           22            0                0   \n",
       "24  2015-12-22 01:29:00+00:00           51            0                0   \n",
       "25  2016-01-17 15:42:00+00:00           45            0                0   \n",
       "..                        ...          ...          ...              ...   \n",
       "146 2022-01-31 23:11:12+00:00           24            0                0   \n",
       "147 2022-02-02 20:18:00+00:00           49            0                0   \n",
       "148 2022-02-03 18:13:00+00:00           69            0                0   \n",
       "149 2022-02-21 14:44:00+00:00           70            0                0   \n",
       "150 2022-02-25 17:12:00+00:00           64            0                0   \n",
       "\n",
       "     rocket_height  rocket_diameter    rocket_mass  launchpad_name  \\\n",
       "18            70.0         3.700000  549054.000000               0   \n",
       "21            70.0         3.700000  549054.000000               0   \n",
       "23            70.0         3.700000  556404.541667               0   \n",
       "24            70.0         3.700000  549054.000000               0   \n",
       "25            70.0         3.700000  549054.000000               2   \n",
       "..             ...              ...            ...             ...   \n",
       "146           70.0         3.806944  549054.000000               0   \n",
       "147           70.0         3.806944  549054.000000               2   \n",
       "148           70.0         3.806944  549054.000000               1   \n",
       "149           70.0         3.700000  549054.000000               0   \n",
       "150           70.0         3.700000  556404.541667               2   \n",
       "\n",
       "     launchpad_region  landpad_name  landpad_type  landpad_region  outcome  \\\n",
       "18                  1             2             0               1        1   \n",
       "21                  1             2             0               1        1   \n",
       "23                  1             5             0               0        0   \n",
       "24                  1             3             1               1        1   \n",
       "25                  0             1             0               1        1   \n",
       "..                ...           ...           ...             ...      ...   \n",
       "146                 1             3             1               1        1   \n",
       "147                 0             4             1               0        1   \n",
       "148                 1             0             0               1        1   \n",
       "149                 1             0             0               1        1   \n",
       "150                 0             5             0               0        1   \n",
       "\n",
       "     payloads_type  payloads_mass  payloads_orbit  launchpad_geo_x  \\\n",
       "18               3         3669.0               1        28.561857   \n",
       "21               3         5875.0               8        28.561857   \n",
       "23               3         9600.0               7        28.561857   \n",
       "24               3         5200.0               1        28.561857   \n",
       "25               3         3700.0               1        34.632093   \n",
       "..             ...            ...             ...              ...   \n",
       "146              3        13260.0              10        28.561857   \n",
       "147              3          180.0              10        34.632093   \n",
       "148              3        14760.0              10        28.608058   \n",
       "149              3        16100.0              10        28.561857   \n",
       "150              3        13260.0              10        34.632093   \n",
       "\n",
       "     launchpad_geo_y  landpad_geo_x  landpad_geo_y  \n",
       "18        -80.577366      28.410400     -80.618800  \n",
       "21        -80.577366      28.410400     -80.618800  \n",
       "23        -80.577366      33.729186    -118.262015  \n",
       "24        -80.577366      28.485833     -80.544444  \n",
       "25       -120.610829      28.410400     -80.618800  \n",
       "..               ...            ...            ...  \n",
       "146       -80.577366      28.485833     -80.544444  \n",
       "147      -120.610829      34.632989    -120.615167  \n",
       "148       -80.603956      33.729186    -118.262015  \n",
       "149       -80.577366      33.729186    -118.262015  \n",
       "150      -120.610829      33.729186    -118.262015  \n",
       "\n",
       "[107 rows x 20 columns]"
      ]
     },
     "execution_count": 88,
     "metadata": {},
     "output_type": "execute_result"
    }
   ],
   "source": [
    "# YOUR CODE HERE\n",
    "# aise NotImplementedError()\n",
    "raw_df"
   ]
  },
  {
   "cell_type": "code",
   "execution_count": 89,
   "metadata": {},
   "outputs": [
    {
     "data": {
      "text/plain": [
       "uct_time            datetime64[ns, UTC]\n",
       "launch_name                       int32\n",
       "rocket_name                       int32\n",
       "rocket_boosters                   int64\n",
       "rocket_height                   float64\n",
       "rocket_diameter                 float64\n",
       "rocket_mass                     float64\n",
       "launchpad_name                    int32\n",
       "launchpad_region                  int32\n",
       "landpad_name                      int32\n",
       "landpad_type                      int32\n",
       "landpad_region                    int32\n",
       "outcome                           int32\n",
       "payloads_type                     int32\n",
       "payloads_mass                   float64\n",
       "payloads_orbit                    int32\n",
       "launchpad_geo_x                 float64\n",
       "launchpad_geo_y                 float64\n",
       "landpad_geo_x                   float64\n",
       "landpad_geo_y                   float64\n",
       "dtype: object"
      ]
     },
     "execution_count": 89,
     "metadata": {},
     "output_type": "execute_result"
    }
   ],
   "source": [
    "raw_df.dtypes"
   ]
  },
  {
   "cell_type": "code",
   "execution_count": 90,
   "metadata": {},
   "outputs": [],
   "source": [
    "# TEST\n",
    "dtypes = raw_df.dtypes\n",
    "int_cols = set(dtypes[(dtypes==np.int32) | (dtypes==np.int64)].index)\n",
    "assert adler32(str(len(int_cols)).encode()) == 9764963 #11\n",
    "\n",
    "float_cols = set(dtypes[(dtypes==np.float32) | (dtypes==np.float64)].index)\n",
    "assert adler32(str(len(float_cols )).encode()) == 3735609 #8"
   ]
  },
  {
   "cell_type": "markdown",
   "metadata": {},
   "source": [
    "## Discretization techniques (2 pts)"
   ]
  },
  {
   "cell_type": "markdown",
   "metadata": {},
   "source": [
    "Let's first see about your filled data."
   ]
  },
  {
   "cell_type": "code",
   "execution_count": 91,
   "metadata": {},
   "outputs": [
    {
     "data": {
      "text/html": [
       "<div>\n",
       "<style scoped>\n",
       "    .dataframe tbody tr th:only-of-type {\n",
       "        vertical-align: middle;\n",
       "    }\n",
       "\n",
       "    .dataframe tbody tr th {\n",
       "        vertical-align: top;\n",
       "    }\n",
       "\n",
       "    .dataframe thead th {\n",
       "        text-align: right;\n",
       "    }\n",
       "</style>\n",
       "<table border=\"1\" class=\"dataframe\">\n",
       "  <thead>\n",
       "    <tr style=\"text-align: right;\">\n",
       "      <th></th>\n",
       "      <th>uct_time</th>\n",
       "      <th>launch_name</th>\n",
       "      <th>rocket_name</th>\n",
       "      <th>rocket_boosters</th>\n",
       "      <th>rocket_height</th>\n",
       "      <th>rocket_diameter</th>\n",
       "      <th>rocket_mass</th>\n",
       "      <th>launchpad_name</th>\n",
       "      <th>launchpad_region</th>\n",
       "      <th>landpad_name</th>\n",
       "      <th>landpad_type</th>\n",
       "      <th>landpad_region</th>\n",
       "      <th>outcome</th>\n",
       "      <th>payloads_type</th>\n",
       "      <th>payloads_mass</th>\n",
       "      <th>payloads_orbit</th>\n",
       "      <th>launchpad_geo_x</th>\n",
       "      <th>launchpad_geo_y</th>\n",
       "      <th>landpad_geo_x</th>\n",
       "      <th>landpad_geo_y</th>\n",
       "    </tr>\n",
       "  </thead>\n",
       "  <tbody>\n",
       "    <tr>\n",
       "      <th>18</th>\n",
       "      <td>2015-01-10 09:47:00+00:00</td>\n",
       "      <td>20</td>\n",
       "      <td>0</td>\n",
       "      <td>0</td>\n",
       "      <td>70.0</td>\n",
       "      <td>3.7</td>\n",
       "      <td>549054.000000</td>\n",
       "      <td>0</td>\n",
       "      <td>1</td>\n",
       "      <td>2</td>\n",
       "      <td>0</td>\n",
       "      <td>1</td>\n",
       "      <td>1</td>\n",
       "      <td>3</td>\n",
       "      <td>3669.0</td>\n",
       "      <td>1</td>\n",
       "      <td>28.561857</td>\n",
       "      <td>-80.577366</td>\n",
       "      <td>28.410400</td>\n",
       "      <td>-80.618800</td>\n",
       "    </tr>\n",
       "    <tr>\n",
       "      <th>21</th>\n",
       "      <td>2015-04-14 20:10:00+00:00</td>\n",
       "      <td>21</td>\n",
       "      <td>0</td>\n",
       "      <td>0</td>\n",
       "      <td>70.0</td>\n",
       "      <td>3.7</td>\n",
       "      <td>549054.000000</td>\n",
       "      <td>0</td>\n",
       "      <td>1</td>\n",
       "      <td>2</td>\n",
       "      <td>0</td>\n",
       "      <td>1</td>\n",
       "      <td>1</td>\n",
       "      <td>3</td>\n",
       "      <td>5875.0</td>\n",
       "      <td>8</td>\n",
       "      <td>28.561857</td>\n",
       "      <td>-80.577366</td>\n",
       "      <td>28.410400</td>\n",
       "      <td>-80.618800</td>\n",
       "    </tr>\n",
       "    <tr>\n",
       "      <th>23</th>\n",
       "      <td>2015-06-28 14:21:00+00:00</td>\n",
       "      <td>22</td>\n",
       "      <td>0</td>\n",
       "      <td>0</td>\n",
       "      <td>70.0</td>\n",
       "      <td>3.7</td>\n",
       "      <td>556404.541667</td>\n",
       "      <td>0</td>\n",
       "      <td>1</td>\n",
       "      <td>5</td>\n",
       "      <td>0</td>\n",
       "      <td>0</td>\n",
       "      <td>0</td>\n",
       "      <td>3</td>\n",
       "      <td>9600.0</td>\n",
       "      <td>7</td>\n",
       "      <td>28.561857</td>\n",
       "      <td>-80.577366</td>\n",
       "      <td>33.729186</td>\n",
       "      <td>-118.262015</td>\n",
       "    </tr>\n",
       "    <tr>\n",
       "      <th>24</th>\n",
       "      <td>2015-12-22 01:29:00+00:00</td>\n",
       "      <td>51</td>\n",
       "      <td>0</td>\n",
       "      <td>0</td>\n",
       "      <td>70.0</td>\n",
       "      <td>3.7</td>\n",
       "      <td>549054.000000</td>\n",
       "      <td>0</td>\n",
       "      <td>1</td>\n",
       "      <td>3</td>\n",
       "      <td>1</td>\n",
       "      <td>1</td>\n",
       "      <td>1</td>\n",
       "      <td>3</td>\n",
       "      <td>5200.0</td>\n",
       "      <td>1</td>\n",
       "      <td>28.561857</td>\n",
       "      <td>-80.577366</td>\n",
       "      <td>28.485833</td>\n",
       "      <td>-80.544444</td>\n",
       "    </tr>\n",
       "    <tr>\n",
       "      <th>25</th>\n",
       "      <td>2016-01-17 15:42:00+00:00</td>\n",
       "      <td>45</td>\n",
       "      <td>0</td>\n",
       "      <td>0</td>\n",
       "      <td>70.0</td>\n",
       "      <td>3.7</td>\n",
       "      <td>549054.000000</td>\n",
       "      <td>2</td>\n",
       "      <td>0</td>\n",
       "      <td>1</td>\n",
       "      <td>0</td>\n",
       "      <td>1</td>\n",
       "      <td>1</td>\n",
       "      <td>3</td>\n",
       "      <td>3700.0</td>\n",
       "      <td>1</td>\n",
       "      <td>34.632093</td>\n",
       "      <td>-120.610829</td>\n",
       "      <td>28.410400</td>\n",
       "      <td>-80.618800</td>\n",
       "    </tr>\n",
       "  </tbody>\n",
       "</table>\n",
       "</div>"
      ],
      "text/plain": [
       "                    uct_time  launch_name  rocket_name  rocket_boosters  \\\n",
       "18 2015-01-10 09:47:00+00:00           20            0                0   \n",
       "21 2015-04-14 20:10:00+00:00           21            0                0   \n",
       "23 2015-06-28 14:21:00+00:00           22            0                0   \n",
       "24 2015-12-22 01:29:00+00:00           51            0                0   \n",
       "25 2016-01-17 15:42:00+00:00           45            0                0   \n",
       "\n",
       "    rocket_height  rocket_diameter    rocket_mass  launchpad_name  \\\n",
       "18           70.0              3.7  549054.000000               0   \n",
       "21           70.0              3.7  549054.000000               0   \n",
       "23           70.0              3.7  556404.541667               0   \n",
       "24           70.0              3.7  549054.000000               0   \n",
       "25           70.0              3.7  549054.000000               2   \n",
       "\n",
       "    launchpad_region  landpad_name  landpad_type  landpad_region  outcome  \\\n",
       "18                 1             2             0               1        1   \n",
       "21                 1             2             0               1        1   \n",
       "23                 1             5             0               0        0   \n",
       "24                 1             3             1               1        1   \n",
       "25                 0             1             0               1        1   \n",
       "\n",
       "    payloads_type  payloads_mass  payloads_orbit  launchpad_geo_x  \\\n",
       "18              3         3669.0               1        28.561857   \n",
       "21              3         5875.0               8        28.561857   \n",
       "23              3         9600.0               7        28.561857   \n",
       "24              3         5200.0               1        28.561857   \n",
       "25              3         3700.0               1        34.632093   \n",
       "\n",
       "    launchpad_geo_y  landpad_geo_x  landpad_geo_y  \n",
       "18       -80.577366      28.410400     -80.618800  \n",
       "21       -80.577366      28.410400     -80.618800  \n",
       "23       -80.577366      33.729186    -118.262015  \n",
       "24       -80.577366      28.485833     -80.544444  \n",
       "25      -120.610829      28.410400     -80.618800  "
      ]
     },
     "execution_count": 91,
     "metadata": {},
     "output_type": "execute_result"
    }
   ],
   "source": [
    "raw_df.head()"
   ]
  },
  {
   "cell_type": "markdown",
   "metadata": {},
   "source": [
    "### Equal Width Discretization"
   ]
  },
  {
   "cell_type": "markdown",
   "metadata": {},
   "source": [
    "Fixed-width discretization is one common type of discretization approach in which the width or size of all the intervals remains the same. Equal-width discretization is a type of unsupervised discretization technique."
   ]
  },
  {
   "cell_type": "markdown",
   "metadata": {},
   "source": [
    "We will only perform discretization on the `payloads_mass` column. Let’s first plot a histogram for it."
   ]
  },
  {
   "cell_type": "code",
   "execution_count": 92,
   "metadata": {},
   "outputs": [
    {
     "data": {
      "image/png": "[encoded data removed]",
      "text/plain": [
       "<Figure size 1200x800 with 1 Axes>"
      ]
     },
     "metadata": {},
     "output_type": "display_data"
    }
   ],
   "source": [
    "sns.distplot(np.log(raw_df['payloads_mass']))\n",
    "plt.title(\"Payload mass distribution.\")\n",
    "plt.show()"
   ]
  },
  {
   "cell_type": "markdown",
   "metadata": {},
   "source": [
    "The histogram for the price column shows that our dataset is negatively skewed. We can use discretization on this type of data distribution."
   ]
  },
  {
   "cell_type": "markdown",
   "metadata": {},
   "source": [
    "- Step 01: Find the total payloads mass range by subtracting the minimum mass from the maximum mass."
   ]
  },
  {
   "cell_type": "code",
   "execution_count": 93,
   "metadata": {},
   "outputs": [],
   "source": [
    "# YOUR CODE HERE\n",
    "# raise NotImplementedError()\n",
    "# mass_range = ?"
   ]
  },
  {
   "cell_type": "code",
   "execution_count": 94,
   "metadata": {},
   "outputs": [
    {
     "ename": "NameError",
     "evalue": "name 'mass_range' is not defined",
     "output_type": "error",
     "traceback": [
      "\u001b[1;31m---------------------------------------------------------------------------\u001b[0m",
      "\u001b[1;31mNameError\u001b[0m                                 Traceback (most recent call last)",
      "Cell \u001b[1;32mIn[94], line 2\u001b[0m\n\u001b[0;32m      1\u001b[0m \u001b[38;5;66;03m# TEST\u001b[39;00m\n\u001b[1;32m----> 2\u001b[0m \u001b[38;5;28;01massert\u001b[39;00m adler32(\u001b[38;5;28mstr\u001b[39m(\u001b[43mmass_range\u001b[49m)\u001b[38;5;241m.\u001b[39mencode()) \u001b[38;5;241m==\u001b[39m \u001b[38;5;241m94306658\u001b[39m\n",
      "\u001b[1;31mNameError\u001b[0m: name 'mass_range' is not defined"
     ]
    }
   ],
   "source": [
    "# TEST\n",
    "assert adler32(str(mass_range).encode()) == 94306658"
   ]
  },
  {
   "cell_type": "markdown",
   "metadata": {},
   "source": [
    "- Step 02: Calculate the upper and upper bound for payloads\n",
    "\n",
    "*Hint*: The minimum payloads will be rounded off to floor, while the maximum payloads will be rounded off to ceil."
   ]
  },
  {
   "cell_type": "code",
   "execution_count": null,
   "metadata": {},
   "outputs": [],
   "source": [
    "# YOUR CODE HERE\n",
    "raise NotImplementedError()\n",
    "# lower_interval =?\n",
    "# upper_interval =?"
   ]
  },
  {
   "cell_type": "code",
   "execution_count": null,
   "metadata": {},
   "outputs": [],
   "source": [
    "# TEST\n",
    "assert adler32(str(lower_interval).encode()) == 20316314\n",
    "assert adler32(str(upper_interval).encode()) == 52297997"
   ]
  },
  {
   "cell_type": "markdown",
   "metadata": {},
   "source": [
    "- Step 3: Set up bins for visualization. We will make **4 bins** (you can understand why we need 4 bins by experimenting with 4 to 10 bins or the equation below). To generate bins, we will begin with the minimum value and then add the bin interval or length to it. To calculate the second interval, add the interval length to the upper limit of the first interval, and so on.\n",
    "\n",
    "$$\n",
    "\\text{no\\_of\\_bins} = \\dfrac{\\max - \\min}{h} = \\dfrac{\\max - \\min}{2 * IQR * n^{-1/3}} = \\dfrac{\\max - \\min}{2 * (Q3 - Q2) * n^{-1/3}}\n",
    "$$"
   ]
  },
  {
   "cell_type": "code",
   "execution_count": null,
   "metadata": {},
   "outputs": [],
   "source": [
    "# YOUR CODE HERE\n",
    "raise NotImplementedError()\n",
    "# interval_size =?\n",
    "# total_bins =?"
   ]
  },
  {
   "cell_type": "markdown",
   "metadata": {},
   "source": [
    "And you should give a label for each bin such as `bin_no_1`, `bin_no_2`, etc."
   ]
  },
  {
   "cell_type": "code",
   "execution_count": null,
   "metadata": {},
   "outputs": [],
   "source": [
    "# YOUR CODE HERE\n",
    "raise NotImplementedError()"
   ]
  },
  {
   "cell_type": "markdown",
   "metadata": {},
   "source": [
    "And maybe you want to use the Pandas libraries [`cut()` method](https://pandas.pydata.org/docs/reference/api/pandas.cut.html), it allows you to convert the continuous column values to numeric bin values."
   ]
  },
  {
   "cell_type": "code",
   "execution_count": null,
   "metadata": {},
   "outputs": [],
   "source": [
    "# YOUR CODE HERE\n",
    "raise NotImplementedError()"
   ]
  },
  {
   "cell_type": "markdown",
   "metadata": {},
   "source": [
    "Now, we will test by using a bar plot that shows the frequency of payloads mass in each bin."
   ]
  },
  {
   "cell_type": "code",
   "execution_count": null,
   "metadata": {},
   "outputs": [],
   "source": [
    "# TEST\n",
    "raw_df.groupby('payloads_mass_bins')['payloads_mass'].count().plot.bar()\n",
    "plt.title(\"Payloads mass discreted histogram.\")\n",
    "plt.show()"
   ]
  },
  {
   "cell_type": "markdown",
   "metadata": {},
   "source": [
    "**TODO: Describe your observation from chart**"
   ]
  },
  {
   "cell_type": "markdown",
   "metadata": {},
   "source": [
    "YOUR ANSWER HERE"
   ]
  },
  {
   "cell_type": "markdown",
   "metadata": {},
   "source": [
    "### Equal Frequency Discretization"
   ]
  },
  {
   "cell_type": "markdown",
   "metadata": {},
   "source": [
    "Equal frequency discretization is a discretization approach in which the bin width is automatically adjusted so that each bin contains exactly the same amount of records and has the same frequency. As a result, the bin intervals will vary. In this part, you'll apply it to the discrete `payloads_mass` column."
   ]
  },
  {
   "cell_type": "markdown",
   "metadata": {},
   "source": [
    "- Step 01: To convert a continuous column into equal frequency discretized bins, you maybe want to use the [\"qcut()\" method](https://pandas.pydata.org/docs/reference/api/pandas.qcut.html)."
   ]
  },
  {
   "cell_type": "code",
   "execution_count": null,
   "metadata": {},
   "outputs": [],
   "source": [
    "# YOUR CODE HERE\n",
    "raise NotImplementedError()"
   ]
  },
  {
   "cell_type": "markdown",
   "metadata": {},
   "source": [
    "- Step 02: Create bin labels"
   ]
  },
  {
   "cell_type": "code",
   "execution_count": null,
   "metadata": {},
   "outputs": [],
   "source": [
    "# YOUR CODE HERE\n",
    "raise NotImplementedError()"
   ]
  },
  {
   "cell_type": "markdown",
   "metadata": {},
   "source": [
    "- Step 03: Apply the Pandas libraries [`cut()` method](https://pandas.pydata.org/docs/reference/api/pandas.cut.html), it allows you to convert the continuous column values to numeric bin values."
   ]
  },
  {
   "cell_type": "code",
   "execution_count": null,
   "metadata": {},
   "outputs": [],
   "source": [
    "# YOUR CODE HERE\n",
    "raise NotImplementedError()"
   ]
  },
  {
   "cell_type": "markdown",
   "metadata": {},
   "source": [
    "Now, we will test by using a bar plot that shows the frequency of payloads mass in each bin."
   ]
  },
  {
   "cell_type": "code",
   "execution_count": null,
   "metadata": {},
   "outputs": [],
   "source": [
    "# TEST\n",
    "raw_df.groupby('payloads_mass_bins')['payloads_mass'].count().plot.bar()\n",
    "plt.show()"
   ]
  },
  {
   "cell_type": "markdown",
   "metadata": {},
   "source": [
    "**Bonus points** Study about K-Means Discretization, and Decision Tree Discretization."
   ]
  },
  {
   "cell_type": "markdown",
   "metadata": {},
   "source": [
    "YOUR ANSWER HERE (Optional)"
   ]
  },
  {
   "cell_type": "code",
   "execution_count": null,
   "metadata": {},
   "outputs": [],
   "source": [
    "# YOUR CODE HERE (Optional)\n",
    "# raise NotImplementedError()"
   ]
  },
  {
   "cell_type": "code",
   "execution_count": null,
   "metadata": {},
   "outputs": [],
   "source": [
    "# Exclude \"bins\" for next section\n",
    "raw_df = raw_df.drop([\"payloads_mass_bins\"], axis=1)"
   ]
  },
  {
   "cell_type": "markdown",
   "metadata": {},
   "source": [
    "## Outlier handling techniques (1 pts)"
   ]
  },
  {
   "cell_type": "markdown",
   "metadata": {},
   "source": [
    "There are some techniques that you can use to handle outliers:\n",
    "- Totally removing the outliers from the dataset.\n",
    "- Treating outliers as missing values, and then apply any techniques to filter them.\n",
    "- Applying discretization techniques to the dataset that will include the outlier along with other data points at the tail.\n",
    "- Capping and replacing them with maximum and minimum values that can be found via some techniques."
   ]
  },
  {
   "cell_type": "markdown",
   "metadata": {},
   "source": [
    "### Outlier Trimming"
   ]
  },
  {
   "cell_type": "markdown",
   "metadata": {},
   "source": [
    "Outlier trimming is an outlier handling technique that simply removes the outliers beyond a certain threshold value. And the easiest way to determine this threshold value is to use the IQR."
   ]
  },
  {
   "cell_type": "markdown",
   "metadata": {},
   "source": [
    "Let’s remove the outliers from the `payloads_mass` column of this dataset."
   ]
  },
  {
   "cell_type": "markdown",
   "metadata": {},
   "source": [
    "- Step 01: Using box plot to visualize the outliers."
   ]
  },
  {
   "cell_type": "code",
   "execution_count": null,
   "metadata": {},
   "outputs": [],
   "source": [
    "# YOUR CODE HERE"
   ]
  },
  {
   "cell_type": "markdown",
   "metadata": {},
   "source": [
    "Very lucky, we have no outliers. :D"
   ]
  },
  {
   "cell_type": "markdown",
   "metadata": {},
   "source": [
    "- Step 02: Calculate IQR and determine the lower bound and upper bound for `payloads_mass`"
   ]
  },
  {
   "cell_type": "code",
   "execution_count": null,
   "metadata": {},
   "outputs": [],
   "source": [
    "IQR = raw_df[\"payloads_mass\"].quantile(0.75) - raw_df[\"payloads_mass\"].quantile(0.25)\n",
    "\n",
    "lower_payloads_mass_limit = raw_df[\"payloads_mass\"].quantile(0.25) - (IQR * 1.5)\n",
    "upper_payloads_mass_limit = raw_df[\"payloads_mass\"].quantile(0.75) + (IQR * 1.5)\n",
    "\n",
    "print(f\"The lower bound for payloads limitation: {lower_payloads_mass_limit}\")\n",
    "print(f\"The upper bound for payloads limitation: {upper_payloads_mass_limit}\")"
   ]
  },
  {
   "cell_type": "markdown",
   "metadata": {},
   "source": [
    "- Step 03: Construct rule for trimming outliers."
   ]
  },
  {
   "cell_type": "code",
   "execution_count": null,
   "metadata": {},
   "outputs": [],
   "source": [
    "payloadsmass_outliers = np.where(\n",
    "    raw_df[\"payloads_mass\"] > upper_payloads_mass_limit,\n",
    "    True,\n",
    "    np.where(raw_df[\"payloads_mass\"] < lower_payloads_mass_limit, True, False),\n",
    ")"
   ]
  },
  {
   "cell_type": "markdown",
   "metadata": {},
   "source": [
    "- Step 04: Trimming outliers"
   ]
  },
  {
   "cell_type": "code",
   "execution_count": null,
   "metadata": {},
   "outputs": [],
   "source": [
    "rawdf_without_payloadsmass_outliers = raw_df.loc[~(payloadsmass_outliers), ]\n",
    "\n",
    "raw_df.shape, payloadsmass_outliers.shape"
   ]
  },
  {
   "cell_type": "markdown",
   "metadata": {},
   "source": [
    "TODO: What are the advantages and disadvantages of outlier trimming?"
   ]
  },
  {
   "cell_type": "markdown",
   "metadata": {},
   "source": [
    "YOUR ANSWER HERE"
   ]
  },
  {
   "cell_type": "markdown",
   "metadata": {},
   "source": [
    "### Outlier Capping Using IQR"
   ]
  },
  {
   "cell_type": "markdown",
   "metadata": {},
   "source": [
    "I am very smart to use IQR to demonstrate the above technique, and for this section, I don't have to demonstrate it again. :)"
   ]
  },
  {
   "cell_type": "markdown",
   "metadata": {},
   "source": [
    "TODO: Tell me, what is the IQR distance normally used to cap outliers via IQR?"
   ]
  },
  {
   "cell_type": "markdown",
   "metadata": {},
   "source": [
    "YOUR ANSWER HERE"
   ]
  },
  {
   "cell_type": "markdown",
   "metadata": {},
   "source": [
    "### Outlier Capping Using Mean & Standard Deviation"
   ]
  },
  {
   "cell_type": "markdown",
   "metadata": {},
   "source": [
    "Instead of using the IQR method, the upper and lower thresholds for outliers can be calculated via the mean and standard deviation method."
   ]
  },
  {
   "cell_type": "markdown",
   "metadata": {},
   "source": [
    "- Step 01: Determine the the upper and lower thresholds.\n",
    "\n",
    "`upper_bound` = `mean` + 3 * `sigma`\n",
    "\n",
    "`lower_bound` = `mean` - 3 * `sigma`"
   ]
  },
  {
   "cell_type": "code",
   "execution_count": null,
   "metadata": {},
   "outputs": [],
   "source": [
    "# YOUR CODE HERE\n",
    "raise NotImplementedError()"
   ]
  },
  {
   "cell_type": "markdown",
   "metadata": {},
   "source": [
    "- Step 02: Construct rule for trimming outliers."
   ]
  },
  {
   "cell_type": "code",
   "execution_count": null,
   "metadata": {},
   "outputs": [],
   "source": [
    "# YOUR CODE HERE\n",
    "raise NotImplementedError()"
   ]
  },
  {
   "cell_type": "markdown",
   "metadata": {},
   "source": [
    "- Step 03: Trimming outliers"
   ]
  },
  {
   "cell_type": "code",
   "execution_count": null,
   "metadata": {},
   "outputs": [],
   "source": [
    "# YOUR CODE HERE\n",
    "raise NotImplementedError()"
   ]
  },
  {
   "cell_type": "markdown",
   "metadata": {},
   "source": [
    "TODO: What are the advantages and disadvantages of using mean and standard deviation? Tell me, what is the quartile distance normally used to cap outliers via mean and standard deviation? Give your explaination."
   ]
  },
  {
   "cell_type": "markdown",
   "metadata": {},
   "source": [
    "YOUR ANSWER HERE"
   ]
  },
  {
   "cell_type": "markdown",
   "metadata": {},
   "source": [
    "### Outlier Capping Using Quantiles"
   ]
  },
  {
   "cell_type": "markdown",
   "metadata": {},
   "source": [
    "Furthermore, the upper and lower thresholds for outliers can be calculated via quantile information. We can use it to find outliers."
   ]
  },
  {
   "cell_type": "markdown",
   "metadata": {},
   "source": [
    "- Step 01: Determine the the upper and lower thresholds.\n",
    "\n",
    "`upper_bound` = `quantile` 90%\n",
    "\n",
    "`lower_bound` = `quantile` 10%"
   ]
  },
  {
   "cell_type": "code",
   "execution_count": null,
   "metadata": {},
   "outputs": [],
   "source": [
    "# YOUR CODE HERE\n",
    "raise NotImplementedError()"
   ]
  },
  {
   "cell_type": "markdown",
   "metadata": {},
   "source": [
    "- Step 02: Construct rule for trimming outliers."
   ]
  },
  {
   "cell_type": "code",
   "execution_count": null,
   "metadata": {},
   "outputs": [],
   "source": [
    "# YOUR CODE HERE\n",
    "raise NotImplementedError()"
   ]
  },
  {
   "cell_type": "markdown",
   "metadata": {},
   "source": [
    "- Step 03: Trimming outliers"
   ]
  },
  {
   "cell_type": "code",
   "execution_count": null,
   "metadata": {},
   "outputs": [],
   "source": [
    "# YOUR CODE HERE\n",
    "raise NotImplementedError()"
   ]
  },
  {
   "cell_type": "markdown",
   "metadata": {},
   "source": [
    "TODO: What are the advantages and disadvantages of using Quantiles?"
   ]
  },
  {
   "cell_type": "markdown",
   "metadata": {},
   "source": [
    "YOUR ANSWER HERE"
   ]
  },
  {
   "cell_type": "markdown",
   "metadata": {},
   "source": [
    "## Feature scaling techniques (2 pts)"
   ]
  },
  {
   "cell_type": "markdown",
   "metadata": {},
   "source": [
    "As you know, in any dataset, there are also many different attributes. And the attributes can have different magnitudes, and statistical information includes variances, standard deviations, mean values, etc. The difference in the scale or magnitude of attributes can actually affect statistical models, such as:\n",
    "- The dominance of large-scale variables\n",
    "- Gradient descent algorithm for convergence\n",
    "- Eclidean distance affects similarity among features."
   ]
  },
  {
   "cell_type": "markdown",
   "metadata": {},
   "source": [
    "In this section, I give you some techniques that can be applied in some situations."
   ]
  },
  {
   "cell_type": "markdown",
   "metadata": {},
   "source": [
    "### Standardisation"
   ]
  },
  {
   "cell_type": "markdown",
   "metadata": {},
   "source": [
    "Standardization is the processing of centering the variable at zero and standardizing the data variance to 1. Now, I will you an example for numerical variable in `raw_df` and visualize on `payloads_mass` attributes."
   ]
  },
  {
   "cell_type": "markdown",
   "metadata": {},
   "source": [
    "- Step 01: Init"
   ]
  },
  {
   "cell_type": "code",
   "execution_count": null,
   "metadata": {},
   "outputs": [],
   "source": [
    "scaler = StandardScaler()"
   ]
  },
  {
   "cell_type": "markdown",
   "metadata": {},
   "source": [
    "- Step 02: Fitting"
   ]
  },
  {
   "cell_type": "code",
   "execution_count": null,
   "metadata": {},
   "outputs": [],
   "source": [
    "scaler.fit(raw_df.drop([\"uct_time\"], axis=1))"
   ]
  },
  {
   "cell_type": "markdown",
   "metadata": {},
   "source": [
    "- Step 03: Transform data"
   ]
  },
  {
   "cell_type": "code",
   "execution_count": null,
   "metadata": {},
   "outputs": [],
   "source": [
    "raw_df_scaled = scaler.transform(raw_df.drop([\"uct_time\"], axis=1))\n",
    "raw_df_scaled = pd.DataFrame(raw_df_scaled, columns = raw_df.drop([\"uct_time\"], axis=1).columns)"
   ]
  },
  {
   "cell_type": "markdown",
   "metadata": {},
   "source": [
    "- Step 04: Test"
   ]
  },
  {
   "cell_type": "code",
   "execution_count": null,
   "metadata": {},
   "outputs": [],
   "source": [
    "raw_df_scaled.head()"
   ]
  },
  {
   "cell_type": "code",
   "execution_count": null,
   "metadata": {},
   "outputs": [],
   "source": [
    "fig, axes = plt.subplots(1, 2)\n",
    "\n",
    "raw_df[\"payloads_mass\"].plot(kind=\"kde\", ax=axes[0], color=\"red\")\n",
    "axes[0].set_title(\"Payloads mass before using Standardisation\")\n",
    "\n",
    "raw_df_scaled[\"payloads_mass\"].plot(kind=\"kde\", ax=axes[1], color=\"blue\")\n",
    "axes[1].set_title(\"Payloads mass after using Standardisation\")\n",
    "\n",
    "fig.suptitle(\"Comparing payloads mass before - after scaled.\")\n",
    "\n",
    "plt.show()"
   ]
  },
  {
   "cell_type": "markdown",
   "metadata": {},
   "source": [
    "**TODO: Describe your observation from chart**"
   ]
  },
  {
   "cell_type": "markdown",
   "metadata": {},
   "source": [
    "YOUR ANSWER HERE"
   ]
  },
  {
   "cell_type": "markdown",
   "metadata": {},
   "source": [
    "### Min/Max Scaling"
   ]
  },
  {
   "cell_type": "markdown",
   "metadata": {},
   "source": [
    "Min/max scaling subtracts each value by the minimum value, and then divide the result by the difference of minimum and maximum value in the dataset."
   ]
  },
  {
   "cell_type": "markdown",
   "metadata": {},
   "source": [
    "TODO: Use `sckit-learn` for applying min/max scaling to the `payloads_mass` column."
   ]
  },
  {
   "cell_type": "code",
   "execution_count": null,
   "metadata": {},
   "outputs": [],
   "source": [
    "# YOUR CODE HERE\n",
    "# raise NotImplementedError()"
   ]
  },
  {
   "cell_type": "markdown",
   "metadata": {},
   "source": [
    "**TODO: After visualizing the results, describe your observation from chart**"
   ]
  },
  {
   "cell_type": "markdown",
   "metadata": {},
   "source": [
    "YOUR ANSWER HERE"
   ]
  },
  {
   "cell_type": "markdown",
   "metadata": {},
   "source": [
    "### Mean Normalization"
   ]
  },
  {
   "cell_type": "markdown",
   "metadata": {},
   "source": [
    "Mean normalization is very similar to min/max scaling."
   ]
  },
  {
   "cell_type": "markdown",
   "metadata": {},
   "source": [
    "**TODO: Tell me what is the difference between mean normalization and min/ max scaling.**\n",
    "\n",
    "*Give your obervation here*"
   ]
  },
  {
   "cell_type": "markdown",
   "metadata": {},
   "source": [
    "TODO: Use `sckit-learn` for applying mean normalization to the `payloads_mass` column."
   ]
  },
  {
   "cell_type": "code",
   "execution_count": null,
   "metadata": {},
   "outputs": [],
   "source": [
    "# YOUR CODE HERE\n",
    "# raise NotImplementedError()"
   ]
  },
  {
   "cell_type": "markdown",
   "metadata": {},
   "source": [
    "**TODO: After visualizing the results, describe your observation from chart**"
   ]
  },
  {
   "cell_type": "markdown",
   "metadata": {},
   "source": [
    "YOUR ANSWER HERE"
   ]
  },
  {
   "cell_type": "markdown",
   "metadata": {},
   "source": [
    "### Maximum Absolute Scaling"
   ]
  },
  {
   "cell_type": "markdown",
   "metadata": {},
   "source": [
    "Maximum absolute scaling is probably the simplest of all the scaling techniques. In maximum absolute scaling, each data point is simply divided by the maximum value."
   ]
  },
  {
   "cell_type": "markdown",
   "metadata": {},
   "source": [
    "TODO: Use `sckit-learn` for applying maximum absolute scaling to the `payloads_mass` column."
   ]
  },
  {
   "cell_type": "code",
   "execution_count": null,
   "metadata": {},
   "outputs": [],
   "source": [
    "# YOUR CODE HERE\n",
    "# raise NotImplementedError()"
   ]
  },
  {
   "cell_type": "markdown",
   "metadata": {},
   "source": [
    "**TODO: After visualizing the results, describe your observation from chart**"
   ]
  },
  {
   "cell_type": "markdown",
   "metadata": {},
   "source": [
    "YOUR ANSWER HERE"
   ]
  },
  {
   "cell_type": "markdown",
   "metadata": {},
   "source": [
    "### Median and Quantile Scaling"
   ]
  },
  {
   "cell_type": "markdown",
   "metadata": {},
   "source": [
    "In median and quantile scaling, the mean of the dataset is subtracted from all the data points, and the result is divided by the difference between the first quartile and the 3rd quartile."
   ]
  },
  {
   "cell_type": "code",
   "execution_count": null,
   "metadata": {},
   "outputs": [],
   "source": [
    "# YOUR CODE HERE\n",
    "# raise NotImplementedError()"
   ]
  },
  {
   "cell_type": "markdown",
   "metadata": {},
   "source": [
    "**TODO: After visualizing the results, describe your observation from chart**"
   ]
  },
  {
   "cell_type": "markdown",
   "metadata": {},
   "source": [
    "YOUR ANSWER HERE"
   ]
  },
  {
   "cell_type": "markdown",
   "metadata": {},
   "source": [
    "### Vector Unit Length Scaling"
   ]
  },
  {
   "cell_type": "markdown",
   "metadata": {},
   "source": [
    "In unit length scaling, a new feature vector is created by dividing feature vector by the Manhattan distance (l1 norm), or by the Euclidian distance (l2 norm)."
   ]
  },
  {
   "cell_type": "markdown",
   "metadata": {},
   "source": [
    "TODO: Use `sckit-learn` for applying vector unit length scaling to the `payloads_mass` column."
   ]
  },
  {
   "cell_type": "code",
   "execution_count": null,
   "metadata": {},
   "outputs": [],
   "source": [
    "# YOUR CODE HERE\n",
    "# raise NotImplementedError()"
   ]
  },
  {
   "cell_type": "markdown",
   "metadata": {},
   "source": [
    "**TODO: After visualizing the results, describe your observation from chart**"
   ]
  },
  {
   "cell_type": "markdown",
   "metadata": {},
   "source": [
    "YOUR ANSWER HERE"
   ]
  },
  {
   "cell_type": "markdown",
   "metadata": {},
   "source": [
    "### When and where to apply these normalization techniques?"
   ]
  },
  {
   "cell_type": "markdown",
   "metadata": {},
   "source": [
    "**Question**: After these a bund of normalization techniques, tell me when and where to apply these normalization techniques?"
   ]
  },
  {
   "cell_type": "markdown",
   "metadata": {},
   "source": [
    "YOUR ANSWER HERE"
   ]
  },
  {
   "cell_type": "markdown",
   "metadata": {},
   "source": [
    "End of your lab 01."
   ]
  }
 ],
 "metadata": {
  "kernelspec": {
   "display_name": "venv",
   "language": "python",
   "name": "python3"
  },
  "language_info": {
   "codemirror_mode": {
    "name": "ipython",
    "version": 3
   },
   "file_extension": ".py",
   "mimetype": "text/x-python",
   "name": "python",
   "nbconvert_exporter": "python",
   "pygments_lexer": "ipython3",
   "version": "3.11.0"
  }
 },
 "nbformat": 4,
 "nbformat_minor": 2
}
