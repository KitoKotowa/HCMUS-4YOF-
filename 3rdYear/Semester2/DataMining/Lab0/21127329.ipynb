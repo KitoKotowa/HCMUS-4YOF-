{
 "cells": [
  {
   "cell_type": "markdown",
   "metadata": {},
   "source": [
    "# Lab 00: Warmup"
   ]
  },
  {
   "cell_type": "markdown",
   "metadata": {},
   "source": [
    "- Student ID: 21127329  \n",
    "- Student name: Châu Tấn Kiệt"
   ]
  },
  {
   "cell_type": "markdown",
   "metadata": {},
   "source": [
    "## Instructions"
   ]
  },
  {
   "cell_type": "markdown",
   "metadata": {},
   "source": [
    "### How to do your homework\n",
    "\n",
    "To finish the project, fill in:\n",
    "- ```YOUR CODE HERE``` in code cells\n",
    "\n",
    "- ```Your answer here``` in text cells."
   ]
  },
  {
   "cell_type": "markdown",
   "metadata": {},
   "source": [
    "**NOTE:**\n",
    "\n",
    "- Your project must be finished by your own self. You may discuss with the others, but must not copy (partially or entirely) their codes or solutions. You will receive a <font color='red'>0 point</font> for this project if you violate this plagiarism rule. \n",
    "- Because our plagiarism checker is very sensitive, if the plagiarism check result is <font color='red'>greater than 60%</font>, your work will receive <font color='red'>0 point</font>. Therefore we will not deal with plagiarism cases.\n",
    "\n",
    "- You can create new cells to clarify your code / answer, however, please <font color='red'>do not delete any pre-defined code cells or test case cells</font> as it may affect the grading results."
   ]
  },
  {
   "cell_type": "markdown",
   "metadata": {},
   "source": [
    "### How to submit\n",
    "\n",
    "In the grading stage, I will first select `Kernel` - `Restart Kernel & Run All Cells` to restart and run all cells in your notebook. As a result, before submitting your project, you should run `Kernel` - `Restart Kernel & Run All Cells` to ensure your code will run as you expect.\n",
    "\n",
    "After that, rename your notebook as `ID1.ipynb` (e.g. `2112001.ipynb`) and submit on Moodle.\n",
    "\n",
    "<font color=yellow>Please follow the above submission guidelines. Any violation of these instructions may cost you some penalty points (0-50%)!!!</font>\n"
   ]
  },
  {
   "cell_type": "markdown",
   "metadata": {},
   "source": [
    "### Contents\n",
    "\n",
    "- Coding environment setup."
   ]
  },
  {
   "cell_type": "markdown",
   "metadata": {},
   "source": [
    "## Import libs\n",
    "**Note:** <span style=\"color:yellow\">All packages you can use in this lab are imported in the cell below. Please don't modify this, just run that.</span>"
   ]
  },
  {
   "cell_type": "code",
   "execution_count": 1,
   "metadata": {},
   "outputs": [],
   "source": [
    "import warnings\n",
    "warnings.filterwarnings('ignore')"
   ]
  },
  {
   "cell_type": "code",
   "execution_count": 2,
   "metadata": {},
   "outputs": [],
   "source": [
    "import sys"
   ]
  },
  {
   "cell_type": "code",
   "execution_count": 3,
   "metadata": {},
   "outputs": [
    {
     "data": {
      "text/plain": [
       "'c:\\\\Users\\\\ACER\\\\HCMUS-4YOS\\\\3rd Year\\\\Semester 2\\\\Data Mining\\\\Lab0\\\\.venv\\\\Scripts\\\\python.exe'"
      ]
     },
     "execution_count": 3,
     "metadata": {},
     "output_type": "execute_result"
    }
   ],
   "source": [
    "# Checking Python virtual env\n",
    "sys.executable"
   ]
  },
  {
   "cell_type": "code",
   "execution_count": 5,
   "metadata": {},
   "outputs": [
    {
     "name": "stdout",
     "output_type": "stream",
     "text": [
      "Collecting matplotlib==3.7.1 (from -r requirements.txt (line 1))\n",
      "  Downloading matplotlib-3.7.1-cp310-cp310-win_amd64.whl (7.6 MB)\n",
      "     ---------------------------------------- 0.0/7.6 MB ? eta -:--:--\n",
      "      --------------------------------------- 0.1/7.6 MB 2.2 MB/s eta 0:00:04\n",
      "     - -------------------------------------- 0.3/7.6 MB 2.9 MB/s eta 0:00:03\n",
      "     --- ------------------------------------ 0.7/7.6 MB 4.6 MB/s eta 0:00:02\n",
      "     ----- ---------------------------------- 1.0/7.6 MB 6.0 MB/s eta 0:00:02\n",
      "     ----- ---------------------------------- 1.0/7.6 MB 6.0 MB/s eta 0:00:02\n",
      "     ----- ---------------------------------- 1.0/7.6 MB 6.0 MB/s eta 0:00:02\n",
      "     ----- ---------------------------------- 1.0/7.6 MB 6.0 MB/s eta 0:00:02\n",
      "     ------ --------------------------------- 1.2/7.6 MB 3.1 MB/s eta 0:00:03\n",
      "     ------ --------------------------------- 1.3/7.6 MB 3.0 MB/s eta 0:00:03\n",
      "     ---------------- ----------------------- 3.1/7.6 MB 6.7 MB/s eta 0:00:01\n",
      "     ---------------- ----------------------- 3.1/7.6 MB 6.7 MB/s eta 0:00:01\n",
      "     ---------------- ----------------------- 3.1/7.6 MB 6.7 MB/s eta 0:00:01\n",
      "     ---------------- ----------------------- 3.1/7.6 MB 6.7 MB/s eta 0:00:01\n",
      "     ------------------- -------------------- 3.7/7.6 MB 5.6 MB/s eta 0:00:01\n",
      "     ------------------------ --------------- 4.7/7.6 MB 6.6 MB/s eta 0:00:01\n",
      "     ----------------------------- ---------- 5.7/7.6 MB 7.6 MB/s eta 0:00:01\n",
      "     -------------------------------- ------- 6.3/7.6 MB 8.0 MB/s eta 0:00:01\n",
      "     -------------------------------- ------- 6.3/7.6 MB 8.0 MB/s eta 0:00:01\n",
      "     -------------------------------- ------- 6.3/7.6 MB 8.0 MB/s eta 0:00:01\n",
      "     ----------------------------------- ---- 6.7/7.6 MB 7.2 MB/s eta 0:00:01\n",
      "     ---------------------------------------  7.6/7.6 MB 7.7 MB/s eta 0:00:01\n",
      "     ---------------------------------------- 7.6/7.6 MB 7.5 MB/s eta 0:00:00\n",
      "Collecting numpy==1.24.1 (from -r requirements.txt (line 2))\n",
      "  Downloading numpy-1.24.1-cp310-cp310-win_amd64.whl (14.8 MB)\n",
      "     ---------------------------------------- 0.0/14.8 MB ? eta -:--:--\n",
      "     -- ------------------------------------- 1.0/14.8 MB 21.1 MB/s eta 0:00:01\n",
      "     ----- ---------------------------------- 2.0/14.8 MB 20.8 MB/s eta 0:00:01\n",
      "     ------- -------------------------------- 3.0/14.8 MB 20.9 MB/s eta 0:00:01\n",
      "     ---------- ----------------------------- 4.0/14.8 MB 21.2 MB/s eta 0:00:01\n",
      "     ------------- -------------------------- 5.0/14.8 MB 21.3 MB/s eta 0:00:01\n",
      "     ---------------- ----------------------- 6.0/14.8 MB 21.2 MB/s eta 0:00:01\n",
      "     ------------------ --------------------- 6.9/14.8 MB 22.1 MB/s eta 0:00:01\n",
      "     --------------------- ------------------ 7.9/14.8 MB 21.9 MB/s eta 0:00:01\n",
      "     ------------------------ --------------- 8.9/14.8 MB 21.1 MB/s eta 0:00:01\n",
      "     -------------------------- ------------ 10.1/14.8 MB 21.4 MB/s eta 0:00:01\n",
      "     ----------------------------- --------- 11.1/14.8 MB 21.1 MB/s eta 0:00:01\n",
      "     ------------------------------- ------- 12.1/14.8 MB 21.1 MB/s eta 0:00:01\n",
      "     ---------------------------------- ---- 13.0/14.8 MB 21.8 MB/s eta 0:00:01\n",
      "     ------------------------------------ -- 14.0/14.8 MB 21.1 MB/s eta 0:00:01\n",
      "     --------------------------------------  14.8/14.8 MB 21.8 MB/s eta 0:00:01\n",
      "     --------------------------------------- 14.8/14.8 MB 20.5 MB/s eta 0:00:00\n",
      "Collecting pandas==1.5.3 (from -r requirements.txt (line 3))\n",
      "  Downloading pandas-1.5.3-cp310-cp310-win_amd64.whl (10.4 MB)\n",
      "     ---------------------------------------- 0.0/10.4 MB ? eta -:--:--\n",
      "     ---- ----------------------------------- 1.2/10.4 MB 25.1 MB/s eta 0:00:01\n",
      "     -------- ------------------------------- 2.2/10.4 MB 22.9 MB/s eta 0:00:01\n",
      "     ------------ --------------------------- 3.2/10.4 MB 23.1 MB/s eta 0:00:01\n",
      "     ---------------- ----------------------- 4.4/10.4 MB 23.5 MB/s eta 0:00:01\n",
      "     -------------------- ------------------- 5.4/10.4 MB 23.1 MB/s eta 0:00:01\n",
      "     ------------------------ --------------- 6.4/10.4 MB 22.6 MB/s eta 0:00:01\n",
      "     ---------------------------- ----------- 7.5/10.4 MB 22.8 MB/s eta 0:00:01\n",
      "     ------------------------------ --------- 8.0/10.4 MB 21.3 MB/s eta 0:00:01\n",
      "     ---------------------------------- ----- 8.9/10.4 MB 21.0 MB/s eta 0:00:01\n",
      "     ------------------------------------- - 10.0/10.4 MB 21.2 MB/s eta 0:00:01\n",
      "     --------------------------------------- 10.4/10.4 MB 20.5 MB/s eta 0:00:00\n",
      "Collecting scikit-learn==1.2.2 (from -r requirements.txt (line 4))\n",
      "  Downloading scikit_learn-1.2.2-cp310-cp310-win_amd64.whl (8.3 MB)\n",
      "     ---------------------------------------- 0.0/8.3 MB ? eta -:--:--\n",
      "     ---- ----------------------------------- 1.0/8.3 MB 33.0 MB/s eta 0:00:01\n",
      "     ---------- ----------------------------- 2.2/8.3 MB 27.6 MB/s eta 0:00:01\n",
      "     --------------- ------------------------ 3.3/8.3 MB 26.4 MB/s eta 0:00:01\n",
      "     -------------------- ------------------- 4.4/8.3 MB 25.2 MB/s eta 0:00:01\n",
      "     -------------------------- ------------- 5.5/8.3 MB 24.9 MB/s eta 0:00:01\n",
      "     ------------------------------- -------- 6.6/8.3 MB 23.3 MB/s eta 0:00:01\n",
      "     ------------------------------------ --- 7.7/8.3 MB 24.6 MB/s eta 0:00:01\n",
      "     ---------------------------------------- 8.3/8.3 MB 23.1 MB/s eta 0:00:00\n",
      "Collecting seaborn==0.13.0 (from -r requirements.txt (line 5))\n",
      "  Using cached seaborn-0.13.0-py3-none-any.whl.metadata (5.3 kB)\n",
      "Collecting openpyxl==3.1.2 (from -r requirements.txt (line 6))\n",
      "  Using cached openpyxl-3.1.2-py2.py3-none-any.whl (249 kB)\n",
      "Collecting contourpy>=1.0.1 (from matplotlib==3.7.1->-r requirements.txt (line 1))\n",
      "  Downloading contourpy-1.2.0-cp310-cp310-win_amd64.whl.metadata (5.8 kB)\n",
      "Collecting cycler>=0.10 (from matplotlib==3.7.1->-r requirements.txt (line 1))\n",
      "  Using cached cycler-0.12.1-py3-none-any.whl.metadata (3.8 kB)\n",
      "Collecting fonttools>=4.22.0 (from matplotlib==3.7.1->-r requirements.txt (line 1))\n",
      "  Downloading fonttools-4.48.1-cp310-cp310-win_amd64.whl.metadata (162 kB)\n",
      "     ---------------------------------------- 0.0/162.2 kB ? eta -:--:--\n",
      "     -------------------------------------- 162.2/162.2 kB 9.5 MB/s eta 0:00:00\n",
      "Collecting kiwisolver>=1.0.1 (from matplotlib==3.7.1->-r requirements.txt (line 1))\n",
      "  Downloading kiwisolver-1.4.5-cp310-cp310-win_amd64.whl.metadata (6.5 kB)\n",
      "Requirement already satisfied: packaging>=20.0 in c:\\users\\acer\\hcmus-4yos\\3rd year\\semester 2\\data mining\\lab0\\.venv\\lib\\site-packages (from matplotlib==3.7.1->-r requirements.txt (line 1)) (23.2)\n",
      "Collecting pillow>=6.2.0 (from matplotlib==3.7.1->-r requirements.txt (line 1))\n",
      "  Downloading pillow-10.2.0-cp310-cp310-win_amd64.whl.metadata (9.9 kB)\n",
      "Collecting pyparsing>=2.3.1 (from matplotlib==3.7.1->-r requirements.txt (line 1))\n",
      "  Using cached pyparsing-3.1.1-py3-none-any.whl.metadata (5.1 kB)\n",
      "Requirement already satisfied: python-dateutil>=2.7 in c:\\users\\acer\\hcmus-4yos\\3rd year\\semester 2\\data mining\\lab0\\.venv\\lib\\site-packages (from matplotlib==3.7.1->-r requirements.txt (line 1)) (2.8.2)\n",
      "Collecting pytz>=2020.1 (from pandas==1.5.3->-r requirements.txt (line 3))\n",
      "  Using cached pytz-2024.1-py2.py3-none-any.whl.metadata (22 kB)\n",
      "Collecting scipy>=1.3.2 (from scikit-learn==1.2.2->-r requirements.txt (line 4))\n",
      "  Downloading scipy-1.12.0-cp310-cp310-win_amd64.whl.metadata (60 kB)\n",
      "     ---------------------------------------- 0.0/60.4 kB ? eta -:--:--\n",
      "     ---------------------------------------- 60.4/60.4 kB 3.3 MB/s eta 0:00:00\n",
      "Collecting joblib>=1.1.1 (from scikit-learn==1.2.2->-r requirements.txt (line 4))\n",
      "  Using cached joblib-1.3.2-py3-none-any.whl.metadata (5.4 kB)\n",
      "Collecting threadpoolctl>=2.0.0 (from scikit-learn==1.2.2->-r requirements.txt (line 4))\n",
      "  Using cached threadpoolctl-3.2.0-py3-none-any.whl.metadata (10.0 kB)\n",
      "Collecting et-xmlfile (from openpyxl==3.1.2->-r requirements.txt (line 6))\n",
      "  Using cached et_xmlfile-1.1.0-py3-none-any.whl (4.7 kB)\n",
      "Requirement already satisfied: six>=1.5 in c:\\users\\acer\\hcmus-4yos\\3rd year\\semester 2\\data mining\\lab0\\.venv\\lib\\site-packages (from python-dateutil>=2.7->matplotlib==3.7.1->-r requirements.txt (line 1)) (1.16.0)\n",
      "Using cached seaborn-0.13.0-py3-none-any.whl (294 kB)\n",
      "Downloading contourpy-1.2.0-cp310-cp310-win_amd64.whl (186 kB)\n",
      "   ---------------------------------------- 0.0/186.7 kB ? eta -:--:--\n",
      "   --------------------------------------- 186.7/186.7 kB 11.0 MB/s eta 0:00:00\n",
      "Using cached cycler-0.12.1-py3-none-any.whl (8.3 kB)\n",
      "Downloading fonttools-4.48.1-cp310-cp310-win_amd64.whl (2.2 MB)\n",
      "   ---------------------------------------- 0.0/2.2 MB ? eta -:--:--\n",
      "   -------------- ------------------------- 0.8/2.2 MB 24.8 MB/s eta 0:00:01\n",
      "   ------------------------------- -------- 1.7/2.2 MB 18.5 MB/s eta 0:00:01\n",
      "   ---------------------------------------- 2.2/2.2 MB 17.4 MB/s eta 0:00:00\n",
      "Using cached joblib-1.3.2-py3-none-any.whl (302 kB)\n",
      "Downloading kiwisolver-1.4.5-cp310-cp310-win_amd64.whl (56 kB)\n",
      "   ---------------------------------------- 0.0/56.1 kB ? eta -:--:--\n",
      "   ---------------------------------------- 56.1/56.1 kB ? eta 0:00:00\n",
      "Downloading pillow-10.2.0-cp310-cp310-win_amd64.whl (2.6 MB)\n",
      "   ---------------------------------------- 0.0/2.6 MB ? eta -:--:--\n",
      "   ---------------- ----------------------- 1.1/2.6 MB 23.3 MB/s eta 0:00:01\n",
      "   ------------------------------- -------- 2.1/2.6 MB 26.5 MB/s eta 0:00:01\n",
      "   ---------------------------------------- 2.6/2.6 MB 20.9 MB/s eta 0:00:00\n",
      "Using cached pyparsing-3.1.1-py3-none-any.whl (103 kB)\n",
      "Using cached pytz-2024.1-py2.py3-none-any.whl (505 kB)\n",
      "Downloading scipy-1.12.0-cp310-cp310-win_amd64.whl (46.2 MB)\n",
      "   ---------------------------------------- 0.0/46.2 MB ? eta -:--:--\n",
      "    --------------------------------------- 0.8/46.2 MB 26.1 MB/s eta 0:00:02\n",
      "   - -------------------------------------- 1.8/46.2 MB 22.7 MB/s eta 0:00:02\n",
      "   -- ------------------------------------- 2.7/46.2 MB 21.7 MB/s eta 0:00:03\n",
      "   --- ------------------------------------ 3.5/46.2 MB 20.4 MB/s eta 0:00:03\n",
      "   --- ------------------------------------ 4.4/46.2 MB 20.2 MB/s eta 0:00:03\n",
      "   ---- ----------------------------------- 5.2/46.2 MB 19.7 MB/s eta 0:00:03\n",
      "   ----- ---------------------------------- 6.1/46.2 MB 19.6 MB/s eta 0:00:03\n",
      "   ------ --------------------------------- 7.0/46.2 MB 19.6 MB/s eta 0:00:03\n",
      "   ------- -------------------------------- 8.1/46.2 MB 19.9 MB/s eta 0:00:02\n",
      "   ------- -------------------------------- 9.0/46.2 MB 19.8 MB/s eta 0:00:02\n",
      "   -------- ------------------------------- 9.9/46.2 MB 19.8 MB/s eta 0:00:02\n",
      "   --------- ------------------------------ 10.9/46.2 MB 19.2 MB/s eta 0:00:02\n",
      "   ---------- ----------------------------- 11.7/46.2 MB 19.3 MB/s eta 0:00:02\n",
      "   ---------- ----------------------------- 12.6/46.2 MB 19.3 MB/s eta 0:00:02\n",
      "   ----------- ---------------------------- 13.5/46.2 MB 19.3 MB/s eta 0:00:02\n",
      "   ------------ --------------------------- 14.3/46.2 MB 19.3 MB/s eta 0:00:02\n",
      "   ------------- -------------------------- 15.2/46.2 MB 19.3 MB/s eta 0:00:02\n",
      "   ------------- -------------------------- 16.1/46.2 MB 19.3 MB/s eta 0:00:02\n",
      "   -------------- ------------------------- 17.1/46.2 MB 19.2 MB/s eta 0:00:02\n",
      "   --------------- ------------------------ 18.0/46.2 MB 19.2 MB/s eta 0:00:02\n",
      "   ---------------- ----------------------- 19.0/46.2 MB 19.3 MB/s eta 0:00:02\n",
      "   ----------------- ---------------------- 19.9/46.2 MB 19.3 MB/s eta 0:00:02\n",
      "   ----------------- ---------------------- 20.7/46.2 MB 19.3 MB/s eta 0:00:02\n",
      "   ------------------ --------------------- 21.7/46.2 MB 19.3 MB/s eta 0:00:02\n",
      "   ------------------- -------------------- 22.7/46.2 MB 19.3 MB/s eta 0:00:02\n",
      "   -------------------- ------------------- 23.7/46.2 MB 19.8 MB/s eta 0:00:02\n",
      "   --------------------- ------------------ 24.6/46.2 MB 19.8 MB/s eta 0:00:02\n",
      "   ---------------------- ----------------- 25.5/46.2 MB 19.8 MB/s eta 0:00:02\n",
      "   ---------------------- ----------------- 26.5/46.2 MB 20.5 MB/s eta 0:00:01\n",
      "   ----------------------- ---------------- 27.3/46.2 MB 19.9 MB/s eta 0:00:01\n",
      "   ------------------------ --------------- 28.2/46.2 MB 19.9 MB/s eta 0:00:01\n",
      "   ------------------------- -------------- 29.2/46.2 MB 19.8 MB/s eta 0:00:01\n",
      "   ------------------------- -------------- 30.0/46.2 MB 19.8 MB/s eta 0:00:01\n",
      "   -------------------------- ------------- 30.8/46.2 MB 20.5 MB/s eta 0:00:01\n",
      "   --------------------------- ------------ 31.7/46.2 MB 19.8 MB/s eta 0:00:01\n",
      "   ---------------------------- ----------- 32.5/46.2 MB 19.2 MB/s eta 0:00:01\n",
      "   ----------------------------- ---------- 33.5/46.2 MB 19.3 MB/s eta 0:00:01\n",
      "   ----------------------------- ---------- 34.4/46.2 MB 19.3 MB/s eta 0:00:01\n",
      "   ------------------------------ --------- 35.3/46.2 MB 19.3 MB/s eta 0:00:01\n",
      "   ------------------------------- -------- 36.2/46.2 MB 18.7 MB/s eta 0:00:01\n",
      "   -------------------------------- ------- 37.1/46.2 MB 19.3 MB/s eta 0:00:01\n",
      "   -------------------------------- ------- 38.1/46.2 MB 19.3 MB/s eta 0:00:01\n",
      "   --------------------------------- ------ 39.0/46.2 MB 19.2 MB/s eta 0:00:01\n",
      "   ---------------------------------- ----- 40.0/46.2 MB 19.2 MB/s eta 0:00:01\n",
      "   ----------------------------------- ---- 40.9/46.2 MB 19.3 MB/s eta 0:00:01\n",
      "   ------------------------------------ --- 42.0/46.2 MB 19.9 MB/s eta 0:00:01\n",
      "   ------------------------------------- -- 43.0/46.2 MB 20.5 MB/s eta 0:00:01\n",
      "   -------------------------------------- - 44.1/46.2 MB 20.5 MB/s eta 0:00:01\n",
      "   ---------------------------------------  45.1/46.2 MB 21.1 MB/s eta 0:00:01\n",
      "   ---------------------------------------  46.0/46.2 MB 21.1 MB/s eta 0:00:01\n",
      "   ---------------------------------------  46.2/46.2 MB 20.5 MB/s eta 0:00:01\n",
      "   ---------------------------------------  46.2/46.2 MB 20.5 MB/s eta 0:00:01\n",
      "   ---------------------------------------- 46.2/46.2 MB 16.8 MB/s eta 0:00:00\n",
      "Using cached threadpoolctl-3.2.0-py3-none-any.whl (15 kB)\n",
      "Installing collected packages: pytz, threadpoolctl, pyparsing, pillow, numpy, kiwisolver, joblib, fonttools, et-xmlfile, cycler, scipy, pandas, openpyxl, contourpy, scikit-learn, matplotlib, seaborn\n",
      "Successfully installed contourpy-1.2.0 cycler-0.12.1 et-xmlfile-1.1.0 fonttools-4.48.1 joblib-1.3.2 kiwisolver-1.4.5 matplotlib-3.7.1 numpy-1.24.1 openpyxl-3.1.2 pandas-1.5.3 pillow-10.2.0 pyparsing-3.1.1 pytz-2024.1 scikit-learn-1.2.2 scipy-1.12.0 seaborn-0.13.0 threadpoolctl-3.2.0\n",
      "Note: you may need to restart the kernel to use updated packages.\n"
     ]
    }
   ],
   "source": [
    "%pip install -r requirements.txt"
   ]
  },
  {
   "cell_type": "code",
   "execution_count": null,
   "metadata": {},
   "outputs": [],
   "source": [
    "# --target=\"c:\\users\\acer\\appdata\\local\\programs\\python\\python310\\lib\\site-package\""
   ]
  },
  {
   "cell_type": "markdown",
   "metadata": {},
   "source": [
    "## Question"
   ]
  },
  {
   "cell_type": "markdown",
   "metadata": {},
   "source": [
    "**Did you completed Introduction to DS course or Programming for DS course?**"
   ]
  },
  {
   "cell_type": "markdown",
   "metadata": {},
   "source": [
    "No, I haven't. "
   ]
  }
 ],
 "metadata": {
  "kernelspec": {
   "display_name": "pytorch",
   "language": "python",
   "name": "python3"
  },
  "language_info": {
   "codemirror_mode": {
    "name": "ipython",
    "version": 3
   },
   "file_extension": ".py",
   "mimetype": "text/x-python",
   "name": "python",
   "nbconvert_exporter": "python",
   "pygments_lexer": "ipython3",
   "version": "3.10.8"
  }
 },
 "nbformat": 4,
 "nbformat_minor": 2
}
